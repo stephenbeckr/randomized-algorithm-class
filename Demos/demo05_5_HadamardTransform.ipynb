{
  "nbformat": 4,
  "nbformat_minor": 0,
  "metadata": {
    "colab": {
      "name": "demo05_5_HadamardTransform.ipynb",
      "provenance": [],
      "authorship_tag": "ABX9TyP+qLb3wUJs7AdF53IjYWs3",
      "include_colab_link": true
    },
    "kernelspec": {
      "name": "python3",
      "display_name": "Python 3"
    },
    "language_info": {
      "name": "python"
    }
  },
  "cells": [
    {
      "cell_type": "markdown",
      "metadata": {
        "id": "view-in-github",
        "colab_type": "text"
      },
      "source": [
        "<a href=\"https://colab.research.google.com/github/stephenbeckr/randomized-algorithm-class/blob/master/Demos/demo05_5_HadamardTransform.ipynb\" target=\"_parent\"><img src=\"https://colab.research.google.com/assets/colab-badge.svg\" alt=\"Open In Colab\"/></a>"
      ]
    },
    {
      "cell_type": "markdown",
      "metadata": {
        "id": "pM8Ir45n6NEy"
      },
      "source": [
        "# Demo 5.5 Hadamard Transform\n",
        "The [Fast Walsh-Hadamard Transform](https://en.wikipedia.org/wiki/Fast_Walsh%E2%80%93Hadamard_transform) is an orthogonal (up to scaling) linear operator that can be applied to vectors of size $n=2^d$ for some positive integer $d$.  It can be applied in $n \\log_2 n$ flops.\n",
        "\n",
        "Here we show a simple implementation (the Matlab version of this, [Hadamard_teaching_code.m](https://github.com/stephenbeckr/randomized-algorithm-class/blob/master/Code/Hadamard_teaching_code.m), is already considerably faster than Matlab's builtin [fwht](https://www.mathworks.com/help/signal/ref/fwht.html)) that follows directly from the properties of the [Kronecker product](https://en.wikipedia.org/wiki/Kronecker_product#Matrix_equations), namely\n",
        "$$\n",
        "( B \\otimes A ) \\text{vec}(X) = \\text{vec}(AXB^T)\n",
        "$$\n",
        "The Hadamard matrix $H_d$ can be defined as\n",
        "$$\n",
        "H_d = H_1 \\otimes H_{d-1}\n",
        "$$\n",
        "where\n",
        "$$\n",
        "H_1 = H_1^T = \\begin{bmatrix} 1 & 1 \\\\ 1 & -1 \\end{bmatrix}.\n",
        "$$"
      ]
    },
    {
      "cell_type": "code",
      "metadata": {
        "id": "1LrxmNBjmaZZ"
      },
      "source": [
        "import numpy as np\n",
        "from scipy.sparse.linalg import LinearOperator\n",
        "import scipy.linalg\n",
        "from numpy.linalg import norm\n",
        "from timeit import default_timer as timer\n",
        "from numpy.random import default_rng\n",
        "from matplotlib import pyplot as plt\n",
        "from matplotlib.pyplot import figure"
      ],
      "execution_count": 43,
      "outputs": []
    },
    {
      "cell_type": "code",
      "metadata": {
        "id": "L-QPAVw8mMPt"
      },
      "source": [
        "def is_power_of_two( n ):\n",
        "    \"\"\" Returns True if n = 2^d for some integer d, else returns False.\n",
        "    Uses bit manipulations, suggested via https://stackoverflow.com/a/57025941 \"\"\"\n",
        "    return (n & (n-1) == 0) and n != 0\n",
        "\n",
        "def fwht( x ):\n",
        "    \"\"\"  Fast Walsh Hadamard Transform.\n",
        "    Applies the Hadamard transform to x. If x has more than one column,\n",
        "    the transform is applied to each column; similarly, if x has more than 1\n",
        "      extra dimension, this applies to each of those dimensions.\n",
        "    Leading dimension must be a power of 2; if not, you should zero-pad. This function\n",
        "      doesn't do zero-padding for you.\n",
        "    This code is not necessarily implemented well in terms of data copies and reshapes\n",
        "      (and was written based off a Matlab code that assumed column-major format)\n",
        "\n",
        "    The wikipedia code, https://en.wikipedia.org/wiki/Fast_Walsh%E2%80%93Hadamard_transform,\n",
        "      *only* works for modifying a vector in-place. It also doesn't use numpy.\n",
        "    \"\"\"\n",
        "    sz = x.shape\n",
        "    m = sz[0]\n",
        "    if not is_power_of_two(m):\n",
        "        raise ValueError(\"Leading dimension of input must be a power of 2 for the Hadamard transform\")\n",
        "    \n",
        "    # Assumes x is a numpy array, should probably check that (TODO)\n",
        "\n",
        "    y = x.copy()\n",
        "    for logk in range( int(np.log2(m)) ):\n",
        "        k  = 2**logk      # 1, 2, 4, ..., m/2\n",
        "\n",
        "        # use .resize to make permanent, but not recommended.\n",
        "        yy = y.reshape( (2*k,-1, *sz[1:]), order='F')  # Need to \"unpack\" the tuple\n",
        "        # in the above, order='F' (not the default order='C') is *very* important\n",
        "        tmp = yy[:k, ...].copy()  # see https://stackoverflow.com/a/12116854 for info on the \"Ellipsis\" notation\n",
        "        yy[:k, ...] += yy[k:, ...]\n",
        "        yy[k:, ...]  = tmp - yy[k:, ...]\n",
        "\n",
        "        y = yy.reshape( (m,*sz[1:]), order='F') \n",
        "    \n",
        "    return y"
      ],
      "execution_count": 5,
      "outputs": []
    },
    {
      "cell_type": "markdown",
      "metadata": {
        "id": "A2nK948E79l_"
      },
      "source": [
        "### Check our implementation\n",
        "See what the matrix looks like, compare to scipy's version, and check that it's orthogonal"
      ]
    },
    {
      "cell_type": "code",
      "metadata": {
        "colab": {
          "base_uri": "https://localhost:8080/"
        },
        "id": "bs63Lt0zmYYc",
        "outputId": "1df10e3d-321c-465a-f989-56d71c6aa4d6"
      },
      "source": [
        "n   = 16\n",
        "FWHT= LinearOperator( (n,n), matvec = fwht, matmat = fwht )\n",
        "H   = FWHT@np.eye(n)  # the LinearOperator class overloads matrix multiplication\n",
        "print(\"H (via our code) is\")\n",
        "print(H.astype(np.int))\n",
        "\n",
        "# Check with scipy's version\n",
        "H_scpy = scipy.linalg.hadamard(n, dtype = np.float)\n",
        "print(\"H (via scipy) is\")\n",
        "print(H_scpy.astype(np.int))\n",
        "\n",
        "print('Difference is:')\n",
        "print(norm(H_scpy-H))\n",
        "\n",
        "print(\"HH^T/n is (this ought to be the identity matrix)\")\n",
        "print( H@H.T/n )"
      ],
      "execution_count": 62,
      "outputs": [
        {
          "output_type": "stream",
          "name": "stdout",
          "text": [
            "H (via our code) is\n",
            "[[ 1  1  1  1  1  1  1  1  1  1  1  1  1  1  1  1]\n",
            " [ 1 -1  1 -1  1 -1  1 -1  1 -1  1 -1  1 -1  1 -1]\n",
            " [ 1  1 -1 -1  1  1 -1 -1  1  1 -1 -1  1  1 -1 -1]\n",
            " [ 1 -1 -1  1  1 -1 -1  1  1 -1 -1  1  1 -1 -1  1]\n",
            " [ 1  1  1  1 -1 -1 -1 -1  1  1  1  1 -1 -1 -1 -1]\n",
            " [ 1 -1  1 -1 -1  1 -1  1  1 -1  1 -1 -1  1 -1  1]\n",
            " [ 1  1 -1 -1 -1 -1  1  1  1  1 -1 -1 -1 -1  1  1]\n",
            " [ 1 -1 -1  1 -1  1  1 -1  1 -1 -1  1 -1  1  1 -1]\n",
            " [ 1  1  1  1  1  1  1  1 -1 -1 -1 -1 -1 -1 -1 -1]\n",
            " [ 1 -1  1 -1  1 -1  1 -1 -1  1 -1  1 -1  1 -1  1]\n",
            " [ 1  1 -1 -1  1  1 -1 -1 -1 -1  1  1 -1 -1  1  1]\n",
            " [ 1 -1 -1  1  1 -1 -1  1 -1  1  1 -1 -1  1  1 -1]\n",
            " [ 1  1  1  1 -1 -1 -1 -1 -1 -1 -1 -1  1  1  1  1]\n",
            " [ 1 -1  1 -1 -1  1 -1  1 -1  1 -1  1  1 -1  1 -1]\n",
            " [ 1  1 -1 -1 -1 -1  1  1 -1 -1  1  1  1  1 -1 -1]\n",
            " [ 1 -1 -1  1 -1  1  1 -1 -1  1  1 -1  1 -1 -1  1]]\n",
            "H (via scipy) is\n",
            "[[ 1  1  1  1  1  1  1  1  1  1  1  1  1  1  1  1]\n",
            " [ 1 -1  1 -1  1 -1  1 -1  1 -1  1 -1  1 -1  1 -1]\n",
            " [ 1  1 -1 -1  1  1 -1 -1  1  1 -1 -1  1  1 -1 -1]\n",
            " [ 1 -1 -1  1  1 -1 -1  1  1 -1 -1  1  1 -1 -1  1]\n",
            " [ 1  1  1  1 -1 -1 -1 -1  1  1  1  1 -1 -1 -1 -1]\n",
            " [ 1 -1  1 -1 -1  1 -1  1  1 -1  1 -1 -1  1 -1  1]\n",
            " [ 1  1 -1 -1 -1 -1  1  1  1  1 -1 -1 -1 -1  1  1]\n",
            " [ 1 -1 -1  1 -1  1  1 -1  1 -1 -1  1 -1  1  1 -1]\n",
            " [ 1  1  1  1  1  1  1  1 -1 -1 -1 -1 -1 -1 -1 -1]\n",
            " [ 1 -1  1 -1  1 -1  1 -1 -1  1 -1  1 -1  1 -1  1]\n",
            " [ 1  1 -1 -1  1  1 -1 -1 -1 -1  1  1 -1 -1  1  1]\n",
            " [ 1 -1 -1  1  1 -1 -1  1 -1  1  1 -1 -1  1  1 -1]\n",
            " [ 1  1  1  1 -1 -1 -1 -1 -1 -1 -1 -1  1  1  1  1]\n",
            " [ 1 -1  1 -1 -1  1 -1  1 -1  1 -1  1  1 -1  1 -1]\n",
            " [ 1  1 -1 -1 -1 -1  1  1 -1 -1  1  1  1  1 -1 -1]\n",
            " [ 1 -1 -1  1 -1  1  1 -1 -1  1  1 -1  1 -1 -1  1]]\n",
            "Difference is:\n",
            "0.0\n",
            "HH^T/n is (this ought to be the identity matrix)\n",
            "[[1. 0. 0. 0. 0. 0. 0. 0. 0. 0. 0. 0. 0. 0. 0. 0.]\n",
            " [0. 1. 0. 0. 0. 0. 0. 0. 0. 0. 0. 0. 0. 0. 0. 0.]\n",
            " [0. 0. 1. 0. 0. 0. 0. 0. 0. 0. 0. 0. 0. 0. 0. 0.]\n",
            " [0. 0. 0. 1. 0. 0. 0. 0. 0. 0. 0. 0. 0. 0. 0. 0.]\n",
            " [0. 0. 0. 0. 1. 0. 0. 0. 0. 0. 0. 0. 0. 0. 0. 0.]\n",
            " [0. 0. 0. 0. 0. 1. 0. 0. 0. 0. 0. 0. 0. 0. 0. 0.]\n",
            " [0. 0. 0. 0. 0. 0. 1. 0. 0. 0. 0. 0. 0. 0. 0. 0.]\n",
            " [0. 0. 0. 0. 0. 0. 0. 1. 0. 0. 0. 0. 0. 0. 0. 0.]\n",
            " [0. 0. 0. 0. 0. 0. 0. 0. 1. 0. 0. 0. 0. 0. 0. 0.]\n",
            " [0. 0. 0. 0. 0. 0. 0. 0. 0. 1. 0. 0. 0. 0. 0. 0.]\n",
            " [0. 0. 0. 0. 0. 0. 0. 0. 0. 0. 1. 0. 0. 0. 0. 0.]\n",
            " [0. 0. 0. 0. 0. 0. 0. 0. 0. 0. 0. 1. 0. 0. 0. 0.]\n",
            " [0. 0. 0. 0. 0. 0. 0. 0. 0. 0. 0. 0. 1. 0. 0. 0.]\n",
            " [0. 0. 0. 0. 0. 0. 0. 0. 0. 0. 0. 0. 0. 1. 0. 0.]\n",
            " [0. 0. 0. 0. 0. 0. 0. 0. 0. 0. 0. 0. 0. 0. 1. 0.]\n",
            " [0. 0. 0. 0. 0. 0. 0. 0. 0. 0. 0. 0. 0. 0. 0. 1.]]\n"
          ]
        }
      ]
    },
    {
      "cell_type": "markdown",
      "metadata": {
        "id": "ARD7VOot56be"
      },
      "source": [
        "### Check the computational complexity of applying the FWHT\n",
        "It should be $ n \\log(n) $ but we might not see that due to memory movement issues.  If it's not better than $n^2$ then we've done something very wrong!"
      ]
    },
    {
      "cell_type": "code",
      "metadata": {
        "colab": {
          "base_uri": "https://localhost:8080/"
        },
        "id": "nppyHFTlmw2k",
        "outputId": "ed9bacc9-1c1f-42f8-9b32-25a67a29a3f6"
      },
      "source": [
        "nList = 2**np.arange(11,24)\n",
        "times = []\n",
        "reps  = 10\n",
        "rng = default_rng()\n",
        "for n in nList:\n",
        "  print(f'n is {n}')\n",
        "  if n > 2**20:\n",
        "    reps = 2  # speed things up a bit\n",
        "  x = rng.standard_normal(size=n )\n",
        "  start = timer()\n",
        "  for rep in range(reps):\n",
        "    \n",
        "    y = fwht(x)\n",
        "\n",
        "  times.append( (timer()-start)/reps )"
      ],
      "execution_count": 52,
      "outputs": [
        {
          "output_type": "stream",
          "name": "stdout",
          "text": [
            "n is 2048\n",
            "n is 4096\n",
            "n is 8192\n",
            "n is 16384\n",
            "n is 32768\n",
            "n is 65536\n",
            "n is 131072\n",
            "n is 262144\n",
            "n is 524288\n",
            "n is 1048576\n",
            "n is 2097152\n",
            "n is 4194304\n",
            "n is 8388608\n"
          ]
        }
      ]
    },
    {
      "cell_type": "markdown",
      "metadata": {
        "id": "gPXDFUQy6Kj9"
      },
      "source": [
        "Plot the results"
      ]
    },
    {
      "cell_type": "code",
      "metadata": {
        "colab": {
          "base_uri": "https://localhost:8080/",
          "height": 396
        },
        "id": "Lmy-y6EQ1S4g",
        "outputId": "50bea2d0-5e41-4f37-c8bb-734197ac57fc"
      },
      "source": [
        "figure(figsize=(8, 6))\n",
        "plt.xlim([1e4,16e6])\n",
        "plt.ylim([1e-4,20])\n",
        "plt.loglog( nList, times, 'o-', label='FWHT')\n",
        "plt.loglog( nList, nList*2e-7, '--', label='O($n$)')\n",
        "plt.loglog( nList, nList*np.log(nList)*2e-8, '-.', label='O($n \\log n$)')\n",
        "plt.loglog( nList, nList**2*1e-12, '--', label='O($n^2$)')\n",
        "plt.xlabel('size of input, $n$')\n",
        "plt.ylabel('time (seconds)')\n",
        "plt.legend()\n",
        "plt.show()"
      ],
      "execution_count": 61,
      "outputs": [
        {
          "output_type": "display_data",
          "data": {
            "image/png": "[encoded data removed]",
            "text/plain": [
              "<Figure size 576x432 with 1 Axes>"
            ]
          },
          "metadata": {
            "needs_background": "light"
          }
        }
      ]
    },
    {
      "cell_type": "code",
      "metadata": {
        "id": "-E4pG2NE3aK4"
      },
      "source": [
        ""
      ],
      "execution_count": null,
      "outputs": []
    }
  ]
}