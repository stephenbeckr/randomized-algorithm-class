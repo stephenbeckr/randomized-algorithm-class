{
  "nbformat": 4,
  "nbformat_minor": 0,
  "metadata": {
    "colab": {
      "name": "demo09_RandomizedKaczmarz.ipynb",
      "provenance": [],
      "collapsed_sections": [],
      "authorship_tag": "ABX9TyOOGMGHXSsbgbJADwP53aRV",
      "include_colab_link": true
    },
    "kernelspec": {
      "name": "python3",
      "display_name": "Python 3"
    },
    "language_info": {
      "name": "python"
    }
  },
  "cells": [
    {
      "cell_type": "markdown",
      "metadata": {
        "id": "view-in-github",
        "colab_type": "text"
      },
      "source": [
        "<a href=\"https://colab.research.google.com/github/stephenbeckr/randomized-algorithm-class/blob/master/Demos/demo09_RandomizedKaczmarz.ipynb\" target=\"_parent\"><img src=\"https://colab.research.google.com/assets/colab-badge.svg\" alt=\"Open In Colab\"/></a>"
      ]
    },
    {
      "cell_type": "markdown",
      "metadata": {
        "id": "3aIZ_PNoks4M"
      },
      "source": [
        "# Randomized Kaczmarz Algoritihm\n",
        "\n",
        "Demonstration of the basic Randomized Kaczmarz Algorithm \n",
        " (cf. [\"A Randomized Kaczmarz Algorithm with Exponential Convergence\"](http://www.springerlink.com/index/10.1007/s00041-008-9030-4)\n",
        "   by Strohmer and Vershynin, 2008 )\n",
        "\n",
        "This solves **overdetermined**, **consistent** systems of linear equations\n",
        "$$ Ax=b $$\n",
        "where $A$ is $M\\times N$ (so $M\\ge N$).\n",
        "\n",
        "For fancier versions, see:\n",
        "- \"Acceleration of randomized Kaczmarz method via the\n",
        "Johnson?Lindenstrauss Lemma\" by Y. Eldar and D. Needell 2011\n",
        "- \"Paved with good intentions: analysis of a randomized block kaczmarz\n",
        "method\" by D. Needell and J. Tropp 2012\n",
        "- \"Stochastic gradient descent, weighted sampling, and the randomized\n",
        "Kaczmarz algorithm\" by D. Needell, N. Srebro and R. Ward 2016\n",
        "\n",
        "Code: Stephen Becker 2019 (Matlab), 2021 (Python)"
      ]
    },
    {
      "cell_type": "code",
      "metadata": {
        "id": "XTXbqsiUkdrV"
      },
      "source": [
        "import numpy as np\n",
        "import numpy.linalg\n",
        "from numpy.random import default_rng\n",
        "rng = default_rng()\n",
        "import scipy.linalg\n",
        "from matplotlib import pyplot as plt"
      ],
      "execution_count": 75,
      "outputs": []
    },
    {
      "cell_type": "code",
      "metadata": {
        "id": "h7PuyXCgk-f_"
      },
      "source": [
        "M, N = int(3e5), int(1e2)\n",
        "\n",
        "# A   = rng.standard_normal( (M,N)) # this is well-conditioned\n",
        "\n",
        "# This case is much harder...\n",
        "A   = rng.standard_normal( (M,N) )@np.diag(np.logspace(0,2,N))@(\n",
        "    rng.standard_normal((N,N) ) + 0.9*np.eye(N) )\n",
        "\n",
        "\n",
        "x0  = rng.standard_normal( (N,1))\n",
        "b   = A@x0  # important: no noise, we assume the system is consistent\n",
        "\n",
        "errFcn    = lambda x : scipy.linalg.norm( x.ravel() - x0.ravel() )"
      ],
      "execution_count": 173,
      "outputs": []
    },
    {
      "cell_type": "code",
      "metadata": {
        "colab": {
          "base_uri": "https://localhost:8080/"
        },
        "id": "qPNOOFmMlaQb",
        "outputId": "48cf011d-9455-4c67-911f-b279ce552951"
      },
      "source": [
        "# Solve using classical dense method\n",
        "#  [ scipy.linalg.solve(A,b) won't work since it needs a square matrix\n",
        "#    so we'll ask for a least-squares solution ]\n",
        "print(\"Solving via classical dense method\")\n",
        "%time xClassical, residLS, rank, singVals = np.linalg.lstsq(A,b,rcond=None)\n",
        "print(f'  Condition number of A is {singVals[0]/singVals[-1]:.3e}')\n",
        "print(f'  Error is {errFcn(xClassical):.3e}')"
      ],
      "execution_count": 174,
      "outputs": [
        {
          "output_type": "stream",
          "name": "stdout",
          "text": [
            "Solving via classical dense method\n",
            "CPU times: user 5.66 s, sys: 207 ms, total: 5.86 s\n",
            "Wall time: 3.24 s\n",
            "  Condition number of A is 7.473e+03\n",
            "  Error is 2.911e-13\n"
          ]
        }
      ]
    },
    {
      "cell_type": "markdown",
      "metadata": {
        "id": "kf2MkwF4mUxe"
      },
      "source": [
        "### Try the randomized Kaczmarz approach\n",
        "\n",
        "Classical Kaczmarz cycles through indices in order\n",
        "\n",
        "The Strohmer/Vershynin randomized version chooses indices based on iid samples from the weighted distribution determined by the squared Euclidean norms of the rows"
      ]
    },
    {
      "cell_type": "code",
      "metadata": {
        "id": "rM104Z7AZpjx"
      },
      "source": [
        "rowNorms = scipy.linalg.norm( A, ord=2, axis=1)**2\n",
        "# NOTE: run this cell once without the %%timeit statement,\n",
        "#   since if you run with that statement, it doesn't save\n",
        "#   the value of the variables into the workspace."
      ],
      "execution_count": 175,
      "outputs": []
    },
    {
      "cell_type": "code",
      "metadata": {
        "colab": {
          "base_uri": "https://localhost:8080/"
        },
        "id": "DE1P86utlyum",
        "outputId": "4029dc3e-ddb7-4def-ab1d-6a22744cfb2f"
      },
      "source": [
        "%%timeit -o -r 1 -n 1\n",
        "rowNorms = scipy.linalg.norm( A, ord=2, axis=1)**2"
      ],
      "execution_count": 176,
      "outputs": [
        {
          "output_type": "stream",
          "name": "stdout",
          "text": [
            "1 loop, best of 1: 144 ms per loop\n"
          ]
        },
        {
          "output_type": "execute_result",
          "data": {
            "text/plain": [
              "<TimeitResult : 1 loop, best of 1: 144 ms per loop>"
            ]
          },
          "metadata": {},
          "execution_count": 176
        }
      ]
    },
    {
      "cell_type": "code",
      "metadata": {
        "id": "GKvIDgxpqWnp"
      },
      "source": [
        "tmStructure = _\n",
        "tmPreprocess = tmStructure.best"
      ],
      "execution_count": 177,
      "outputs": []
    },
    {
      "cell_type": "code",
      "metadata": {
        "colab": {
          "base_uri": "https://localhost:8080/",
          "height": 278
        },
        "id": "jFHJAPjqsDoj",
        "outputId": "3255a657-ac5f-43f2-fda5-945398aaab78"
      },
      "source": [
        "plt.hist( rowNorms )\n",
        "plt.show()"
      ],
      "execution_count": 178,
      "outputs": [
        {
          "output_type": "display_data",
          "data": {
            "image/png": "[encoded data removed]",
            "text/plain": [
              "<Figure size 432x288 with 1 Axes>"
            ]
          },
          "metadata": {
            "needs_background": "light"
          }
        }
      ]
    },
    {
      "cell_type": "markdown",
      "metadata": {
        "id": "zPo2TNNLsIrJ"
      },
      "source": [
        "#### Now the main iteration"
      ]
    },
    {
      "cell_type": "code",
      "metadata": {
        "id": "RctLhpqtm2Zr"
      },
      "source": [
        "def RK(N,wts,maxIter,blockSize=1000,tol=1e-13):\n",
        "\n",
        "  x         = np.zeros(N) # have 1D not 2D column vector\n",
        "  errList   = []\n",
        "\n",
        "  #  We will really be taking maxIter * blockSize iterations\n",
        "  #   but chose blockSize > 1 to reduce overhead costs\n",
        "  for k in range(int(maxIter)):\n",
        "\n",
        "    indList = rng.choice(M,int(blockSize),replace=True,p=wts,shuffle=True)\n",
        "\n",
        "    for i in indList:\n",
        "      res = b[i] - A[i,:].dot(x)\n",
        "      x += res/rowNorms[i] * A[i,:]\n",
        "\n",
        "    errList.append( errFcn(x) )\n",
        "\n",
        "    if np.abs(res) > 1e100:\n",
        "      print('Looks like divergence, stopping early')\n",
        "      break\n",
        "    if errList[-1] < tol:\n",
        "      print(f'Reached tolerance, stopping early: err is {errList[-1]}')\n",
        "      break\n",
        "\n",
        "  return x, errList"
      ],
      "execution_count": 179,
      "outputs": []
    },
    {
      "cell_type": "code",
      "metadata": {
        "id": "hmjiL6IkZ54Q"
      },
      "source": [
        "wts = rowNorms.copy()/rowNorms.sum()\n",
        "maxIter = 5e2\n",
        "xRK, errList = RK( N, wts, maxIter=maxIter )"
      ],
      "execution_count": 181,
      "outputs": []
    },
    {
      "cell_type": "code",
      "metadata": {
        "colab": {
          "base_uri": "https://localhost:8080/"
        },
        "id": "OU9I1dmpajAO",
        "outputId": "2a306577-20df-4b82-8ddf-469dd63f9d5c"
      },
      "source": [
        "%%timeit -o -r 1 -n 1\n",
        "# Re-run it and get the time (but the outputs are not saved)\n",
        "xRK, errList = RK( N, wts, maxIter=maxIter )"
      ],
      "execution_count": 182,
      "outputs": [
        {
          "output_type": "stream",
          "name": "stdout",
          "text": [
            "1 loop, best of 1: 6.77 s per loop\n"
          ]
        },
        {
          "output_type": "execute_result",
          "data": {
            "text/plain": [
              "<TimeitResult : 1 loop, best of 1: 6.77 s per loop>"
            ]
          },
          "metadata": {},
          "execution_count": 182
        }
      ]
    },
    {
      "cell_type": "code",
      "metadata": {
        "id": "cY7J53l3qQty"
      },
      "source": [
        "tmStructure = _\n",
        "tmIterative = tmStructure.best"
      ],
      "execution_count": 183,
      "outputs": []
    },
    {
      "cell_type": "code",
      "metadata": {
        "colab": {
          "base_uri": "https://localhost:8080/",
          "height": 279
        },
        "id": "6JRKOH-KoubC",
        "outputId": "c320cc1b-2117-4773-9413-2fe2146597ed"
      },
      "source": [
        "plt.semilogy( np.arange(0,len(errList)*blockSize,blockSize)/M, errList,'o-' )\n",
        "plt.xlabel('Iterations, divided by # of rows')\n",
        "plt.ylabel('Error in \"x\" variable')\n",
        "plt.show()"
      ],
      "execution_count": 184,
      "outputs": [
        {
          "output_type": "display_data",
          "data": {
            "image/png": "[encoded data removed]",
            "text/plain": [
              "<Figure size 432x288 with 1 Axes>"
            ]
          },
          "metadata": {
            "needs_background": "light"
          }
        }
      ]
    },
    {
      "cell_type": "code",
      "metadata": {
        "colab": {
          "base_uri": "https://localhost:8080/",
          "height": 279
        },
        "id": "47Ft5iZPpLPD",
        "outputId": "4187b536-485d-46cc-8062-2bcb915a50e0"
      },
      "source": [
        "plt.semilogy( tmPreprocess + np.arange(len(errList))*tmIterative/len(errList), errList,'o-' )\n",
        "plt.xlabel('Time (seconds)')\n",
        "plt.ylabel('Error in \"x\" variable')\n",
        "plt.xlim( left=0)\n",
        "plt.show()"
      ],
      "execution_count": 185,
      "outputs": [
        {
          "output_type": "display_data",
          "data": {
            "image/png": "[encoded data removed]",
            "text/plain": [
              "<Figure size 432x288 with 1 Axes>"
            ]
          },
          "metadata": {
            "needs_background": "light"
          }
        }
      ]
    },
    {
      "cell_type": "markdown",
      "metadata": {
        "id": "cwopbmp8rKo5"
      },
      "source": [
        "#### And try with an iterative solver"
      ]
    },
    {
      "cell_type": "code",
      "metadata": {
        "colab": {
          "base_uri": "https://localhost:8080/"
        },
        "id": "aoDZHGBLqGlv",
        "outputId": "728e7d4b-7902-4674-d591-3b5391531e1b"
      },
      "source": [
        "%time xLSQR, flag, iter, nrm = scipy.sparse.linalg.lsqr( A, b, show=True, iter_lim=int(1e2))[:4]"
      ],
      "execution_count": 187,
      "outputs": [
        {
          "output_type": "stream",
          "name": "stdout",
          "text": [
            " \n",
            "LSQR            Least-squares solution of  Ax = b\n",
            "The matrix A has   300000 rows  and      100 cols\n",
            "damp = 0.00000000000000e+00   calc_var =        0\n",
            "atol = 1.00e-08                 conlim = 1.00e+08\n",
            "btol = 1.00e-08               iter_lim =      100\n",
            " \n",
            "   Itn      x[0]       r1norm     r2norm   Compatible    LS      Norm A   Cond A\n",
            "     0  0.00000e+00   1.192e+06  1.192e+06    1.0e+00  3.1e-01\n",
            "     1  3.62527e-01   6.701e+05  6.701e+05    5.6e-01  5.3e-01   4.5e+05  1.0e+00\n",
            "     2  5.20243e-01   4.841e+05  4.841e+05    4.1e-01  3.6e-01   5.9e+05  2.2e+00\n",
            "     3  6.44579e-01   3.936e+05  3.936e+05    3.3e-01  2.5e-01   7.3e+05  3.7e+00\n",
            "     4  6.83901e-01   3.453e+05  3.453e+05    2.9e-01  2.0e-01   8.6e+05  5.3e+00\n",
            "     5  8.12719e-01   2.888e+05  2.888e+05    2.4e-01  1.6e-01   9.6e+05  7.5e+00\n",
            "     6  8.62026e-01   2.504e+05  2.504e+05    2.1e-01  1.4e-01   1.0e+06  9.5e+00\n",
            "     7  9.55883e-01   2.018e+05  2.018e+05    1.7e-01  1.4e-01   1.1e+06  1.2e+01\n",
            "     8  9.44565e-01   1.793e+05  1.793e+05    1.5e-01  1.3e-01   1.2e+06  1.4e+01\n",
            "     9  9.35243e-01   1.659e+05  1.659e+05    1.4e-01  7.8e-02   1.3e+06  1.6e+01\n",
            "    10  9.29879e-01   1.455e+05  1.455e+05    1.2e-01  9.3e-02   1.3e+06  1.9e+01\n",
            "    90  9.10719e-01   6.804e+03  6.804e+03    5.7e-03  6.2e-03   3.2e+06  6.9e+02\n",
            "    91  9.11371e-01   6.716e+03  6.716e+03    5.6e-03  1.9e-02   3.2e+06  7.1e+02\n",
            "    92  9.12923e-01   6.434e+03  6.434e+03    5.4e-03  6.6e-03   3.2e+06  7.5e+02\n",
            "    93  9.12897e-01   6.420e+03  6.420e+03    5.4e-03  3.8e-03   3.2e+06  7.5e+02\n",
            "    94  9.12907e-01   6.417e+03  6.417e+03    5.4e-03  3.6e-03   3.3e+06  7.6e+02\n",
            "    95  9.12406e-01   6.393e+03  6.393e+03    5.4e-03  1.2e-02   3.3e+06  7.7e+02\n",
            "    96  9.10984e-01   6.303e+03  6.303e+03    5.3e-03  7.5e-03   3.3e+06  7.9e+02\n",
            "    97  9.10061e-01   6.154e+03  6.154e+03    5.2e-03  2.6e-03   3.3e+06  8.1e+02\n",
            "    98  9.13496e-01   6.049e+03  6.049e+03    5.1e-03  6.6e-03   3.3e+06  8.3e+02\n",
            "    99  9.14954e-01   6.015e+03  6.015e+03    5.0e-03  9.2e-03   3.3e+06  8.4e+02\n",
            "   100  9.16971e-01   5.972e+03  5.972e+03    5.0e-03  3.4e-03   3.4e+06  8.5e+02\n",
            " \n",
            "LSQR finished\n",
            "The iteration limit has been reached                      \n",
            " \n",
            "istop =       7   r1norm = 6.0e+03   anorm = 3.4e+06   arnorm = 6.8e+07\n",
            "itn   =     100   r2norm = 6.0e+03   acond = 8.5e+02   xnorm  = 8.3e+00\n",
            " \n",
            "CPU times: user 14.7 s, sys: 772 ms, total: 15.5 s\n",
            "Wall time: 8.01 s\n"
          ]
        }
      ]
    },
    {
      "cell_type": "code",
      "metadata": {
        "colab": {
          "base_uri": "https://localhost:8080/"
        },
        "id": "iU6ZSRJAryx0",
        "outputId": "e07e1001-0f36-4095-96f3-aadede2242a1"
      },
      "source": [
        "errFcn(xLSQR)"
      ],
      "execution_count": 188,
      "outputs": [
        {
          "output_type": "execute_result",
          "data": {
            "text/plain": [
              "4.231640751798826"
            ]
          },
          "metadata": {},
          "execution_count": 188
        }
      ]
    }
  ]
}