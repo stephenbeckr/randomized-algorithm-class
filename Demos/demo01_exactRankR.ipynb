{
  "nbformat": 4,
  "nbformat_minor": 0,
  "metadata": {
    "colab": {
      "name": "demo01_exactRankR.ipynb",
      "provenance": [],
      "authorship_tag": "ABX9TyNs9oSNhJJJsBsL89hqpJF/",
      "include_colab_link": true
    },
    "kernelspec": {
      "name": "python3",
      "display_name": "Python 3"
    },
    "language_info": {
      "name": "python"
    }
  },
  "cells": [
    {
      "cell_type": "markdown",
      "metadata": {
        "id": "view-in-github",
        "colab_type": "text"
      },
      "source": [
        "<a href=\"https://colab.research.google.com/github/stephenbeckr/randomized-algorithm-class/blob/master/Demos/demo01_exactRankR.ipynb\" target=\"_parent\"><img src=\"https://colab.research.google.com/assets/colab-badge.svg\" alt=\"Open In Colab\"/></a>"
      ]
    },
    {
      "cell_type": "markdown",
      "metadata": {
        "id": "tpCtpbyG6Od3"
      },
      "source": [
        "# Demo #1\n",
        "\n",
        "APPM 5650 Randomized Algorithms, Fall 2021\n",
        "\n",
        "Stephen Becker (original MATLAB '19, jupyter version '21) & Jake Knigge (Python '19)"
      ]
    },
    {
      "cell_type": "code",
      "metadata": {
        "id": "azcvL3hp6Ir9"
      },
      "source": [
        "import numpy as np\n",
        "from numpy.linalg import norm\n",
        "from scipy.sparse.linalg import LinearOperator, svds\n",
        "import scipy\n",
        "\n",
        "np.set_printoptions(precision = 4)      # display only four digits\n",
        "rng = np.random.default_rng(12345)\n",
        "n = np.int(4e3); m = n                  # dimension of problem\n",
        "r = np.int(100)                         # rank of matrix\n",
        "\n",
        "Left = rng.standard_normal( size=(m,r))\n",
        "Right= rng.standard_normal( size=(r,n))\n",
        "A = Left@Right\n",
        "# Another case is that we *know* A has this structure, in which case we can exploit:\n",
        "A_operator = LinearOperator( (m,n), matvec = lambda x : Left@(Right@x), \n",
        "                            rmatvec = lambda y : Right.T@(Left.T@y) )\n",
        "\n",
        "def printError(U,s,Vh):\n",
        "  S = np.reshape( s, (len(s),1) )\n",
        "  A_estimate = U@(S*Vh)\n",
        "  err = norm( A - A_estimate ) / norm( A )\n",
        "  print(f'The error ||A-A_estimate||_F/||A||_F is {err:0.2e}')\n",
        "  print(f'The largest and smallest (non-zero) singular values are {s[0]:0.4f} and {s[-1]:0.4f}')"
      ],
      "execution_count": 1,
      "outputs": []
    },
    {
      "cell_type": "markdown",
      "metadata": {
        "id": "figfEc3m6raF"
      },
      "source": [
        "## Find SVD of $A$ with conventional methods"
      ]
    },
    {
      "cell_type": "markdown",
      "metadata": {
        "id": "jDN11ngv-a3B"
      },
      "source": [
        "Dense SVD"
      ]
    },
    {
      "cell_type": "code",
      "metadata": {
        "colab": {
          "base_uri": "https://localhost:8080/"
        },
        "id": "32Z8kWeA6q4M",
        "outputId": "97da52da-58f6-4d6d-ff43-027acd13bec8"
      },
      "source": [
        "%time U, S, Vh = np.linalg.svd(A, full_matrices=False)\n",
        "\n",
        "printError(U,S,Vh)"
      ],
      "execution_count": 2,
      "outputs": [
        {
          "output_type": "stream",
          "text": [
            "CPU times: user 1min 31s, sys: 3.36 s, total: 1min 34s\n",
            "Wall time: 48.8 s\n",
            "The error ||A-A_estimate||_F/||A||_F is 2.60e-15\n",
            "The largest and smallest (non-zero) singular values are 4854.7887 and 0.0000\n"
          ],
          "name": "stdout"
        }
      ]
    },
    {
      "cell_type": "markdown",
      "metadata": {
        "id": "2JU63wKz-fG-"
      },
      "source": [
        "Krylov subspace method (usually best for sparse matrices or some kind of structure)"
      ]
    },
    {
      "cell_type": "code",
      "metadata": {
        "colab": {
          "base_uri": "https://localhost:8080/"
        },
        "id": "HCBTmURM_Dav",
        "outputId": "57e07f79-60db-4f44-ef14-aa3a9ba0b016"
      },
      "source": [
        "%time U, S, Vh = scipy.sparse.linalg.svds( A, k=r)\n",
        "\n",
        "printError(U,S,Vh)"
      ],
      "execution_count": 4,
      "outputs": [
        {
          "output_type": "stream",
          "text": [
            "CPU times: user 7.61 s, sys: 4.85 s, total: 12.5 s\n",
            "Wall time: 6.49 s\n",
            "The error ||A-A_estimate||_F/||A||_F is 9.28e-16\n",
            "The largest and smallest (non-zero) singular values are 3159.3836 and 4854.7887\n"
          ],
          "name": "stdout"
        }
      ]
    },
    {
      "cell_type": "markdown",
      "metadata": {
        "id": "JObhNvxwAX0v"
      },
      "source": [
        "... and **if we knew the structure of $A$** :\n",
        "(careful: for `svds` the documentation says \"The order of the singular values is not guaranteed.\")"
      ]
    },
    {
      "cell_type": "code",
      "metadata": {
        "colab": {
          "base_uri": "https://localhost:8080/"
        },
        "id": "XQq_XTcmASK_",
        "outputId": "d658d6c6-3308-4b18-d23a-d6d1ebf75ce5"
      },
      "source": [
        "%time U, S, Vh = scipy.sparse.linalg.svds( A_operator, k=r)\n",
        "\n",
        "printError(U,S,Vh)"
      ],
      "execution_count": 5,
      "outputs": [
        {
          "output_type": "stream",
          "text": [
            "CPU times: user 879 ms, sys: 526 ms, total: 1.4 s\n",
            "Wall time: 759 ms\n",
            "The error ||A-A_estimate||_F/||A||_F is 1.29e-15\n",
            "The largest and smallest (non-zero) singular values are 3159.3836 and 4854.7887\n"
          ],
          "name": "stdout"
        }
      ]
    },
    {
      "cell_type": "markdown",
      "metadata": {
        "id": "8oQdOtlD6ysQ"
      },
      "source": [
        "## Find SVD of $A$ with randomized method"
      ]
    },
    {
      "cell_type": "markdown",
      "metadata": {
        "id": "x0mHeQc0AeTm"
      },
      "source": [
        "(no knowledge of the structure of $A$ required, other than knowing a good value for $r$)"
      ]
    },
    {
      "cell_type": "code",
      "metadata": {
        "colab": {
          "base_uri": "https://localhost:8080/"
        },
        "id": "e0osJVd560y9",
        "outputId": "12aa4286-8014-4ba0-e8c8-2fbb008b85f3"
      },
      "source": [
        "%%time\n",
        "Omega = rng.standard_normal(size=(n, r))\n",
        "Y     = A@Omega       # matrix multiply\n",
        "Q, R  = np.linalg.qr(Y, mode='reduced')\n",
        "QtA   = Q.T@A\n",
        "# A = Q@QtA, which is a low-rank factorization. If we also want\n",
        "#   the SVD of A, then continue a little bit more:\n",
        "U_temp, S, Vh = np.linalg.svd(QtA, full_matrices=False)\n",
        "U     = Q@U_temp"
      ],
      "execution_count": 12,
      "outputs": [
        {
          "output_type": "stream",
          "text": [
            "CPU times: user 707 ms, sys: 72.9 ms, total: 780 ms\n",
            "Wall time: 439 ms\n"
          ],
          "name": "stdout"
        }
      ]
    },
    {
      "cell_type": "code",
      "metadata": {
        "colab": {
          "base_uri": "https://localhost:8080/"
        },
        "id": "9k6tub2965rj",
        "outputId": "46d59c6b-9d19-44da-ade7-3545d7c316f9"
      },
      "source": [
        "printError( U, S, Vh )"
      ],
      "execution_count": 8,
      "outputs": [
        {
          "output_type": "stream",
          "text": [
            "The error ||A-A_estimate||_F/||A||_F is 8.11e-15\n",
            "The largest and smallest (non-zero) singular values are 4854.7887 and 3159.3836\n"
          ],
          "name": "stdout"
        }
      ]
    },
    {
      "cell_type": "markdown",
      "metadata": {
        "id": "e-cUh8Wth-fa"
      },
      "source": [
        "By the way, if we do know the structure of $A$, we can also exploit that in the randomized method and get something a bit faster:"
      ]
    },
    {
      "cell_type": "code",
      "metadata": {
        "colab": {
          "base_uri": "https://localhost:8080/"
        },
        "id": "Ac3SkJtN7OZp",
        "outputId": "55b0dc9f-f728-4611-9ba5-ce4131e2ffd4"
      },
      "source": [
        "%%time\n",
        "Omega = rng.standard_normal(size=(n, r))\n",
        "Y     = A_operator@Omega       # matrix multiply\n",
        "Q, R  = np.linalg.qr(Y, mode='reduced')\n",
        "QtA   = (A_operator.T@Q).T\n",
        "# A = Q@QtA, which is a low-rank factorization. If we also want\n",
        "#   the SVD of A, then continue a little bit more:\n",
        "U_temp, S, Vh = np.linalg.svd(QtA, full_matrices=False)\n",
        "U     = Q@U_temp"
      ],
      "execution_count": 11,
      "outputs": [
        {
          "output_type": "stream",
          "text": [
            "CPU times: user 353 ms, sys: 81.6 ms, total: 435 ms\n",
            "Wall time: 259 ms\n"
          ],
          "name": "stdout"
        }
      ]
    },
    {
      "cell_type": "code",
      "metadata": {
        "colab": {
          "base_uri": "https://localhost:8080/"
        },
        "id": "AgmSrSrfhwJO",
        "outputId": "4cb9766b-e4af-4cc1-a47a-191f571f5e7a"
      },
      "source": [
        "printError( U, S, Vh )"
      ],
      "execution_count": 10,
      "outputs": [
        {
          "output_type": "stream",
          "text": [
            "The error ||A-A_estimate||_F/||A||_F is 1.00e-14\n",
            "The largest and smallest (non-zero) singular values are 4854.7887 and 3159.3836\n"
          ],
          "name": "stdout"
        }
      ]
    },
    {
      "cell_type": "code",
      "metadata": {
        "id": "PaxlQvAWh9Qv"
      },
      "source": [
        ""
      ],
      "execution_count": null,
      "outputs": []
    }
  ]
}