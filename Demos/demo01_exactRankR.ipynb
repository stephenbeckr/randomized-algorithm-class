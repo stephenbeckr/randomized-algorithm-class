{
  "nbformat": 4,
  "nbformat_minor": 0,
  "metadata": {
    "colab": {
      "name": "demo01_exactRankR.ipynb",
      "provenance": [],
      "authorship_tag": "ABX9TyPf+UxSVbNT64pdxH/NrNDE",
      "include_colab_link": true
    },
    "kernelspec": {
      "name": "python3",
      "display_name": "Python 3"
    },
    "language_info": {
      "name": "python"
    }
  },
  "cells": [
    {
      "cell_type": "markdown",
      "metadata": {
        "id": "view-in-github",
        "colab_type": "text"
      },
      "source": [
        "<a href=\"https://colab.research.google.com/github/stephenbeckr/randomized-algorithm-class/blob/master/Demos/demo01_exactRankR.ipynb\" target=\"_parent\"><img src=\"https://colab.research.google.com/assets/colab-badge.svg\" alt=\"Open In Colab\"/></a>"
      ]
    },
    {
      "cell_type": "markdown",
      "metadata": {
        "id": "tpCtpbyG6Od3"
      },
      "source": [
        "# Demo #1\n",
        "\n",
        "APPM 5650 Randomized Algorithms, Fall 2021\n",
        "\n",
        "Stephen Becker (original MATLAB '19, jupyter version '21) & Jake Knigge (Python '19)"
      ]
    },
    {
      "cell_type": "code",
      "metadata": {
        "id": "azcvL3hp6Ir9"
      },
      "source": [
        "import numpy as np\n",
        "from numpy.linalg import norm\n",
        "from scipy.sparse.linalg import LinearOperator, svds\n",
        "\n",
        "np.set_printoptions(precision = 4)      # display only four digits\n",
        "rng = np.random.default_rng(12345)\n",
        "n = np.int(4e3); m = n                  # dimension of problem\n",
        "r = np.int(100)                         # rank of matrix\n",
        "\n",
        "Left = rng.standard_normal( size=(m,r))\n",
        "Right= rng.standard_normal( size=(r,n))\n",
        "A = Left@Right\n",
        "# Another case is that we *know* A has this structure, in which case we can exploit:\n",
        "A_operator = LinearOperator( (m,n), matvec = lambda x : Left@(Right@x), \n",
        "                            rmatvec = lambda y : Right.T@(Left.T@y) )\n",
        "\n",
        "def printError(U,s,Vh):\n",
        "  S = np.reshape( s, (len(s),1) )\n",
        "  A_estimate = U@(S*Vh)\n",
        "  err = norm( A - A_estimate ) / norm( A )\n",
        "  print(f'The error ||A-A_estimate||_F/||A||_F is {err:0.2e}')\n",
        "  print(f'The largest and smallest (non-zero) singular values are {s[0]:0.4f} and {s[-1]:0.4f}')"
      ],
      "execution_count": null,
      "outputs": []
    },
    {
      "cell_type": "markdown",
      "metadata": {
        "id": "figfEc3m6raF"
      },
      "source": [
        "## Find SVD of $A$ with conventional methods"
      ]
    },
    {
      "cell_type": "markdown",
      "metadata": {
        "id": "jDN11ngv-a3B"
      },
      "source": [
        "Dense SVD"
      ]
    },
    {
      "cell_type": "code",
      "metadata": {
        "colab": {
          "base_uri": "https://localhost:8080/"
        },
        "id": "32Z8kWeA6q4M",
        "outputId": "148077cd-145b-4b35-9ead-f3cfb2fa6be3"
      },
      "source": [
        "%time U, S, Vh = np.linalg.svd(A, full_matrices=False)\n",
        "\n",
        "printError(U,S,Vh)"
      ],
      "execution_count": null,
      "outputs": [
        {
          "output_type": "stream",
          "text": [
            "CPU times: user 1min 15s, sys: 2.29 s, total: 1min 17s\n",
            "Wall time: 39.6 s\n",
            "The error ||A-A_estimate||_F/||A||_F is 2.60e-15\n"
          ],
          "name": "stdout"
        }
      ]
    },
    {
      "cell_type": "markdown",
      "metadata": {
        "id": "2JU63wKz-fG-"
      },
      "source": [
        "Krylov subspace method (usually best for sparse matrices or some kind of structure)"
      ]
    },
    {
      "cell_type": "code",
      "metadata": {
        "colab": {
          "base_uri": "https://localhost:8080/"
        },
        "id": "HCBTmURM_Dav",
        "outputId": "9bdce498-c2b7-4b34-e1b2-174adb3fe51e"
      },
      "source": [
        "%time U, S, Vh = scipy.sparse.linalg.svds( A, k=r)\n",
        "\n",
        "printError(U,S,Vh)"
      ],
      "execution_count": null,
      "outputs": [
        {
          "output_type": "stream",
          "text": [
            "CPU times: user 6.89 s, sys: 4.26 s, total: 11.1 s\n",
            "Wall time: 5.7 s\n",
            "The error ||A-A_estimate||_F/||A||_F is 9.11e-16\n",
            "The largest and smallest (non-zero) singular values are 3.16e+03 and 4.85e+03\n"
          ],
          "name": "stdout"
        }
      ]
    },
    {
      "cell_type": "markdown",
      "metadata": {
        "id": "JObhNvxwAX0v"
      },
      "source": [
        "... and **if we knew the structure of $A$** :\n",
        "(careful: for `svds` the documentation says \"The order of the singular values is not guaranteed.\")"
      ]
    },
    {
      "cell_type": "code",
      "metadata": {
        "colab": {
          "base_uri": "https://localhost:8080/"
        },
        "id": "XQq_XTcmASK_",
        "outputId": "41a431c6-9110-4400-dc3c-dcfa96b2e69c"
      },
      "source": [
        "%time U, S, Vh = scipy.sparse.linalg.svds( A_operator, k=r)\n",
        "\n",
        "printError(U,S,Vh)"
      ],
      "execution_count": null,
      "outputs": [
        {
          "output_type": "stream",
          "text": [
            "CPU times: user 619 ms, sys: 433 ms, total: 1.05 s\n",
            "Wall time: 560 ms\n",
            "The error ||A-A_estimate||_F/||A||_F is 1.30e-15\n",
            "The largest and smallest (non-zero) singular values are 4.85e+03 and 3.16e+03\n"
          ],
          "name": "stdout"
        }
      ]
    },
    {
      "cell_type": "markdown",
      "metadata": {
        "id": "8oQdOtlD6ysQ"
      },
      "source": [
        "## Find SVD of $A$ with randomized method"
      ]
    },
    {
      "cell_type": "markdown",
      "metadata": {
        "id": "x0mHeQc0AeTm"
      },
      "source": [
        "(no knowledge of the structure of $A$ required, other than knowing a good value for $r$)"
      ]
    },
    {
      "cell_type": "code",
      "metadata": {
        "colab": {
          "base_uri": "https://localhost:8080/"
        },
        "id": "e0osJVd560y9",
        "outputId": "c7aeb837-8d38-4d80-ddcd-f2946f296165"
      },
      "source": [
        "%%time\n",
        "Omega = np.random.normal(mu, sigma, (n, r));\n",
        "Y     = A@Omega       # matrix multiply\n",
        "Q, R  = np.linalg.qr(Y, mode='reduced');\n",
        "QtA   = Q.T@A\n",
        "# A = Q@QtA, which is a low-rank factorization. If we also want\n",
        "#   the SVD of A, then continue a little bit more:\n",
        "U_temp, S, Vh = np.linalg.svd(QtA, full_matrices=False)\n",
        "U     = Q@U_temp"
      ],
      "execution_count": null,
      "outputs": [
        {
          "output_type": "stream",
          "text": [
            "CPU times: user 612 ms, sys: 42.7 ms, total: 654 ms\n",
            "Wall time: 364 ms\n"
          ],
          "name": "stdout"
        }
      ]
    },
    {
      "cell_type": "code",
      "metadata": {
        "colab": {
          "base_uri": "https://localhost:8080/"
        },
        "id": "9k6tub2965rj",
        "outputId": "0f8611b1-ed59-4368-b1f1-47dea9b0d799"
      },
      "source": [
        "printError( U, S, Vh )"
      ],
      "execution_count": null,
      "outputs": [
        {
          "output_type": "stream",
          "text": [
            "The error ||A-A_estimate||_F/||A||_F is 2.03e-14\n",
            "The largest and smallest (non-zero) singular values are 4854.7887 and 3159.3836\n"
          ],
          "name": "stdout"
        }
      ]
    },
    {
      "cell_type": "markdown",
      "metadata": {
        "id": "e-cUh8Wth-fa"
      },
      "source": [
        "By the way, if we do know the structure of $A$, we can also exploit that in the randomized method and get something a bit faster:"
      ]
    },
    {
      "cell_type": "code",
      "metadata": {
        "colab": {
          "base_uri": "https://localhost:8080/"
        },
        "id": "Ac3SkJtN7OZp",
        "outputId": "e3ac665f-0995-415d-bcb9-79687d2951f9"
      },
      "source": [
        "%%time\n",
        "Omega = np.random.normal(mu, sigma, (n, r));\n",
        "Y     = A_operator@Omega       # matrix multiply\n",
        "Q, R  = np.linalg.qr(Y, mode='reduced');\n",
        "QtA   = (A_operator.T@Q).T\n",
        "# A = Q@QtA, which is a low-rank factorization. If we also want\n",
        "#   the SVD of A, then continue a little bit more:\n",
        "U_temp, S, Vh = np.linalg.svd(QtA, full_matrices=False)\n",
        "U     = Q@U_temp"
      ],
      "execution_count": null,
      "outputs": [
        {
          "output_type": "stream",
          "text": [
            "CPU times: user 308 ms, sys: 54.7 ms, total: 363 ms\n",
            "Wall time: 202 ms\n"
          ],
          "name": "stdout"
        }
      ]
    },
    {
      "cell_type": "code",
      "metadata": {
        "colab": {
          "base_uri": "https://localhost:8080/"
        },
        "id": "AgmSrSrfhwJO",
        "outputId": "9092e0b9-31ce-403b-c076-21879fe77509"
      },
      "source": [
        "printError( U, S, Vh )"
      ],
      "execution_count": null,
      "outputs": [
        {
          "output_type": "stream",
          "text": [
            "The error ||A-A_estimate||_F/||A||_F is 4.69e-15\n",
            "The largest and smallest (non-zero) singular values are 4854.7887 and 3159.3836\n"
          ],
          "name": "stdout"
        }
      ]
    },
    {
      "cell_type": "code",
      "metadata": {
        "id": "PaxlQvAWh9Qv"
      },
      "source": [
        ""
      ],
      "execution_count": null,
      "outputs": []
    }
  ]
}