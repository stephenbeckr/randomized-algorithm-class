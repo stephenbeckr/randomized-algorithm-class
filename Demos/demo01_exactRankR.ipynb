{
  "nbformat": 4,
  "nbformat_minor": 0,
  "metadata": {
    "colab": {
      "name": "demo01_exactRankR.ipynb",
      "provenance": [],
      "authorship_tag": "ABX9TyNzMKygAycI0uQ6dbhJKqL4",
      "include_colab_link": true
    },
    "kernelspec": {
      "name": "python3",
      "display_name": "Python 3"
    },
    "language_info": {
      "name": "python"
    }
  },
  "cells": [
    {
      "cell_type": "markdown",
      "metadata": {
        "id": "view-in-github",
        "colab_type": "text"
      },
      "source": [
        "<a href=\"https://colab.research.google.com/github/stephenbeckr/randomized-algorithm-class/blob/master/Demos/demo01_exactRankR.ipynb\" target=\"_parent\"><img src=\"https://colab.research.google.com/assets/colab-badge.svg\" alt=\"Open In Colab\"/></a>"
      ]
    },
    {
      "cell_type": "markdown",
      "metadata": {
        "id": "tpCtpbyG6Od3"
      },
      "source": [
        "# Vignette #1\n",
        "\n",
        "APPM 5650 Randomized Algorithms, Fall 2021\n",
        "\n",
        "Stephen Becker (original MATLAB '19, jupyter version '21) & Jake Knigge (Python '19)\n",
        "\n",
        "**Warning**: This is not a practical algorithm, since it only works if the matrix is *exactly* low rank."
      ]
    },
    {
      "cell_type": "code",
      "metadata": {
        "id": "azcvL3hp6Ir9"
      },
      "source": [
        "import numpy as np\n",
        "from numpy.linalg import norm\n",
        "from scipy.sparse.linalg import LinearOperator, svds\n",
        "\n",
        "np.set_printoptions(precision = 4)      # display only four digits\n",
        "rng = np.random.default_rng(12345)\n",
        "n = np.int(4e3); m = n                  # dimension of problem\n",
        "r = np.int(100)                         # rank of matrix\n",
        "\n",
        "Left = rng.standard_normal( size=(m,r))\n",
        "Right= rng.standard_normal( size=(r,n))\n",
        "A = Left@Right\n",
        "# Another case is that we *know* A has this structure, in which case we can exploit:\n",
        "A_operator = LinearOperator( (m,n), matvec = lambda x : Left@(Right@x), \n",
        "                            rmatvec = lambda y : Right.T@(Left.T@y) )\n",
        "\n",
        "def printError(U,s=None,Vh=None):\n",
        "  if s is None:\n",
        "    # Assume U is really the A matrix\n",
        "    A_estimate = U\n",
        "  else:\n",
        "    S = np.reshape( s, (len(s),1) )\n",
        "    A_estimate = U@(S*Vh)\n",
        "  err = norm( A - A_estimate ) / norm( A )\n",
        "  print(f'The error ||A-A_estimate||_F/||A||_F is {err:0.2e}')"
      ],
      "execution_count": 49,
      "outputs": []
    },
    {
      "cell_type": "markdown",
      "metadata": {
        "id": "figfEc3m6raF"
      },
      "source": [
        "## Find SVD of $A$ with conventional methods"
      ]
    },
    {
      "cell_type": "markdown",
      "metadata": {
        "id": "jDN11ngv-a3B"
      },
      "source": [
        "Dense SVD"
      ]
    },
    {
      "cell_type": "code",
      "metadata": {
        "colab": {
          "base_uri": "https://localhost:8080/"
        },
        "id": "32Z8kWeA6q4M",
        "outputId": "148077cd-145b-4b35-9ead-f3cfb2fa6be3"
      },
      "source": [
        "%time U, S, Vh = np.linalg.svd(A, full_matrices=False)\n",
        "\n",
        "printError(U,S,Vh)"
      ],
      "execution_count": 48,
      "outputs": [
        {
          "output_type": "stream",
          "text": [
            "CPU times: user 1min 15s, sys: 2.29 s, total: 1min 17s\n",
            "Wall time: 39.6 s\n",
            "The error ||A-A_estimate||_F/||A||_F is 2.60e-15\n"
          ],
          "name": "stdout"
        }
      ]
    },
    {
      "cell_type": "markdown",
      "metadata": {
        "id": "2JU63wKz-fG-"
      },
      "source": [
        "Krylov subspace method (usually best for sparse matrices or some kind of structure)"
      ]
    },
    {
      "cell_type": "code",
      "metadata": {
        "colab": {
          "base_uri": "https://localhost:8080/"
        },
        "id": "HCBTmURM_Dav",
        "outputId": "5f0df43f-4e15-41c1-92d9-67104346f431"
      },
      "source": [
        "%time U, S, Vh = scipy.sparse.linalg.svds( A, k=r)\n",
        "\n",
        "printError(U,S,Vh)"
      ],
      "execution_count": 47,
      "outputs": [
        {
          "output_type": "stream",
          "text": [
            "CPU times: user 6.75 s, sys: 4.2 s, total: 11 s\n",
            "Wall time: 5.61 s\n",
            "The error ||A-A_estimate||_F/||A||_F is 9.24e-16\n"
          ],
          "name": "stdout"
        }
      ]
    },
    {
      "cell_type": "markdown",
      "metadata": {
        "id": "JObhNvxwAX0v"
      },
      "source": [
        "... and **if we knew the structure of $A$** :"
      ]
    },
    {
      "cell_type": "code",
      "metadata": {
        "colab": {
          "base_uri": "https://localhost:8080/"
        },
        "id": "XQq_XTcmASK_",
        "outputId": "652164c4-4aa3-49f6-b4ae-54bd768aa7b3"
      },
      "source": [
        "%time U, S, Vh = scipy.sparse.linalg.svds( A_operator, k=r)\n",
        "\n",
        "printError(U,S,Vh)"
      ],
      "execution_count": 46,
      "outputs": [
        {
          "output_type": "stream",
          "text": [
            "CPU times: user 664 ms, sys: 401 ms, total: 1.07 s\n",
            "Wall time: 578 ms\n",
            "The error ||A-A_estimate||_F/||A||_F is 1.31e-15\n"
          ],
          "name": "stdout"
        }
      ]
    },
    {
      "cell_type": "markdown",
      "metadata": {
        "id": "8oQdOtlD6ysQ"
      },
      "source": [
        "## Find SVD of $A$ with randomized method"
      ]
    },
    {
      "cell_type": "markdown",
      "metadata": {
        "id": "x0mHeQc0AeTm"
      },
      "source": [
        "(no knowledge of the structure of $A$ required, other than knowing a good value for $r$)"
      ]
    },
    {
      "cell_type": "code",
      "metadata": {
        "colab": {
          "base_uri": "https://localhost:8080/"
        },
        "id": "e0osJVd560y9",
        "outputId": "04c35f3a-e7ed-488e-f6f9-44641542db7a"
      },
      "source": [
        "%%time\n",
        "Omega = np.random.normal(mu, sigma, (n, r));\n",
        "Y     = A@Omega       # matrix multiply\n",
        "Q, R  = np.linalg.qr(Y, mode='reduced');\n",
        "QtA   = Q.T@A"
      ],
      "execution_count": 50,
      "outputs": [
        {
          "output_type": "stream",
          "text": [
            "CPU times: user 515 ms, sys: 12.8 ms, total: 528 ms\n",
            "Wall time: 279 ms\n"
          ],
          "name": "stdout"
        }
      ]
    },
    {
      "cell_type": "code",
      "metadata": {
        "colab": {
          "base_uri": "https://localhost:8080/"
        },
        "id": "9k6tub2965rj",
        "outputId": "d84aac91-5d22-461f-c9f8-8dae470129df"
      },
      "source": [
        "printError( Q@QtA )"
      ],
      "execution_count": 51,
      "outputs": [
        {
          "output_type": "stream",
          "text": [
            "The error ||A-A_estimate||_F/||A||_F is 4.55e-14\n"
          ],
          "name": "stdout"
        }
      ]
    },
    {
      "cell_type": "code",
      "metadata": {
        "id": "Ac3SkJtN7OZp"
      },
      "source": [
        ""
      ],
      "execution_count": null,
      "outputs": []
    }
  ]
}