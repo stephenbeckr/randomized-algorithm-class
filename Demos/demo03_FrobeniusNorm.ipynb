{
  "nbformat": 4,
  "nbformat_minor": 0,
  "metadata": {
    "colab": {
      "name": "demo03_FrobeniusNorm.ipynb",
      "provenance": [],
      "authorship_tag": "ABX9TyOupL8f7HTfWFTS7ri4I8Gf",
      "include_colab_link": true
    },
    "kernelspec": {
      "name": "python3",
      "display_name": "Python 3"
    },
    "language_info": {
      "name": "python"
    }
  },
  "cells": [
    {
      "cell_type": "markdown",
      "metadata": {
        "id": "view-in-github",
        "colab_type": "text"
      },
      "source": [
        "<a href=\"https://colab.research.google.com/github/stephenbeckr/randomized-algorithm-class/blob/master/Demos/demo03_FrobeniusNorm.ipynb\" target=\"_parent\"><img src=\"https://colab.research.google.com/assets/colab-badge.svg\" alt=\"Open In Colab\"/></a>"
      ]
    },
    {
      "cell_type": "markdown",
      "metadata": {
        "id": "RojslPeDFSWI"
      },
      "source": [
        "# Demo 3: calculating the Frobenius norm, looping over rows vs columns\n",
        "\n",
        "Demonstrates effect of stride length, and row- or column-based storage\n",
        "\n",
        "See also the `c` language demo\n",
        "\n",
        "Stephen Becker, Aug 2021, APPM 5650 Randomized Algorithms, University of Colorado Boulder"
      ]
    },
    {
      "cell_type": "code",
      "metadata": {
        "id": "NfqPCp2PBtKj"
      },
      "source": [
        "import numpy as np\n",
        "rng = np.random.default_rng(12345)"
      ],
      "execution_count": 1,
      "outputs": []
    },
    {
      "cell_type": "code",
      "metadata": {
        "id": "y37x6bdACOqq"
      },
      "source": [
        "def FrobeniusNormByRow(A, use_blas = True):\n",
        "  \"\"\" Outer loop over rows (inner loop over columns) \"\"\"\n",
        "  m,n = A.shape\n",
        "  nrm = 0.\n",
        "  if use_blas:\n",
        "    for row in range(m):\n",
        "      nrm += np.linalg.norm( A[row,:] )**2  # this is Euclidean norm, not Frobenius\n",
        "  else:\n",
        "    for row in range(m):\n",
        "      for col in range(n):\n",
        "        nrm += A[row,col]**2\n",
        "  return np.sqrt(nrm)\n",
        "\n",
        "def FrobeniusNormByColumn(A, use_blas = True):\n",
        "  \"\"\" Outer loop over columns (inner loop over rows) \"\"\"\n",
        "  m,n = A.shape\n",
        "  nrm = 0.\n",
        "  if use_blas:\n",
        "    for col in range(n):\n",
        "      nrm += np.linalg.norm( A[:,col] )**2  # this is Euclidean norm, not Frobenius\n",
        "  else:\n",
        "    for col in range(n):\n",
        "      for row in range(m):\n",
        "        nrm += A[row,col]**2\n",
        "  return np.sqrt(nrm)"
      ],
      "execution_count": 24,
      "outputs": []
    },
    {
      "cell_type": "markdown",
      "metadata": {
        "id": "oWBT6c9rEkGd"
      },
      "source": [
        "#### Run some experiments"
      ]
    },
    {
      "cell_type": "code",
      "metadata": {
        "colab": {
          "base_uri": "https://localhost:8080/"
        },
        "id": "lPX-0wH6CB__",
        "outputId": "4cc5db7b-0d15-4c6d-96ac-a4ef8bc830d7"
      },
      "source": [
        "n   = int(1e4)\n",
        "A   = rng.standard_normal( size=(n,n) )\n",
        "\n",
        "%time nrm = np.linalg.norm(A)\n",
        "print(f'The true norm is {nrm-1e4:.6f} + 1e4')"
      ],
      "execution_count": 26,
      "outputs": [
        {
          "output_type": "stream",
          "text": [
            "CPU times: user 121 ms, sys: 1.02 ms, total: 122 ms\n",
            "Wall time: 64.3 ms\n",
            "The true norm is -1.311721 + 1e4\n"
          ],
          "name": "stdout"
        }
      ]
    },
    {
      "cell_type": "code",
      "metadata": {
        "colab": {
          "base_uri": "https://localhost:8080/"
        },
        "id": "oAfXR-rSClJ8",
        "outputId": "5d0c821f-1b74-41ed-af9c-e09260517f95"
      },
      "source": [
        "%time nrmRow = FrobeniusNormByRow(A, use_blas = True)\n",
        "print(f'Looping over rows, the discrepancy in the norm is {nrmRow-nrm:.8f}')"
      ],
      "execution_count": 22,
      "outputs": [
        {
          "output_type": "stream",
          "text": [
            "CPU times: user 153 ms, sys: 0 ns, total: 153 ms\n",
            "Wall time: 154 ms\n",
            "Looping over rows, the discrepancy in the norm is -0.00000000\n"
          ],
          "name": "stdout"
        }
      ]
    },
    {
      "cell_type": "code",
      "metadata": {
        "colab": {
          "base_uri": "https://localhost:8080/"
        },
        "id": "8rzsXn1FCn4L",
        "outputId": "69145613-f5c9-4146-db75-c4de1aa3982d"
      },
      "source": [
        "%time nrmRow = FrobeniusNormByColumn(A, use_blas = True)\n",
        "print(f'Looping over columns, the discrepancy in the norm is {nrmRow-nrm:.8f}')"
      ],
      "execution_count": 25,
      "outputs": [
        {
          "output_type": "stream",
          "text": [
            "CPU times: user 615 ms, sys: 2.93 ms, total: 618 ms\n",
            "Wall time: 628 ms\n",
            "Looping over columns, the discrepancy in the norm is -0.00000000\n"
          ],
          "name": "stdout"
        }
      ]
    },
    {
      "cell_type": "markdown",
      "metadata": {
        "id": "aOCZbKZHEVkW"
      },
      "source": [
        "### Repeat the experiment without using BLAS\n",
        "Let's make the matrix smaller so we don't have to wait so long\n",
        "\n",
        "Here there is less difference, because there's already a lot of overhead just due to the `for` loop (since Python isn't compiled)"
      ]
    },
    {
      "cell_type": "code",
      "metadata": {
        "colab": {
          "base_uri": "https://localhost:8080/"
        },
        "id": "vN2AitEPDYaT",
        "outputId": "b7a5333f-194b-451f-a4c3-c0d65826f59f"
      },
      "source": [
        "n   = int(4e3)\n",
        "A   = rng.standard_normal( size=(n,n) )\n",
        "\n",
        "%time nrm = np.linalg.norm(A)\n",
        "print(f'The true norm is {nrm-n:.6f} + ', n)"
      ],
      "execution_count": 31,
      "outputs": [
        {
          "output_type": "stream",
          "text": [
            "CPU times: user 18.9 ms, sys: 1.03 ms, total: 20 ms\n",
            "Wall time: 10.4 ms\n",
            "The true norm is -0.319010 +  4000\n"
          ],
          "name": "stdout"
        }
      ]
    },
    {
      "cell_type": "code",
      "metadata": {
        "colab": {
          "base_uri": "https://localhost:8080/"
        },
        "id": "-jWTJsKIEwaE",
        "outputId": "f46dc6a2-f676-40b2-de80-e880ea85f0ae"
      },
      "source": [
        "%time nrmRow = FrobeniusNormByRow(A, use_blas = True)\n",
        "print(f'Looping over rows, the discrepancy in the norm is {nrmRow-nrm:.8f}')\n",
        "\n",
        "%time nrmRow = FrobeniusNormByRow(A, use_blas = False)\n",
        "print(f'Looping over rows (no BLAS), the discrepancy in the norm is {nrmRow-nrm:.8f}')"
      ],
      "execution_count": 32,
      "outputs": [
        {
          "output_type": "stream",
          "text": [
            "CPU times: user 44.9 ms, sys: 3.03 ms, total: 47.9 ms\n",
            "Wall time: 51.7 ms\n",
            "Looping over rows, the discrepancy in the norm is 0.00000000\n",
            "CPU times: user 10.4 s, sys: 20.1 ms, total: 10.5 s\n",
            "Wall time: 10.5 s\n",
            "Looping over rows (no BLAS), the discrepancy in the norm is 0.00000000\n"
          ],
          "name": "stdout"
        }
      ]
    },
    {
      "cell_type": "code",
      "metadata": {
        "colab": {
          "base_uri": "https://localhost:8080/"
        },
        "id": "ryB36awVE0N8",
        "outputId": "10e74b6e-36dd-465e-f03c-fd25e0d3a9b9"
      },
      "source": [
        "%time nrmRow = FrobeniusNormByColumn(A, use_blas = True)\n",
        "print(f'Looping over columns, the discrepancy in the norm is {nrmRow-nrm:.8f}')\n",
        "\n",
        "%time nrmRow = FrobeniusNormByColumn(A, use_blas = False)\n",
        "print(f'Looping over columns (no BLAS), the discrepancy in the norm is {nrmRow-nrm:.8f}')"
      ],
      "execution_count": 33,
      "outputs": [
        {
          "output_type": "stream",
          "text": [
            "CPU times: user 107 ms, sys: 2 ms, total: 109 ms\n",
            "Wall time: 113 ms\n",
            "Looping over columns, the discrepancy in the norm is 0.00000000\n",
            "CPU times: user 10.6 s, sys: 18.7 ms, total: 10.6 s\n",
            "Wall time: 10.6 s\n",
            "Looping over columns (no BLAS), the discrepancy in the norm is -0.00000000\n"
          ],
          "name": "stdout"
        }
      ]
    },
    {
      "cell_type": "code",
      "metadata": {
        "id": "1_qbYnswE4Vu"
      },
      "source": [
        ""
      ],
      "execution_count": null,
      "outputs": []
    }
  ]
}