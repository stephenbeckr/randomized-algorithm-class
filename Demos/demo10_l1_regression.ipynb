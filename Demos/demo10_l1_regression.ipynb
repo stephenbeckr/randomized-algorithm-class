{
  "nbformat": 4,
  "nbformat_minor": 0,
  "metadata": {
    "colab": {
      "name": "demo10_l1_regression.ipynb",
      "provenance": [],
      "collapsed_sections": [],
      "authorship_tag": "ABX9TyOT06kiZux71grYLRLyB2ym",
      "include_colab_link": true
    },
    "kernelspec": {
      "name": "python3",
      "display_name": "Python 3"
    },
    "language_info": {
      "name": "python"
    }
  },
  "cells": [
    {
      "cell_type": "markdown",
      "metadata": {
        "id": "view-in-github",
        "colab_type": "text"
      },
      "source": [
        "<a href=\"https://colab.research.google.com/github/stephenbeckr/randomized-algorithm-class/blob/master/Demos/demo10_l1_regression.ipynb\" target=\"_parent\"><img src=\"https://colab.research.google.com/assets/colab-badge.svg\" alt=\"Open In Colab\"/></a>"
      ]
    },
    {
      "cell_type": "markdown",
      "metadata": {
        "id": "m-Y_hYtpsvDA"
      },
      "source": [
        "# $\\ell_1$ and $\\ell_p$ regression\n",
        "\n",
        "1. Part 1: Motivation for $\\ell_1$ regression\n",
        "2. Part 2: Sketching approaches\n",
        "\n",
        "For $\\ell_1$ sketching, see [\"The Fast Cauchy Transform...\"](http://epubs.siam.org/doi/10.1137/140963698) by Clarkson et al. 2016\n",
        "in SIAM J Sci Comp, and see also David Woodruff's 2014 monograph\n",
        "\n",
        "We won't discuss $\\ell_p$ in general much, but the idea for other $p$ is to find a $p$-stable distribution.  (And if I recall, the results get worse as $p\\to\\infty$).\n",
        "\n",
        "Demo by Stephen Becker, 2019 and 2021"
      ]
    },
    {
      "cell_type": "code",
      "metadata": {
        "id": "gBXRLvQ3ssD_"
      },
      "source": [
        "import numpy as np\n",
        "import numpy.linalg\n",
        "from numpy.random import default_rng\n",
        "rng = default_rng()\n",
        "import scipy.linalg\n",
        "from matplotlib import pyplot as plt"
      ],
      "execution_count": 1,
      "outputs": []
    },
    {
      "cell_type": "markdown",
      "metadata": {
        "id": "flC0yhYK1gxo"
      },
      "source": [
        "## Motivation: robust regression\n",
        "\n",
        "Let's do a regression problem, and to keep it very simple, we'll do a problem with a 1D polynomial (and in fact, we'll force it to have a 0 intercept).\n",
        "\n",
        "We have a small amount of noise, so we start with **ordinary least squares (OLS)**\n",
        "$$\\min_x \\|Ax-b\\|_2$$\n",
        "\n",
        "But suppose one of the entries of $b$ has a **huge** error (it's an *outlier*). Is our OLS estimate reasonable?"
      ]
    },
    {
      "cell_type": "code",
      "metadata": {
        "colab": {
          "base_uri": "https://localhost:8080/",
          "height": 265
        },
        "id": "vZEsgEBis98w",
        "outputId": "0207b0e5-63f0-42e1-beab-8f0c95cbbb5f"
      },
      "source": [
        "x   = np.array([[2]])\n",
        "A   = np.arange(6).reshape( (-1,1) )\n",
        "M, N = A.shape # N = 1 since 1D example\n",
        "# add a small amount of noise\n",
        "z   = 0.3*rng.standard_normal( (M,1) )\n",
        "b   = A@x + z\n",
        "\n",
        "b[-1] = 1.2 # gross corruption, e.g., someone typed \"1.2\" instead of \"12\"\n",
        "\n",
        "plt.plot( A, b, 'o-',label='Good data')\n",
        "plt.plot( A[-1], b[-1], '*',label='Corrupted data')\n",
        "\n",
        "xLS   = scipy.linalg.lstsq(A,b)[0]\n",
        "plt.plot( A, A@xLS, '-',label='OLS fit')\n",
        "\n",
        "plt.legend()\n",
        "plt.show()"
      ],
      "execution_count": 2,
      "outputs": [
        {
          "output_type": "display_data",
          "data": {
            "image/png": "[encoded data removed]",
            "text/plain": [
              "<Figure size 432x288 with 1 Axes>"
            ]
          },
          "metadata": {
            "needs_background": "light"
          }
        }
      ]
    },
    {
      "cell_type": "markdown",
      "metadata": {
        "id": "VaYNlcCo2IXO"
      },
      "source": [
        "No! Our OLS estimate is thrown off by the outlier.\n",
        "\n",
        "Now let's try $\\ell_1$ regression\n",
        "$$\\min_x \\|Ax-b\\|_1$$\n",
        "\n",
        "This doesn't have a closed-form solution, but it is a [linear program](https://en.wikipedia.org/wiki/Linear_program), so we can efficiently solve it with optimization solvers.  We'll use the very nice [cvxpy](https://www.cvxpy.org/) package, which is an interface to several high-quality solvers.\n",
        "\n",
        "First, as a sanity check, let's use `cvxpy` to solve the $\\ell_2$ regression problem, just to make sure it matches the solution we got via linear algebra:"
      ]
    },
    {
      "cell_type": "code",
      "metadata": {
        "colab": {
          "base_uri": "https://localhost:8080/"
        },
        "id": "CqqvZxcJt8KH",
        "outputId": "c603424c-2150-45b2-aa14-b3ee583f7f61"
      },
      "source": [
        "import cvxpy as cvx\n",
        "\n",
        "beta = cvx.Variable(1)\n",
        "\n",
        "# CVXPY's norm behaves like np.linalg.norm\n",
        "obj = cvx.Minimize(cvx.norm(A*beta-b.ravel() ))\n",
        "prob = cvx.Problem(obj)\n",
        "prob.solve()\n",
        "\n",
        "x_l2 = beta.value\n",
        "\n",
        "print(x_l2[0], xLS[0][0])"
      ],
      "execution_count": 3,
      "outputs": [
        {
          "output_type": "stream",
          "name": "stdout",
          "text": [
            "1.2281318913383767 1.2281318933778826\n"
          ]
        }
      ]
    },
    {
      "cell_type": "markdown",
      "metadata": {
        "id": "dPVRGKS32sPo"
      },
      "source": [
        "Now let's move on to $\\ell_1$ regression using `cvxpy`:"
      ]
    },
    {
      "cell_type": "code",
      "metadata": {
        "colab": {
          "base_uri": "https://localhost:8080/"
        },
        "id": "5x3U6xq0u6Bq",
        "outputId": "e62b42ec-110b-47f1-dd5a-01cbad688e90"
      },
      "source": [
        "beta = cvx.Variable(1)\n",
        "\n",
        "obj = cvx.Minimize(cvx.norm(A*beta-b.ravel(), 1 ))\n",
        "prob = cvx.Problem(obj)\n",
        "prob.solve()\n",
        "\n",
        "x_l1 = beta.value\n",
        "\n",
        "print(x_l1[0], xLS[0][0])\n"
      ],
      "execution_count": 4,
      "outputs": [
        {
          "output_type": "stream",
          "name": "stdout",
          "text": [
            "1.9490125219354684 1.2281318933778826\n"
          ]
        }
      ]
    },
    {
      "cell_type": "code",
      "metadata": {
        "colab": {
          "base_uri": "https://localhost:8080/",
          "height": 265
        },
        "id": "a8VI7v25u7Gb",
        "outputId": "4b8b3700-0fdb-40d8-fbc6-0b10c4901b23"
      },
      "source": [
        "plt.plot( A, b, 'o-',label='Good data')\n",
        "plt.plot( A[-1], b[-1], '*',label='Corrupted data')\n",
        "\n",
        "xLS   = scipy.linalg.lstsq(A,b)[0]\n",
        "plt.plot( A, A@xLS, '-',label='OLS fit')\n",
        "plt.plot( A, A@x_l1, '-',label='l1 regression fit')\n",
        "\n",
        "plt.legend()\n",
        "plt.show()"
      ],
      "execution_count": 5,
      "outputs": [
        {
          "output_type": "display_data",
          "data": {
            "image/png": "[encoded data removed]",
            "text/plain": [
              "<Figure size 432x288 with 1 Axes>"
            ]
          },
          "metadata": {
            "needs_background": "light"
          }
        }
      ]
    },
    {
      "cell_type": "markdown",
      "metadata": {
        "id": "4ts8OOIh2xW6"
      },
      "source": [
        "It's much less sensitive to the outlier!  Exactly as we had hoped."
      ]
    },
    {
      "cell_type": "markdown",
      "metadata": {
        "id": "40F9YA13sopN"
      },
      "source": [
        "## Does JL apply to $\\ell_p$ ($p\\neq 2$) norms?\n",
        "\n",
        "So now that we've motivated why we might want to solve $\\ell_1$ regression, we ask if we can use sketching techniques to help solve it faster.  The first question is whether linear sketches can preserve $\\ell_1$ norms.  We'll start with a Gaussian (or FJLT) sketch."
      ]
    },
    {
      "cell_type": "code",
      "metadata": {
        "id": "RsMvVUBhwHLP"
      },
      "source": [
        "# Download sketching code\n",
        "!wget -q https://raw.githubusercontent.com/stephenbeckr/randomized-algorithm-class/master/Code/sketch.py\n",
        "import sketch as sk\n",
        "import scipy.sparse\n",
        "\n",
        "M, N = int(3e4), int(3e2)\n",
        "\n",
        "X   = rng.standard_normal( (M,N) )@np.diag(np.logspace(0,4,N))@(\n",
        "    rng.standard_normal((N,N) ) + 0.03*np.eye(N) )\n",
        "Z   = scipy.sparse.random(M, N, density=0.01)\n",
        "X   = np.hstack( (X,Z.toarray() ) )\n",
        "M, N = X.shape\n",
        "\n",
        "\n",
        "col2Norms = scipy.linalg.norm( X, ord=2, axis=0)\n",
        "col1Norms = scipy.linalg.norm( X, ord=1, axis=0)\n",
        "\n",
        "m   = int(3e2)\n",
        "# S   = sk.FJLT( (m,M) )\n",
        "S   = sk.Gaussian( (m,M) )\n",
        "SX  = S@X\n",
        "\n",
        "col2Norms_sk = scipy.linalg.norm( SX, ord=2, axis=0)\n",
        "col1Norms_sk = scipy.linalg.norm( SX, ord=1, axis=0)"
      ],
      "execution_count": 10,
      "outputs": []
    },
    {
      "cell_type": "code",
      "metadata": {
        "colab": {
          "base_uri": "https://localhost:8080/",
          "height": 283
        },
        "id": "S7f8hbsfuCFL",
        "outputId": "3d51835a-e50d-4c70-871a-a2314ebee976"
      },
      "source": [
        "plt.hist( col2Norms_sk / col2Norms )\n",
        "plt.title('Ratio of $\\ell_2$ norms, sketched/unsketched [Gaussian sketch]')\n",
        "plt.show()"
      ],
      "execution_count": 11,
      "outputs": [
        {
          "output_type": "display_data",
          "data": {
            "image/png": "[encoded data removed]",
            "text/plain": [
              "<Figure size 432x288 with 1 Axes>"
            ]
          },
          "metadata": {
            "needs_background": "light"
          }
        }
      ]
    },
    {
      "cell_type": "code",
      "metadata": {
        "colab": {
          "base_uri": "https://localhost:8080/",
          "height": 283
        },
        "id": "RxWq5stQuehl",
        "outputId": "6fb885a6-78f9-43f4-c177-17b6456dfd0b"
      },
      "source": [
        "plt.hist( col1Norms_sk / col1Norms )\n",
        "plt.title('Ratio of $\\ell_1$ norms, sketched/unsketched [Gaussian sketch]')\n",
        "plt.show()"
      ],
      "execution_count": 12,
      "outputs": [
        {
          "output_type": "display_data",
          "data": {
            "image/png": "[encoded data removed]",
            "text/plain": [
              "<Figure size 432x288 with 1 Axes>"
            ]
          },
          "metadata": {
            "needs_background": "light"
          }
        }
      ]
    },
    {
      "cell_type": "markdown",
      "metadata": {
        "id": "DzjSRquz3ERf"
      },
      "source": [
        "As expected, the Gaussian/FJLT sketch *does* preserve $\\ell_2$ norms.  It *can* preserve $\\ell_1$ norms if you have a nice homogeneous dataset, but it doesn't have to preserve $\\ell_1$ norms. In this example, some of the data are dense, and some are sparse, and we see very different behaviors for the two classes of data.\n",
        "\n",
        "We conclude that the Gaussian/FJLT sketch does **not** preserve $\\ell_1$ norms.\n",
        "\n",
        "If Gaussians don't, then what does?  The answer is that the **Cauchy** distribution does (to some extent), as we'll now examine."
      ]
    },
    {
      "cell_type": "code",
      "metadata": {
        "colab": {
          "base_uri": "https://localhost:8080/",
          "height": 549
        },
        "id": "-58xM3utuioC",
        "outputId": "fe55a7b5-3f97-4510-be7a-fa1f97950e5f"
      },
      "source": [
        "S   = rng.standard_cauchy((m,M))/np.sqrt(m)\n",
        "\n",
        "SX  = S@X\n",
        "\n",
        "col2Norms_sk = scipy.linalg.norm( SX, ord=2, axis=0)\n",
        "col1Norms_sk = scipy.linalg.norm( SX, ord=1, axis=0)\n",
        "\n",
        "plt.hist( col2Norms_sk / col2Norms )\n",
        "plt.title('Ratio of $\\ell_2$ norms, sketched/unsketched [Cauchy sketch]')\n",
        "plt.show()\n",
        "\n",
        "plt.hist( col1Norms_sk / col1Norms )\n",
        "plt.title('Ratio of $\\ell_1$ norms, sketched/unsketched [Cauchy sketch]')\n",
        "plt.show()"
      ],
      "execution_count": 13,
      "outputs": [
        {
          "output_type": "display_data",
          "data": {
            "image/png": "[encoded data removed]",
            "text/plain": [
              "<Figure size 432x288 with 1 Axes>"
            ]
          },
          "metadata": {
            "needs_background": "light"
          }
        },
        {
          "output_type": "display_data",
          "data": {
            "image/png": "[encoded data removed]",
            "text/plain": [
              "<Figure size 432x288 with 1 Axes>"
            ]
          },
          "metadata": {
            "needs_background": "light"
          }
        }
      ]
    },
    {
      "cell_type": "markdown",
      "metadata": {
        "id": "YXJkv7kl3iCc"
      },
      "source": [
        "Not as effective as Gaussian sketches at preserving $\\ell_2$ distance, but better than a Gaussian sketch at preserving $\\ell_1$ distances."
      ]
    },
    {
      "cell_type": "markdown",
      "metadata": {
        "id": "14z-8wysw_wf"
      },
      "source": [
        "## Solve $\\ell_p$ regression via sketching\n",
        "\n",
        "So we'll try a Cauchy sketch.  Our first attempt is a \"sketch-to-solve\" approach,\n",
        "$$\\min_x \\| SAx - Sb \\|_1. $$\n",
        "\n",
        "Let's see how that does.  First, we'll make some problem data $A,b$ and solve the original problem via `cvxpy` to get a reference solution."
      ]
    },
    {
      "cell_type": "code",
      "metadata": {
        "colab": {
          "base_uri": "https://localhost:8080/"
        },
        "id": "Xoov4dktwfmN",
        "outputId": "e1327727-ea89-4a1a-d962-a7c020749def"
      },
      "source": [
        "import cvxpy as cvx\n",
        "M, N = int(1e3), int(1e2)\n",
        "\n",
        "A   = rng.standard_normal( (M,N) )@np.diag(np.logspace(0,4,N))@(\n",
        "    rng.standard_normal((N,N) ) + 0.03*np.eye(N) )\n",
        "Z   = scipy.sparse.random(M, N, density=0.01)\n",
        "A   = np.hstack( (A,Z.toarray() ) )\n",
        "M, N = A.shape\n",
        "\n",
        "x0  = rng.standard_normal( (N,1) )\n",
        "b   = A@x0 + .01*rng.standard_normal((M,1))\n",
        "\n",
        "# cvxpy code:\n",
        "x     = cvx.Variable(N)\n",
        "obj   = cvx.Minimize(cvx.norm(A*x-b.ravel() , 1 ))\n",
        "prob  = cvx.Problem(obj)\n",
        "prob.solve(verbose=True)\n",
        "x_l1  = x.value"
      ],
      "execution_count": 14,
      "outputs": [
        {
          "output_type": "stream",
          "name": "stdout",
          "text": [
            "\n",
            "ECOS 2.0.7 - (C) embotech GmbH, Zurich Switzerland, 2012-15. Web: www.embotech.com/ECOS\n",
            "\n",
            "It     pcost       dcost      gap   pres   dres    k/t    mu     step   sigma     IR    |   BT\n",
            " 0  +1.420e-11  +3.434e-09  +2e+05  6e-04  3e-05  1e+00  1e+02    ---    ---    1  1  - |  -  - \n",
            " 1  +5.980e-03  +1.681e-02  +2e+03  6e-06  3e-07  2e-02  1e+00  0.9890  1e-04   1  2  2 |  0  0\n",
            " 2  +6.299e-02  +6.337e-02  +6e+01  1e-07  7e-09  6e-04  3e-02  0.9764  1e-04   2  2  2 |  0  0\n",
            " 3  +2.213e+00  +2.214e+00  +9e+00  2e-08  1e-09  1e-03  5e-03  0.8824  5e-02   2  2  2 |  0  0\n",
            " 4  +5.011e+00  +5.011e+00  +2e+00  6e-09  1e-09  5e-04  1e-03  0.7975  4e-02   3  3  3 |  0  0\n",
            " 5  +5.894e+00  +5.895e+00  +7e-01  2e-09  2e-09  2e-04  3e-04  0.7552  4e-02   3  3  3 |  0  0\n",
            " 6  +6.219e+00  +6.219e+00  +2e-01  9e-10  2e-09  7e-05  1e-04  0.7804  1e-01   3  3  3 |  0  0\n",
            " 7  +6.340e+00  +6.340e+00  +7e-02  5e-10  1e-09  3e-05  3e-05  0.8182  2e-01   3  3  3 |  0  0\n",
            " 8  +6.376e+00  +6.376e+00  +3e-02  3e-10  6e-10  2e-05  2e-05  0.7721  3e-01   3  3  3 |  0  0\n",
            " 9  +6.400e+00  +6.400e+00  +9e-03  2e-10  3e-10  6e-06  5e-06  0.9140  2e-01   3  3  3 |  0  0\n",
            "10  +6.404e+00  +6.404e+00  +6e-03  2e-10  2e-10  4e-06  3e-06  0.5924  4e-01   4  3  3 |  0  0\n",
            "11  +6.410e+00  +6.410e+00  +2e-03  1e-10  1e-10  1e-06  1e-06  0.9204  3e-01   4  4  4 |  0  0\n",
            "12  +6.412e+00  +6.412e+00  +1e-03  1e-10  7e-11  7e-07  5e-07  0.6714  2e-01   4  4  3 |  0  0\n",
            "13  +6.412e+00  +6.412e+00  +1e-03  9e-11  6e-11  6e-07  5e-07  0.6493  8e-01   4  3  3 |  0  0\n",
            "14  +6.413e+00  +6.413e+00  +8e-04  9e-11  5e-11  5e-07  4e-07  0.3543  4e-01   4  4  4 |  0  0\n",
            "15  +6.413e+00  +6.413e+00  +7e-04  8e-11  5e-11  4e-07  3e-07  0.9890  8e-01   3  4  4 |  0  0\n",
            "16  +6.414e+00  +6.414e+00  +3e-04  7e-11  3e-11  2e-07  1e-07  0.7656  2e-01   4  4  4 |  0  0\n",
            "17  +6.414e+00  +6.414e+00  +1e-04  6e-11  2e-11  7e-08  6e-08  0.8924  3e-01   4  4  3 |  0  0\n",
            "18  +6.414e+00  +6.414e+00  +8e-05  6e-11  2e-11  5e-08  4e-08  0.6508  5e-01   4  3  4 |  0  0\n",
            "19  +6.415e+00  +6.415e+00  +6e-05  6e-11  2e-11  4e-08  3e-08  0.9890  6e-01   4  4  4 |  0  0\n",
            "20  +6.415e+00  +6.415e+00  +6e-05  5e-11  2e-11  4e-08  3e-08  0.2579  8e-01   4  4  4 |  0  0\n",
            "21  +6.415e+00  +6.415e+00  +6e-05  5e-11  2e-11  3e-08  3e-08  0.2545  7e-01   4  4  4 |  0  0\n",
            "22  +6.415e+00  +6.415e+00  +4e-05  5e-11  2e-11  2e-08  2e-08  0.5247  2e-01   4  3  4 |  0  0\n",
            "23  +6.415e+00  +6.415e+00  +5e-05  5e-11  2e-11  2e-08  3e-08  0.1335  9e-01   4  4  4 |  0  0\n",
            "24  +6.415e+00  +6.415e+00  +5e-05  5e-11  2e-11  3e-08  2e-08  0.9890  7e-01   4  4  4 |  0  0\n",
            "25  +6.415e+00  +6.415e+00  +3e-05  5e-11  2e-11  2e-08  1e-08  0.5932  2e-01   4  3  4 |  0  0\n",
            "26  +6.415e+00  +6.415e+00  +2e-05  4e-11  1e-11  1e-08  1e-08  0.9890  7e-01   4  4  4 |  0  0\n",
            "27  +6.415e+00  +6.415e+00  +2e-05  4e-11  1e-11  1e-08  9e-09  0.4585  4e-01   3  4  4 |  0  0\n",
            "28  +6.415e+00  +6.415e+00  +2e-05  4e-11  1e-11  1e-08  1e-08  0.0151  1e+00   4  4  5 |  0  0\n",
            "29  +6.415e+00  +6.415e+00  +2e-05  4e-11  1e-11  8e-09  9e-09  0.6106  5e-01   4  4  4 |  0  0\n",
            "30  +6.415e+00  +6.415e+00  +1e-05  4e-11  1e-11  8e-09  7e-09  0.7188  6e-01   4  4  4 |  0  0\n",
            "31  +6.415e+00  +6.415e+00  +2e-05  4e-11  1e-11  8e-09  9e-09  0.7075  8e-01   4  4  4 |  0  0\n",
            "32  +6.415e+00  +6.415e+00  +2e-05  3e-11  1e-11  9e-09  1e-08  0.1763  8e-01   4  4  4 |  0  0\n",
            "33  +6.415e+00  +6.415e+00  +2e-05  3e-11  1e-11  7e-09  8e-09  0.6912  5e-01   3  4  4 |  0  0\n",
            "34  +6.415e+00  +6.415e+00  +2e-05  3e-11  1e-11  8e-09  9e-09  0.0095  1e+00   4  4  4 |  0  0\n",
            "35  +6.415e+00  +6.415e+00  +1e-05  3e-11  8e-12  4e-09  5e-09  0.6070  2e-01   4  3  4 |  0  0\n",
            "36  +6.415e+00  +6.415e+00  +1e-05  3e-11  7e-12  5e-09  5e-09  0.7496  7e-01   4  4  3 |  0  0\n",
            "37  +6.415e+00  +6.415e+00  +1e-05  3e-11  7e-12  5e-09  5e-09  0.3049  7e-01   3  4  4 |  0  0\n",
            "38  +6.415e+00  +6.415e+00  +5e-06  2e-11  6e-12  2e-09  2e-09  0.9890  3e-01   4  4  4 |  0  0\n",
            "39  +6.415e+00  +6.415e+00  +3e-06  2e-11  5e-12  2e-09  2e-09  0.5015  2e-01   4  4  4 |  0  0\n",
            "40  +6.416e+00  +6.416e+00  +8e-06  2e-11  5e-12  2e-09  4e-09  0.0257  1e+00   3  4  4 |  0  0\n",
            "41  +6.416e+00  +6.416e+00  +7e-06  2e-11  5e-12  4e-09  3e-09  0.9890  7e-01   4  4  4 |  0  0\n",
            "42  +6.416e+00  +6.416e+00  +4e-06  2e-11  5e-12  2e-09  2e-09  0.5588  1e-01   4  4  4 |  0  0\n",
            "43  +6.416e+00  +6.416e+00  +1e-05  2e-11  4e-12  2e-09  7e-09  0.0911  1e+00   4  4  4 |  0  0\n",
            "44  +6.416e+00  +6.416e+00  +5e-06  2e-11  4e-12  2e-09  2e-09  0.9890  2e-01   4  4  4 |  0  0\n",
            "45  +6.416e+00  +6.416e+00  +4e-06  2e-11  4e-12  2e-09  2e-09  0.5010  6e-01   4  4  4 |  0  0\n",
            "46  +6.416e+00  +6.416e+00  +4e-06  2e-11  4e-12  2e-09  2e-09  0.1155  9e-01   4  4  4 |  0  0\n",
            "47  +6.416e+00  +6.416e+00  +3e-06  2e-11  4e-12  2e-09  2e-09  0.9559  7e-01   4  3  4 |  0  0\n",
            "48  +6.416e+00  +6.416e+00  +3e-06  2e-11  4e-12  1e-09  1e-09  0.4639  3e-01   4  4  4 |  0  0\n",
            "49  +6.416e+00  +6.416e+00  +3e-06  2e-11  4e-12  1e-09  2e-09  0.0159  1e+00   3  4  4 |  0  0\n",
            "50  +6.416e+00  +6.416e+00  +3e-06  2e-11  4e-12  1e-09  2e-09  0.0054  1e+00   4  4  4 |  0  0\n",
            "51  +6.416e+00  +6.416e+00  +4e-06  2e-11  3e-12  2e-09  2e-09  0.9890  7e-01   4  4  4 |  0  0\n",
            "52  +6.416e+00  +6.416e+00  +4e-06  1e-11  3e-12  2e-09  2e-09  0.9890  7e-01   4  4  4 |  0  0\n",
            "53  +6.416e+00  +6.416e+00  +3e-06  1e-11  3e-12  2e-09  2e-09  0.5517  4e-01   5  4  5 |  0  0\n",
            "54  +6.416e+00  +6.416e+00  +4e-06  1e-11  2e-12  2e-09  2e-09  0.0290  1e+00   4  4  5 |  0  0\n",
            "55  +6.416e+00  +6.416e+00  +2e-06  1e-11  2e-12  8e-10  1e-09  0.6315  1e-01   5  4  4 |  0  0\n",
            "56  +6.416e+00  +6.416e+00  +3e-06  1e-11  2e-12  1e-09  1e-09  0.4305  9e-01   4  4  4 |  0  0\n",
            "57  +6.416e+00  +6.416e+00  +7e-07  1e-11  2e-12  3e-10  4e-10  0.9017  1e-01   5  3  4 |  0  0\n",
            "58  +6.416e+00  +6.416e+00  +3e-07  1e-11  1e-12  1e-10  1e-10  0.8596  2e-01   5  4  4 |  0  0\n",
            "59  +6.416e+00  +6.416e+00  +4e-07  1e-11  1e-12  2e-10  2e-10  0.2719  9e-01   5  4  5 |  0  0\n",
            "60  +6.416e+00  +6.416e+00  +1e-07  1e-11  1e-12  6e-11  7e-11  0.7901  9e-02   5  4  4 |  0  0\n",
            "61  +6.416e+00  +6.416e+00  +2e-07  1e-11  1e-12  9e-11  1e-10  0.9890  9e-01   5  4  4 |  0  0\n",
            "62  +6.416e+00  +6.416e+00  +7e-08  1e-11  1e-12  3e-11  3e-11  0.7355  4e-02   4  4  4 |  0  0\n",
            "63  +6.416e+00  +6.416e+00  +7e-08  1e-11  1e-12  3e-11  4e-11  0.0147  1e+00   4  3  5 |  0  0\n",
            "64  +6.416e+00  +6.416e+00  +4e-08  1e-11  1e-12  1e-11  2e-11  0.9890  2e-01   5  3  4 |  0  0\n",
            "\n",
            "OPTIMAL (within feastol=9.7e-12, reltol=5.5e-09, abstol=3.6e-08).\n",
            "Runtime: 3.048141 seconds.\n",
            "\n"
          ]
        }
      ]
    },
    {
      "cell_type": "markdown",
      "metadata": {
        "id": "69ivflPp36ri"
      },
      "source": [
        "Now let's solve the sketched problem:"
      ]
    },
    {
      "cell_type": "code",
      "metadata": {
        "colab": {
          "base_uri": "https://localhost:8080/"
        },
        "id": "_f4Mah7dxxK5",
        "outputId": "b3aa7e4e-537f-477b-df25-6ad388318e23"
      },
      "source": [
        "# Sketch the data\n",
        "m     = 2*N\n",
        "S     = rng.standard_cauchy((m,M))/np.sqrt(m)\n",
        "SA    = S@A\n",
        "Sb    = S@b\n",
        "\n",
        "# Solve the sketched problem\n",
        "x     = cvx.Variable(N)\n",
        "obj   = cvx.Minimize(cvx.norm(SA*x-Sb.ravel() , 1 ))\n",
        "prob  = cvx.Problem(obj)\n",
        "prob.solve(verbose=True)\n",
        "x_sk  = x.value\n",
        "\n",
        "objFcn= lambda x : scipy.linalg.norm( A@x - b.ravel(), 1 )\n",
        "\n",
        "objTrue = objFcn( x_l1 )\n",
        "objSk   = objFcn( x_sk )\n",
        "err     = scipy.linalg.norm( x_l1 - x_sk )\n",
        "print(f'True objective value is {objTrue}, objective via sketching is {objSk}')\n",
        "print(f'Distance ||x-x_sk|| is {err}')"
      ],
      "execution_count": 15,
      "outputs": [
        {
          "output_type": "stream",
          "name": "stdout",
          "text": [
            "\n",
            "ECOS 2.0.7 - (C) embotech GmbH, Zurich Switzerland, 2012-15. Web: www.embotech.com/ECOS\n",
            "\n",
            "It     pcost       dcost      gap   pres   dres    k/t    mu     step   sigma     IR    |   BT\n",
            " 0  +0.000e+00  +8.795e-06  +1e+06  4e-05  3e-06  1e+00  1e+03    ---    ---    1  1  - |  -  - \n",
            " 1  +3.318e+02  +3.319e+02  +1e+04  5e-07  8e-08  1e-01  2e+01  0.9865  1e-04   2  2  3 |  0  0\n",
            " 2  +4.965e+01  +4.971e+01  +1e+03  4e-08  2e-08  6e-02  2e+00  0.9174  3e-03   4  5  4 |  0  0\n",
            " 3  +8.051e+01  +8.066e+01  +4e+02  1e-08  7e-09  1e-01  5e-01  0.7634  1e-01   3  4  4 |  0  0\n",
            " 4  +9.701e+01  +9.707e+01  +1e+02  4e-09  3e-09  6e-02  2e-01  0.7383  7e-02   4  6  6 |  0  0\n",
            " 5  +1.048e+02  +1.048e+02  +4e+01  1e-09  1e-09  2e-02  5e-02  0.7144  5e-02   4  4  4 |  0  0\n",
            " 6  +1.077e+02  +1.077e+02  +1e+01  4e-10  5e-10  1e-02  2e-02  0.7992  1e-01   4  5  5 |  0  0\n",
            " 7  +1.090e+02  +1.090e+02  +4e+00  1e-10  3e-10  4e-03  5e-03  0.7625  1e-01   4  5  5 |  0  0\n",
            " 8  +1.095e+02  +1.095e+02  +1e+00  5e-11  1e-10  1e-03  2e-03  0.7730  1e-01   5  6  5 |  0  0\n",
            " 9  +1.097e+02  +1.097e+02  +4e-01  2e-11  6e-11  4e-04  5e-04  0.7738  1e-01   5  8  8 |  0  0\n",
            "10  +1.098e+02  +1.098e+02  +9e-02  5e-12  5e-11  1e-04  1e-04  0.9023  1e-01   7  8  8 |  0  0\n",
            "11  +1.098e+02  +1.098e+02  +2e-02  2e-12  2e-11  3e-05  3e-05  0.7937  6e-02   6  6  6 |  0  0\n",
            "12  +1.098e+02  +1.098e+02  +5e-03  1e-12  1e-11  6e-06  6e-06  0.8668  1e-01   5  5  6 |  0  0\n",
            "13  +1.098e+02  +1.098e+02  +5e-04  1e-13  1e-13  6e-07  6e-07  0.9890  9e-02   6  5  6 |  0  0\n",
            "14  +1.098e+02  +1.098e+02  +5e-06  1e-14  4e-13  7e-09  7e-09  0.9890  1e-04   5  5  5 |  0  0\n",
            "15  +1.098e+02  +1.098e+02  +6e-08  2e-15  7e-14  7e-11  8e-11  0.9890  1e-04   5  4  4 |  0  0\n",
            "\n",
            "OPTIMAL (within feastol=7.1e-14, reltol=5.5e-10, abstol=6.0e-08).\n",
            "Runtime: 1.190638 seconds.\n",
            "\n",
            "True objective value is 6.41687477393193, objective via sketching is 12.980534532866706\n",
            "Distance ||x-x_sk|| is 0.23581005092300966\n"
          ]
        }
      ]
    },
    {
      "cell_type": "markdown",
      "metadata": {
        "id": "S_uu6Fnky1Z5"
      },
      "source": [
        "#### Solve the other way: use \"leverage score\" sampling\n",
        "(Not really usual leverage scores)\n",
        "\n",
        "The direct sketch-to-solve didn't work that well.  Another approach is to take the sketched matrix $SA$ and compute a $QR$ factorization; then $$U=AR^{-1}$$ (which can also be approximated; see section 3.4 in Woodruff's monograph) is a **well-conditioned basis** and we can do \"leverage score\"-like sampling with each row selected proportional to the $\\ell_1$ norms of the rows of $U$."
      ]
    },
    {
      "cell_type": "code",
      "metadata": {
        "id": "_WD5YZaIyscd"
      },
      "source": [
        "m     = 2*N\n",
        "S     = rng.standard_cauchy((m,M))/np.sqrt(m)\n",
        "SA    = S@A\n",
        "Sb    = S@b\n",
        "\n",
        "R           = np.linalg.qr(SA,mode='r')\n",
        "# set basis = A*R^{-1}, or basis^T = R^{-T}A^T\n",
        "basis       = scipy.linalg.solve_triangular(R, A.T, trans='T').T\n",
        "levScores   = scipy.linalg.norm( basis, ord=1, axis=1)\n",
        "ind         = rng.choice( M, size=m, replace=True, p=levScores/levScores.sum() )"
      ],
      "execution_count": 17,
      "outputs": []
    },
    {
      "cell_type": "markdown",
      "metadata": {
        "id": "LLmL6MNq4zjy"
      },
      "source": [
        "... and now sub-sample according to these \"leverage scores\":"
      ]
    },
    {
      "cell_type": "code",
      "metadata": {
        "colab": {
          "base_uri": "https://localhost:8080/"
        },
        "id": "k8HWX47XzsId",
        "outputId": "2ab36955-cd2a-48cb-fe30-54c3842bb2dc"
      },
      "source": [
        "# It's not quite this simple, since we need to rescale:\n",
        "# SA    = A[ind,:]\n",
        "# Sb    = b[ind]\n",
        "\n",
        "# Instead, do it this way and it includes the scaling\n",
        "S     = sk.Subsample( (m,M), weights=levScores/levScores.sum() )\n",
        "SA    = S@A\n",
        "Sb    = S@b\n",
        "\n",
        "x     = cvx.Variable(N)\n",
        "obj   = cvx.Minimize(cvx.norm(SA*x-Sb.ravel() , 1 ))\n",
        "prob  = cvx.Problem(obj)\n",
        "prob.solve(verbose=True)\n",
        "x_sk  = x.value\n",
        "\n",
        "objFcn= lambda x : scipy.linalg.norm( A@x - b.ravel(), 1 )\n",
        "\n",
        "objTrue = objFcn( x_l1 )\n",
        "objSk   = objFcn( x_sk )\n",
        "err     = scipy.linalg.norm( x_l1 - x_sk )\n",
        "print(f'True objective value is {objTrue}, objective via sketching is {objSk}')\n",
        "print(f'Distance ||x-x_sk|| is {err}')"
      ],
      "execution_count": 18,
      "outputs": [
        {
          "output_type": "stream",
          "name": "stdout",
          "text": [
            "\n",
            "ECOS 2.0.7 - (C) embotech GmbH, Zurich Switzerland, 2012-15. Web: www.embotech.com/ECOS\n",
            "\n",
            "It     pcost       dcost      gap   pres   dres    k/t    mu     step   sigma     IR    |   BT\n",
            " 0  +3.498e-11  -9.124e-09  +1e+05  4e-04  2e-05  1e+00  1e+02    ---    ---    1  1  - |  -  - \n",
            " 1  +5.463e-02  +6.811e-02  +1e+03  5e-06  2e-07  2e-02  2e+00  0.9890  1e-04   1  1  2 |  0  0\n",
            " 2  +2.660e-02  +2.705e-02  +3e+01  1e-07  5e-09  7e-04  3e-02  0.9776  1e-04   2  2  2 |  0  0\n",
            " 3  +8.272e-01  +8.285e-01  +4e+00  2e-08  8e-10  1e-03  5e-03  0.8801  4e-02   2  2  3 |  0  0\n",
            " 4  +1.669e+00  +1.669e+00  +1e+00  5e-09  2e-09  6e-04  2e-03  0.7269  5e-02   2  3  2 |  0  0\n",
            " 5  +1.930e+00  +1.930e+00  +5e-01  2e-09  2e-09  3e-04  6e-04  0.7666  1e-01   3  2  3 |  0  0\n",
            " 6  +2.017e+00  +2.018e+00  +2e-01  1e-09  2e-09  2e-04  3e-04  0.7025  2e-01   3  3  3 |  0  0\n",
            " 7  +2.054e+00  +2.054e+00  +1e-01  6e-10  1e-09  1e-04  1e-04  0.7919  4e-01   3  3  3 |  0  0\n",
            " 8  +2.082e+00  +2.082e+00  +5e-02  4e-10  8e-10  8e-05  7e-05  0.9890  5e-01   3  3  3 |  0  0\n",
            " 9  +2.102e+00  +2.102e+00  +2e-02  2e-10  4e-10  2e-05  2e-05  0.8110  1e-01   3  3  4 |  0  0\n",
            "10  +2.110e+00  +2.110e+00  +6e-03  1e-10  2e-10  8e-06  7e-06  0.9688  3e-01   4  4  4 |  0  0\n",
            "11  +2.114e+00  +2.115e+00  +2e-03  8e-11  1e-10  3e-06  3e-06  0.8534  2e-01   5  4  5 |  0  0\n",
            "12  +2.116e+00  +2.116e+00  +9e-04  6e-11  6e-11  1e-06  1e-06  0.7686  2e-01   4  4  4 |  0  0\n",
            "13  +2.116e+00  +2.116e+00  +8e-04  4e-11  4e-11  1e-06  1e-06  0.7401  8e-01   4  4  4 |  0  0\n",
            "14  +2.117e+00  +2.117e+00  +3e-04  3e-11  3e-11  5e-07  4e-07  0.6303  6e-02   4  4  4 |  0  0\n",
            "15  +2.117e+00  +2.117e+00  +2e-04  2e-11  2e-11  2e-07  2e-07  0.8320  4e-01   5  4  5 |  0  0\n",
            "16  +2.117e+00  +2.117e+00  +1e-05  1e-11  4e-12  1e-08  1e-08  0.9658  2e-02   5  5  4 |  0  0\n",
            "17  +2.117e+00  +2.117e+00  +1e-05  1e-11  2e-11  1e-08  1e-08  0.0658  8e-01   9  1  1 |  0  0\n",
            "18  +2.117e+00  +2.117e+00  +4e-06  4e-12  8e-12  5e-09  5e-09  0.7584  2e-01   9  7  8 |  0  0\n",
            "19  +2.118e+00  +2.118e+00  +4e-07  1e-12  1e-12  4e-10  4e-10  0.9275  8e-03   9  8  9 |  0  0\n",
            "20  +2.118e+00  +2.118e+00  +2e-07  1e-12  4e-12  3e-10  2e-10  0.6753  3e-01   2  1  1 |  0  0\n",
            "21  +2.118e+00  +2.118e+00  +1e-07  1e-12  2e-12  2e-10  1e-10  0.9890  5e-01   7  5  4 |  0  0\n",
            "22  +2.118e+00  +2.118e+00  +2e-08  1e-12  4e-13  3e-11  3e-11  0.9890  2e-01   8  7  6 |  0  0\n",
            "23  +2.118e+00  +2.118e+00  +3e-09  9e-13  1e-13  2e-12  4e-12  0.9890  4e-02   7  5  5 |  0  0\n",
            "\n",
            "OPTIMAL (within feastol=9.2e-13, reltol=1.6e-09, abstol=3.4e-09).\n",
            "Runtime: 0.553765 seconds.\n",
            "\n",
            "True objective value is 6.41687477393193, objective via sketching is 13.2359804149934\n",
            "Distance ||x-x_sk|| is 0.33279716514434177\n"
          ]
        }
      ]
    },
    {
      "cell_type": "markdown",
      "metadata": {
        "id": "PoSGjx9X43py"
      },
      "source": [
        "The results aren't that great still.  My general experience is that sketching doesn't work well in practice for any kind of norm-based problem if the norm is not the Euclidean norm.  Theoretically there can be benefits, but you'd need to have very high-dimensional data to see the benefit."
      ]
    }
  ]
}