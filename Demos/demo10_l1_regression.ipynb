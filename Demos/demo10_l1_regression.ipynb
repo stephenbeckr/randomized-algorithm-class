{
  "nbformat": 4,
  "nbformat_minor": 0,
  "metadata": {
    "colab": {
      "name": "demo10_l1_regression.ipynb",
      "provenance": [],
      "collapsed_sections": [],
      "authorship_tag": "ABX9TyM2l0HXEic4zJJ2nNFibMBl",
      "include_colab_link": true
    },
    "kernelspec": {
      "name": "python3",
      "display_name": "Python 3"
    },
    "language_info": {
      "name": "python"
    }
  },
  "cells": [
    {
      "cell_type": "markdown",
      "metadata": {
        "id": "view-in-github",
        "colab_type": "text"
      },
      "source": [
        "<a href=\"https://colab.research.google.com/github/stephenbeckr/randomized-algorithm-class/blob/master/Demos/demo10_l1_regression.ipynb\" target=\"_parent\"><img src=\"https://colab.research.google.com/assets/colab-badge.svg\" alt=\"Open In Colab\"/></a>"
      ]
    },
    {
      "cell_type": "markdown",
      "metadata": {
        "id": "m-Y_hYtpsvDA"
      },
      "source": [
        "# $\\ell_1$ and $\\ell_p$ regression\n",
        "\n",
        "1. Part 1: Motivation for $\\ell_1$ regression\n",
        "2. Part 2: Sketching approaches\n",
        "\n",
        "For $\\ell_1$ sketching, see [\"The Fast Cauchy Transform...\"](http://epubs.siam.org/doi/10.1137/140963698) by Clarkson et al. 2016\n",
        "in SIAM J Sci Comp, and see also David Woodruff's 2014 monograph\n",
        "\n",
        "We won't discuss $\\ell_p$ in general much, but the idea for other $p$ is to find a $p$-stable distribution.  (And if I recall, the results get worse as $p\\to\\infty$).\n",
        "\n",
        "Demo by Stephen Becker, 2019 and 2021"
      ]
    },
    {
      "cell_type": "code",
      "metadata": {
        "id": "gBXRLvQ3ssD_"
      },
      "source": [
        "import numpy as np\n",
        "import numpy.linalg\n",
        "from numpy.random import default_rng\n",
        "rng = default_rng()\n",
        "import scipy.linalg\n",
        "from matplotlib import pyplot as plt"
      ],
      "execution_count": 2,
      "outputs": []
    },
    {
      "cell_type": "markdown",
      "metadata": {
        "id": "flC0yhYK1gxo"
      },
      "source": [
        "## Motivation: robust regression\n",
        "\n",
        "Let's do a regression problem, and to keep it very simple, we'll do a problem with a 1D polynomial (and in fact, we'll force it to have a 0 intercept).\n",
        "\n",
        "We have a small amount of noise, so we start with **ordinary least squares (OLS)**\n",
        "$$\\min_x \\|Ax-b\\|_2$$\n",
        "\n",
        "But suppose one of the entries of $b$ has a **huge** error (it's an *outlier*). Is our OLS estimate reasonable?"
      ]
    },
    {
      "cell_type": "code",
      "metadata": {
        "colab": {
          "base_uri": "https://localhost:8080/",
          "height": 265
        },
        "id": "vZEsgEBis98w",
        "outputId": "854ee2ba-10ec-413d-e48c-e8e80457fe04"
      },
      "source": [
        "x   = np.array([[2]])\n",
        "A   = np.arange(6).reshape( (-1,1) )\n",
        "M, N = A.shape # N = 1 since 1D example\n",
        "# add a small amount of noise\n",
        "z   = 0.3*rng.standard_normal( (M,1) )\n",
        "b   = A@x + z\n",
        "\n",
        "b[-1] = 1.2 # gross corruption, e.g., someone typed \"1.2\" instead of \"12\"\n",
        "\n",
        "plt.plot( A, b, 'o-',label='Good data')\n",
        "plt.plot( A[-1], b[-1], '*',label='Corrupted data')\n",
        "\n",
        "xLS   = scipy.linalg.lstsq(A,b)[0]\n",
        "plt.plot( A, A@xLS, '-',label='OLS fit')\n",
        "\n",
        "plt.legend()\n",
        "plt.show()"
      ],
      "execution_count": 29,
      "outputs": [
        {
          "output_type": "display_data",
          "data": {
            "image/png": "[encoded data removed]",
            "text/plain": [
              "<Figure size 432x288 with 1 Axes>"
            ]
          },
          "metadata": {
            "needs_background": "light"
          }
        }
      ]
    },
    {
      "cell_type": "markdown",
      "metadata": {
        "id": "VaYNlcCo2IXO"
      },
      "source": [
        "No! Our OLS estimate is thrown off by the outlier.\n",
        "\n",
        "Now let's try $\\ell_1$ regression\n",
        "$$\\min_x \\|Ax-b\\|_1$$\n",
        "\n",
        "This doesn't have a closed-form solution, but it is a [linear program](https://en.wikipedia.org/wiki/Linear_program), so we can efficiently solve it with optimization solvers.  We'll use the very nice [cvxpy](https://www.cvxpy.org/) package, which is an interface to several high-quality solvers.\n",
        "\n",
        "First, as a sanity check, let's use `cvxpy` to solve the $\\ell_2$ regression problem, just to make sure it matches the solution we got via linear algebra:"
      ]
    },
    {
      "cell_type": "code",
      "metadata": {
        "colab": {
          "base_uri": "https://localhost:8080/"
        },
        "id": "CqqvZxcJt8KH",
        "outputId": "79e9e6cb-674a-40d7-f5fd-52914d08d206"
      },
      "source": [
        "import cvxpy as cvx\n",
        "\n",
        "beta = cvx.Variable(1)\n",
        "\n",
        "# CVXPY's norm behaves like np.linalg.norm\n",
        "obj = cvx.Minimize(cvx.norm(A*beta-b.ravel() ))\n",
        "prob = cvx.Problem(obj)\n",
        "prob.solve()\n",
        "\n",
        "x_l2 = beta.value\n",
        "\n",
        "print(x_l2[0], xLS[0][0])"
      ],
      "execution_count": 37,
      "outputs": [
        {
          "output_type": "stream",
          "name": "stdout",
          "text": [
            "1.241597331379835 1.241597333499337\n"
          ]
        }
      ]
    },
    {
      "cell_type": "markdown",
      "metadata": {
        "id": "dPVRGKS32sPo"
      },
      "source": [
        "Now let's move on to $\\ell_1$ regression using `cvxpy`:"
      ]
    },
    {
      "cell_type": "code",
      "metadata": {
        "colab": {
          "base_uri": "https://localhost:8080/"
        },
        "id": "5x3U6xq0u6Bq",
        "outputId": "fa9dd9af-705d-4f6a-b175-90753ac87824"
      },
      "source": [
        "beta = cvx.Variable(1)\n",
        "\n",
        "obj = cvx.Minimize(cvx.norm(A*beta-b.ravel(), 1 ))\n",
        "prob = cvx.Problem(obj)\n",
        "prob.solve()\n",
        "\n",
        "x_l1 = beta.value\n",
        "\n",
        "print(x_l1[0], xLS[0][0])\n"
      ],
      "execution_count": 38,
      "outputs": [
        {
          "output_type": "stream",
          "name": "stdout",
          "text": [
            "2.0161437331896437 1.241597333499337\n"
          ]
        }
      ]
    },
    {
      "cell_type": "code",
      "metadata": {
        "colab": {
          "base_uri": "https://localhost:8080/",
          "height": 265
        },
        "id": "a8VI7v25u7Gb",
        "outputId": "729352d5-3a97-4a74-8edf-1a9be31d1dcd"
      },
      "source": [
        "plt.plot( A, b, 'o-',label='Good data')\n",
        "plt.plot( A[-1], b[-1], '*',label='Corrupted data')\n",
        "\n",
        "xLS   = scipy.linalg.lstsq(A,b)[0]\n",
        "plt.plot( A, A@xLS, '-',label='OLS fit')\n",
        "plt.plot( A, A@x_l1, '-',label='l1 regression fit')\n",
        "\n",
        "plt.legend()\n",
        "plt.show()"
      ],
      "execution_count": 39,
      "outputs": [
        {
          "output_type": "display_data",
          "data": {
            "image/png": "[encoded data removed]",
            "text/plain": [
              "<Figure size 432x288 with 1 Axes>"
            ]
          },
          "metadata": {
            "needs_background": "light"
          }
        }
      ]
    },
    {
      "cell_type": "markdown",
      "metadata": {
        "id": "4ts8OOIh2xW6"
      },
      "source": [
        "It's much less sensitive to the outlier!  Exactly as we had hoped."
      ]
    },
    {
      "cell_type": "markdown",
      "metadata": {
        "id": "40F9YA13sopN"
      },
      "source": [
        "## Does JL apply to $\\ell_p$ ($p\\neq 2$) norms?\n",
        "\n",
        "So now that we've motivated why we might want to solve $\\ell_1$ regression, we ask if we can use sketching techniques to help solve it faster.  The first question is whether linear sketches can preserve $\\ell_1$ norms.  We'll start with a Gaussian (or FJLT) sketch."
      ]
    },
    {
      "cell_type": "code",
      "metadata": {
        "id": "RsMvVUBhwHLP"
      },
      "source": [
        "# Download sketching code\n",
        "!wget -q https://raw.githubusercontent.com/stephenbeckr/randomized-algorithm-class/master/Code/sketch.py\n",
        "import sketch as sk\n",
        "import scipy.sparse\n",
        "\n",
        "M, N = int(3e4), int(3e2)\n",
        "\n",
        "X   = rng.standard_normal( (M,N) )@np.diag(np.logspace(0,4,N))@(\n",
        "    rng.standard_normal((N,N) ) + 0.03*np.eye(N) )\n",
        "Z   = scipy.sparse.random(M, N, density=0.01)\n",
        "X   = np.hstack( (X,Z.toarray() ) )\n",
        "M, N = X.shape\n",
        "\n",
        "\n",
        "col2Norms = scipy.linalg.norm( X, ord=2, axis=0)\n",
        "col1Norms = scipy.linalg.norm( X, ord=1, axis=0)\n",
        "\n",
        "m   = int(3e2)\n",
        "# S   = sk.FJLT( (m,M) )\n",
        "S   = sk.Gaussian( (m,M) )\n",
        "SX  = S@X\n",
        "\n",
        "col2Norms_sk = scipy.linalg.norm( SX, ord=2, axis=0)\n",
        "col1Norms_sk = scipy.linalg.norm( SX, ord=1, axis=0)"
      ],
      "execution_count": 25,
      "outputs": []
    },
    {
      "cell_type": "code",
      "metadata": {
        "colab": {
          "base_uri": "https://localhost:8080/",
          "height": 283
        },
        "id": "S7f8hbsfuCFL",
        "outputId": "a7d70325-4a03-453d-a847-058d97d41bcf"
      },
      "source": [
        "plt.hist( col2Norms_sk / col2Norms )\n",
        "plt.title('Ratio of $\\ell_2$ norms, sketched/unsketched [Gaussian sketch]')\n",
        "plt.show()"
      ],
      "execution_count": 26,
      "outputs": [
        {
          "output_type": "display_data",
          "data": {
            "image/png": "[encoded data removed]",
            "text/plain": [
              "<Figure size 432x288 with 1 Axes>"
            ]
          },
          "metadata": {
            "needs_background": "light"
          }
        }
      ]
    },
    {
      "cell_type": "code",
      "metadata": {
        "colab": {
          "base_uri": "https://localhost:8080/",
          "height": 283
        },
        "id": "RxWq5stQuehl",
        "outputId": "439b9d5c-8ac0-42e1-8fe8-09615fe88438"
      },
      "source": [
        "plt.hist( col1Norms_sk / col1Norms )\n",
        "plt.title('Ratio of $\\ell_1$ norms, sketched/unsketched [Gaussian sketch]')\n",
        "plt.show()"
      ],
      "execution_count": 27,
      "outputs": [
        {
          "output_type": "display_data",
          "data": {
            "image/png": "[encoded data removed]",
            "text/plain": [
              "<Figure size 432x288 with 1 Axes>"
            ]
          },
          "metadata": {
            "needs_background": "light"
          }
        }
      ]
    },
    {
      "cell_type": "markdown",
      "metadata": {
        "id": "DzjSRquz3ERf"
      },
      "source": [
        "As expected, the Gaussian/FJLT sketch *does* preserve $\\ell_2$ norms.  It *can* preserve $\\ell_1$ norms if you have a nice homogeneous dataset, but it doesn't have to preserve $\\ell_1$ norms. In this example, some of the data are dense, and some are sparse, and we see very different behaviors for the two classes of data.\n",
        "\n",
        "We conclude that the Gaussian/FJLT sketch does **not** preserve $\\ell_1$ norms.\n",
        "\n",
        "If Gaussians don't, then what does?  The answer is that the **Cauchy** distribution does (to some extent), as we'll now examine."
      ]
    },
    {
      "cell_type": "code",
      "metadata": {
        "colab": {
          "base_uri": "https://localhost:8080/",
          "height": 549
        },
        "id": "-58xM3utuioC",
        "outputId": "8a496cf2-810c-4a4f-9fc4-6d9afee7b2b5"
      },
      "source": [
        "S   = rng.standard_cauchy((m,M))/np.sqrt(m)\n",
        "\n",
        "SX  = S@X\n",
        "\n",
        "col2Norms_sk = scipy.linalg.norm( SX, ord=2, axis=0)\n",
        "col1Norms_sk = scipy.linalg.norm( SX, ord=1, axis=0)\n",
        "\n",
        "plt.hist( col2Norms_sk / col2Norms )\n",
        "plt.title('Ratio of $\\ell_2$ norms, sketched/unsketched [Cauchy sketch]')\n",
        "plt.show()\n",
        "\n",
        "plt.hist( col1Norms_sk / col1Norms )\n",
        "plt.title('Ratio of $\\ell_1$ norms, sketched/unsketched [Cauchy sketch]')\n",
        "plt.show()"
      ],
      "execution_count": 29,
      "outputs": [
        {
          "output_type": "display_data",
          "data": {
            "image/png": "[encoded data removed]",
            "text/plain": [
              "<Figure size 432x288 with 1 Axes>"
            ]
          },
          "metadata": {
            "needs_background": "light"
          }
        },
        {
          "output_type": "display_data",
          "data": {
            "image/png": "[encoded data removed]",
            "text/plain": [
              "<Figure size 432x288 with 1 Axes>"
            ]
          },
          "metadata": {
            "needs_background": "light"
          }
        }
      ]
    },
    {
      "cell_type": "markdown",
      "metadata": {
        "id": "YXJkv7kl3iCc"
      },
      "source": [
        "Not as effective as Gaussian sketches at preserving $\\ell_2$ distance, but better than a Gaussian sketch at preserving $\\ell_1$ distances."
      ]
    },
    {
      "cell_type": "markdown",
      "metadata": {
        "id": "14z-8wysw_wf"
      },
      "source": [
        "## Solve $\\ell_p$ regression via sketching\n",
        "\n",
        "So we'll try a Cauchy sketch.  Our first attempt is a \"sketch-to-solve\" approach,\n",
        "$$\\min_x \\| SA - Sb \\|_1. $$\n",
        "\n",
        "Let's see how that does.  First, we'll make some problem data $A,b$ and solve the original problem via `cvxpy` to get a reference solution."
      ]
    },
    {
      "cell_type": "code",
      "metadata": {
        "colab": {
          "base_uri": "https://localhost:8080/"
        },
        "id": "Xoov4dktwfmN",
        "outputId": "116672ac-02b6-4b54-af06-17548d7b4630"
      },
      "source": [
        "import cvxpy as cvx\n",
        "M, N = int(1e3), int(1e2)\n",
        "\n",
        "A   = rng.standard_normal( (M,N) )@np.diag(np.logspace(0,4,N))@(\n",
        "    rng.standard_normal((N,N) ) + 0.03*np.eye(N) )\n",
        "Z   = scipy.sparse.random(M, N, density=0.01)\n",
        "A   = np.hstack( (A,Z.toarray() ) )\n",
        "M, N = A.shape\n",
        "\n",
        "x0  = rng.standard_normal( (N,1) )\n",
        "b   = A@x0 + .01*rng.standard_normal((M,1))\n",
        "\n",
        "# cvxpy code:\n",
        "x     = cvx.Variable(N)\n",
        "obj   = cvx.Minimize(cvx.norm(A*x-b.ravel() , 1 ))\n",
        "prob  = cvx.Problem(obj)\n",
        "prob.solve(verbose=True)\n",
        "x_l1  = x.value"
      ],
      "execution_count": 32,
      "outputs": [
        {
          "output_type": "stream",
          "name": "stdout",
          "text": [
            "\n",
            "ECOS 2.0.7 - (C) embotech GmbH, Zurich Switzerland, 2012-15. Web: www.embotech.com/ECOS\n",
            "\n",
            "It     pcost       dcost      gap   pres   dres    k/t    mu     step   sigma     IR    |   BT\n",
            " 0  -3.641e-10  +1.688e-09  +2e+05  7e-04  3e-05  1e+00  1e+02    ---    ---    1  1  - |  -  - \n",
            " 1  -3.396e-03  +7.439e-03  +2e+03  7e-06  3e-07  2e-02  1e+00  0.9890  1e-04   1  2  2 |  0  0\n",
            " 2  +6.076e-02  +6.113e-02  +6e+01  2e-07  7e-09  6e-04  3e-02  0.9768  1e-04   2  3  3 |  0  0\n",
            " 3  +2.192e+00  +2.193e+00  +9e+00  3e-08  1e-09  1e-03  5e-03  0.8814  4e-02   2  2  2 |  0  0\n",
            " 4  +5.114e+00  +5.115e+00  +2e+00  6e-09  1e-09  4e-04  1e-03  0.8229  4e-02   2  2  2 |  0  0\n",
            " 5  +5.959e+00  +5.959e+00  +6e-01  2e-09  2e-09  1e-04  3e-04  0.7794  4e-02   3  2  2 |  0  0\n",
            " 6  +6.220e+00  +6.220e+00  +2e-01  1e-09  1e-09  8e-05  9e-05  0.8031  2e-01   3  3  3 |  0  0\n",
            " 7  +6.314e+00  +6.314e+00  +8e-02  6e-10  9e-10  4e-05  4e-05  0.8286  3e-01   3  2  2 |  0  0\n",
            " 8  +6.357e+00  +6.357e+00  +3e-02  4e-10  5e-10  2e-05  1e-05  0.8150  2e-01   3  2  2 |  0  0\n",
            " 9  +6.372e+00  +6.372e+00  +2e-02  3e-10  3e-10  1e-05  8e-06  0.9890  5e-01   3  2  3 |  0  0\n",
            "10  +6.383e+00  +6.383e+00  +5e-03  2e-10  2e-10  3e-06  3e-06  0.8162  2e-01   3  2  3 |  0  0\n",
            "11  +6.385e+00  +6.385e+00  +4e-03  2e-10  1e-10  3e-06  2e-06  0.7763  6e-01   3  3  2 |  0  0\n",
            "12  +6.388e+00  +6.388e+00  +2e-03  2e-10  1e-10  1e-06  9e-07  0.9332  4e-01   3  3  3 |  0  0\n",
            "13  +6.390e+00  +6.390e+00  +1e-03  1e-10  8e-11  7e-07  6e-07  0.7200  4e-01   3  2  3 |  0  0\n",
            "14  +6.391e+00  +6.391e+00  +6e-04  1e-10  6e-11  4e-07  3e-07  0.7209  4e-01   3  3  3 |  0  0\n",
            "15  +6.391e+00  +6.391e+00  +7e-04  1e-10  6e-11  4e-07  3e-07  0.5880  9e-01   3  3  3 |  0  0\n",
            "16  +6.392e+00  +6.392e+00  +3e-04  1e-10  5e-11  2e-07  1e-07  0.9890  4e-01   3  3  2 |  0  0\n",
            "17  +6.392e+00  +6.392e+00  +2e-04  1e-10  4e-11  1e-07  1e-07  0.4887  4e-01   3  3  2 |  0  0\n",
            "18  +6.392e+00  +6.392e+00  +2e-04  1e-10  4e-11  1e-07  1e-07  0.3280  9e-01   3  3  3 |  0  0\n",
            "19  +6.393e+00  +6.393e+00  +1e-04  9e-11  3e-11  8e-08  7e-08  0.6193  3e-01   3  3  3 |  0  0\n",
            "20  +6.393e+00  +6.393e+00  +2e-04  9e-11  3e-11  8e-08  1e-07  0.6879  9e-01   3  3  3 |  0  0\n",
            "21  +6.393e+00  +6.393e+00  +1e-04  9e-11  3e-11  6e-08  6e-08  0.8996  4e-01   3  3  3 |  0  0\n",
            "22  +6.393e+00  +6.393e+00  +1e-04  8e-11  3e-11  6e-08  7e-08  0.1029  9e-01   3  3  3 |  0  0\n",
            "23  +6.393e+00  +6.393e+00  +1e-04  8e-11  3e-11  5e-08  5e-08  0.6100  5e-01   3  2  3 |  0  0\n",
            "24  +6.394e+00  +6.394e+00  +8e-05  8e-11  3e-11  5e-08  4e-08  0.8207  6e-01   3  3  3 |  0  0\n",
            "25  +6.394e+00  +6.394e+00  +6e-05  7e-11  2e-11  4e-08  3e-08  0.9890  6e-01   3  3  3 |  0  0\n",
            "26  +6.394e+00  +6.394e+00  +4e-05  7e-11  2e-11  2e-08  2e-08  0.5347  2e-01   3  3  3 |  0  0\n",
            "27  +6.394e+00  +6.394e+00  +4e-05  6e-11  2e-11  2e-08  2e-08  0.0083  1e+00   3  2  2 |  0  0\n",
            "28  +6.394e+00  +6.394e+00  +4e-05  6e-11  2e-11  2e-08  2e-08  0.9890  7e-01   3  3  2 |  0  0\n",
            "29  +6.394e+00  +6.394e+00  +5e-05  5e-11  2e-11  2e-08  2e-08  0.3605  8e-01   3  3  3 |  0  0\n",
            "30  +6.394e+00  +6.394e+00  +5e-05  5e-11  2e-11  2e-08  3e-08  0.1760  9e-01   3  3  3 |  0  0\n",
            "31  +6.394e+00  +6.394e+00  +4e-05  5e-11  1e-11  2e-08  2e-08  0.5937  3e-01   3  3  3 |  0  0\n",
            "32  +6.394e+00  +6.394e+00  +4e-05  5e-11  1e-11  2e-08  2e-08  0.0067  1e+00   3  3  4 |  0  0\n",
            "33  +6.394e+00  +6.394e+00  +5e-05  5e-11  1e-11  2e-08  3e-08  0.5466  7e-01   3  3  4 |  0  0\n",
            "34  +6.394e+00  +6.394e+00  +7e-05  4e-11  1e-11  2e-08  3e-08  0.0977  9e-01   3  3  3 |  0  0\n",
            "35  +6.394e+00  +6.394e+00  +4e-05  4e-11  1e-11  2e-08  2e-08  0.9890  5e-01   3  3  4 |  0  0\n",
            "36  +6.394e+00  +6.394e+00  +2e-05  4e-11  9e-12  1e-08  1e-08  0.6945  2e-01   3  3  3 |  0  0\n",
            "37  +6.394e+00  +6.394e+00  +2e-05  4e-11  9e-12  1e-08  1e-08  0.9114  8e-01   3  3  3 |  0  0\n",
            "38  +6.394e+00  +6.394e+00  +2e-05  4e-11  8e-12  9e-09  8e-09  0.4565  4e-01   3  3  3 |  0  0\n",
            "39  +6.394e+00  +6.394e+00  +2e-05  3e-11  7e-12  9e-09  1e-08  0.0811  9e-01   3  3  3 |  0  0\n",
            "40  +6.394e+00  +6.394e+00  +9e-06  3e-11  6e-12  5e-09  5e-09  0.9890  3e-01   3  3  3 |  0  0\n",
            "41  +6.395e+00  +6.395e+00  +9e-06  3e-11  6e-12  5e-09  4e-09  0.5341  7e-01   3  3  2 |  0  0\n",
            "42  +6.395e+00  +6.395e+00  +1e-05  3e-11  5e-12  5e-09  7e-09  0.9890  9e-01   3  4  3 |  0  0\n",
            "43  +6.395e+00  +6.395e+00  +8e-06  3e-11  4e-12  3e-09  4e-09  0.5513  2e-01   3  3  3 |  0  0\n",
            "44  +6.395e+00  +6.395e+00  +9e-06  2e-11  4e-12  4e-09  5e-09  0.3450  8e-01   3  3  3 |  0  0\n",
            "45  +6.395e+00  +6.395e+00  +4e-06  2e-11  4e-12  2e-09  2e-09  0.7446  1e-01   3  3  3 |  0  0\n",
            "46  +6.395e+00  +6.395e+00  +4e-06  2e-11  4e-12  2e-09  2e-09  0.9890  8e-01   3  3  3 |  0  0\n",
            "47  +6.395e+00  +6.395e+00  +5e-07  2e-11  3e-12  2e-10  3e-10  0.9890  8e-02   3  3  3 |  0  0\n",
            "48  +6.395e+00  +6.395e+00  +1e-08  2e-11  3e-12  5e-12  7e-12  0.9890  8e-03   3  3  3 |  0  0\n",
            "\n",
            "OPTIMAL (within feastol=2.0e-11, reltol=2.3e-09, abstol=1.5e-08).\n",
            "Runtime: 2.574067 seconds.\n",
            "\n"
          ]
        }
      ]
    },
    {
      "cell_type": "markdown",
      "metadata": {
        "id": "69ivflPp36ri"
      },
      "source": [
        "Now let's solve the sketched problem:"
      ]
    },
    {
      "cell_type": "code",
      "metadata": {
        "colab": {
          "base_uri": "https://localhost:8080/"
        },
        "id": "_f4Mah7dxxK5",
        "outputId": "a1c119fc-c71c-40d6-e114-8cf9ba502f26"
      },
      "source": [
        "# Sketch the data\n",
        "m     = 2*N\n",
        "S     = rng.standard_cauchy((m,M))/np.sqrt(m)\n",
        "SA    = S@A\n",
        "Sb    = S@b\n",
        "\n",
        "# Solve the sketched problem\n",
        "x     = cvx.Variable(N)\n",
        "obj   = cvx.Minimize(cvx.norm(SA*x-Sb.ravel() , 1 ))\n",
        "prob  = cvx.Problem(obj)\n",
        "prob.solve(verbose=True)\n",
        "x_sk  = x.value\n",
        "\n",
        "objFcn= lambda x : scipy.linalg.norm( A@x - b.ravel(), 1 )\n",
        "\n",
        "objTrue = objFcn( x_l1 )\n",
        "objSk   = objFcn( x_sk )\n",
        "err     = scipy.linalg.norm( x_l1 - x_sk )\n",
        "print(f'True objective value is {objTrue}, objective via sketching is {objSk}')\n",
        "print(f'Distance ||x-x_sk|| is {err}')"
      ],
      "execution_count": 33,
      "outputs": [
        {
          "output_type": "stream",
          "name": "stdout",
          "text": [
            "\n",
            "ECOS 2.0.7 - (C) embotech GmbH, Zurich Switzerland, 2012-15. Web: www.embotech.com/ECOS\n",
            "\n",
            "It     pcost       dcost      gap   pres   dres    k/t    mu     step   sigma     IR    |   BT\n",
            " 0  +0.000e+00  +3.994e-06  +6e+05  3e-05  4e-06  1e+00  8e+02    ---    ---    1  2  - |  -  - \n",
            " 1  +7.297e+01  +7.305e+01  +1e+04  4e-07  7e-08  9e-02  1e+01  0.9841  1e-04   2  2  3 |  0  0\n",
            " 2  +2.466e+01  +2.471e+01  +1e+03  5e-08  1e-08  5e-02  2e+00  0.8801  4e-03   2  3  3 |  0  0\n",
            " 3  +7.337e+01  +7.346e+01  +4e+02  2e-08  4e-09  8e-02  5e-01  0.7497  6e-02   2  2  3 |  0  0\n",
            " 4  +9.693e+01  +9.697e+01  +1e+02  5e-09  1e-09  4e-02  1e-01  0.7215  4e-02   3  3  3 |  0  0\n",
            " 5  +1.048e+02  +1.048e+02  +4e+01  2e-09  4e-10  2e-02  5e-02  0.7322  1e-01   3  3  3 |  0  0\n",
            " 6  +1.081e+02  +1.081e+02  +2e+01  7e-10  2e-10  1e-02  2e-02  0.6881  1e-01   3  4  3 |  0  0\n",
            " 7  +1.096e+02  +1.096e+02  +6e+00  3e-10  7e-11  5e-03  8e-03  0.6550  7e-02   4  4  4 |  0  0\n",
            " 8  +1.104e+02  +1.104e+02  +2e+00  8e-11  3e-11  2e-03  2e-03  0.7783  1e-01   3  4  4 |  0  0\n",
            " 9  +1.107e+02  +1.107e+02  +5e-01  3e-11  3e-11  6e-04  7e-04  0.9010  2e-01   4  4  4 |  0  0\n",
            "10  +1.108e+02  +1.108e+02  +1e-01  9e-12  5e-12  1e-04  1e-04  0.8280  5e-02   4  4  3 |  0  0\n",
            "11  +1.108e+02  +1.108e+02  +1e-02  2e-12  3e-12  1e-05  1e-05  0.9588  5e-02   5  5  6 |  0  0\n",
            "12  +1.108e+02  +1.108e+02  +2e-03  5e-13  4e-12  2e-06  2e-06  0.9144  9e-02   6  6  6 |  0  0\n",
            "13  +1.108e+02  +1.108e+02  +2e-04  1e-13  2e-12  2e-07  2e-07  0.8930  3e-03   5  5  5 |  0  0\n",
            "14  +1.108e+02  +1.108e+02  +5e-06  6e-14  8e-11  5e-09  6e-09  0.9780  1e-03   2  1  1 |  0  0\n",
            "15  +1.108e+02  +1.108e+02  +3e-06  2e-14  4e-11  3e-09  4e-09  0.6487  3e-01   2  1  1 |  0  0\n",
            "16  +1.108e+02  +1.108e+02  +2e-07  1e-14  2e-12  1e-10  2e-10  0.9836  1e-02   8  8  8 |  0  0\n",
            "\n",
            "OPTIMAL (within feastol=1.9e-12, reltol=1.7e-09, abstol=1.8e-07).\n",
            "Runtime: 1.038869 seconds.\n",
            "\n",
            "True objective value is 6.396478199911826, objective via sketching is 14.812589497137878\n",
            "Distance ||x-x_sk|| is 0.2527289672116854\n"
          ]
        }
      ]
    },
    {
      "cell_type": "markdown",
      "metadata": {
        "id": "S_uu6Fnky1Z5"
      },
      "source": [
        "#### Solve the other way: use \"leverage score\" sampling\n",
        "(Not really usual leverage scores)\n",
        "\n",
        "The direct sketch-to-solve didn't work that well.  Another approach is to take the sketched matrix $SA$ and compute a $QR$ factorization; then $$U=AR^{-1}$$ (which can also be approximated; see section 3.4 in Woodruff's monograph) is a **well-conditioned basis** and we can do \"leverage score\"-like sampling with each row selected proportional to the $\\ell_1$ norms of the rows of $U$."
      ]
    },
    {
      "cell_type": "code",
      "metadata": {
        "id": "_WD5YZaIyscd"
      },
      "source": [
        "m     = 2*N\n",
        "S     = rng.standard_cauchy((m,M))/np.sqrt(m)\n",
        "SA    = S@A\n",
        "Sb    = S@b\n",
        "\n",
        "R           = np.linalg.qr(SA,mode='r')\n",
        "# set basis = A*R^{-1}, or basis^T = R^{-T}A^T\n",
        "basis       = scipy.linalg.solve_triangular(R, A.T, trans='T').T\n",
        "levScores   = scipy.linalg.norm( basis, ord=1, axis=1)\n",
        "ind         = rng.choice( M, size=m, replace=True, p=levScores/levScores.sum() )"
      ],
      "execution_count": 44,
      "outputs": []
    },
    {
      "cell_type": "markdown",
      "metadata": {
        "id": "LLmL6MNq4zjy"
      },
      "source": [
        "... and now sub-sample according to these \"leverage scores\":"
      ]
    },
    {
      "cell_type": "code",
      "metadata": {
        "colab": {
          "base_uri": "https://localhost:8080/"
        },
        "id": "k8HWX47XzsId",
        "outputId": "8ff68800-bb4d-42ca-afe1-69ae8de2207f"
      },
      "source": [
        "SA    = A[ind,:]\n",
        "Sb    = b[ind]\n",
        "\n",
        "x     = cvx.Variable(N)\n",
        "obj   = cvx.Minimize(cvx.norm(SA*x-Sb.ravel() , 1 ))\n",
        "prob  = cvx.Problem(obj)\n",
        "prob.solve(verbose=True)\n",
        "x_sk  = x.value\n",
        "\n",
        "objFcn= lambda x : scipy.linalg.norm( A@x - b.ravel(), 1 )\n",
        "\n",
        "objTrue = objFcn( x_l1 )\n",
        "objSk   = objFcn( x_sk )\n",
        "err     = scipy.linalg.norm( x_l1 - x_sk )\n",
        "print(f'True objective value is {objTrue}, objective via sketching is {objSk}')\n",
        "print(f'Distance ||x-x_sk|| is {err}')"
      ],
      "execution_count": 45,
      "outputs": [
        {
          "output_type": "stream",
          "name": "stdout",
          "text": [
            "\n",
            "ECOS 2.0.7 - (C) embotech GmbH, Zurich Switzerland, 2012-15. Web: www.embotech.com/ECOS\n",
            "\n",
            "It     pcost       dcost      gap   pres   dres    k/t    mu     step   sigma     IR    |   BT\n",
            " 0  -3.940e-10  +5.173e-09  +9e+04  7e-04  2e-05  1e+00  1e+02    ---    ---    1  2  - |  -  - \n",
            " 1  +2.620e-03  +1.399e-02  +1e+03  8e-06  3e-07  2e-02  1e+00  0.9890  1e-04   1  1  2 |  0  0\n",
            " 2  +1.024e-02  +1.057e-02  +2e+01  1e-07  5e-09  5e-04  2e-02  0.9819  1e-04   2  2  2 |  0  0\n",
            " 3  +4.516e-01  +4.522e-01  +3e+00  2e-08  7e-10  6e-04  4e-03  0.8706  3e-02   2  2  2 |  0  0\n",
            " 4  +1.029e+00  +1.030e+00  +7e-01  5e-09  1e-09  2e-04  8e-04  0.8168  4e-02   2  3  2 |  0  0\n",
            " 5  +1.143e+00  +1.143e+00  +3e-01  2e-09  2e-09  2e-04  3e-04  0.7424  2e-01   2  3  3 |  0  0\n",
            " 6  +1.197e+00  +1.197e+00  +1e-01  1e-09  1e-09  9e-05  1e-04  0.6992  1e-01   3  3  3 |  0  0\n",
            " 7  +1.215e+00  +1.215e+00  +6e-02  7e-10  9e-10  7e-05  8e-05  0.6943  4e-01   3  3  3 |  0  0\n",
            " 8  +1.231e+00  +1.231e+00  +3e-02  5e-10  6e-10  3e-05  3e-05  0.7219  2e-01   3  2  3 |  0  0\n",
            " 9  +1.242e+00  +1.242e+00  +6e-03  3e-10  3e-10  8e-06  7e-06  0.9848  2e-01   3  3  3 |  0  0\n",
            "10  +1.244e+00  +1.244e+00  +3e-03  2e-10  2e-10  5e-06  4e-06  0.7753  4e-01   3  3  2 |  0  0\n",
            "11  +1.246e+00  +1.246e+00  +1e-03  2e-10  1e-10  1e-06  1e-06  0.7557  1e-01   3  3  3 |  0  0\n",
            "12  +1.247e+00  +1.247e+00  +7e-04  1e-10  7e-11  1e-06  9e-07  0.9125  6e-01   2  3  2 |  0  0\n",
            "13  +1.247e+00  +1.247e+00  +2e-04  1e-10  5e-11  3e-07  3e-07  0.7543  5e-02   3  2  3 |  0  0\n",
            "14  +1.248e+00  +1.248e+00  +4e-05  1e-10  4e-11  5e-08  5e-08  0.9890  2e-01   3  3  3 |  0  0\n",
            "15  +1.248e+00  +1.248e+00  +6e-06  1e-10  4e-11  9e-09  8e-09  0.9890  1e-01   3  3  3 |  0  0\n",
            "16  +1.248e+00  +1.248e+00  +4e-07  1e-10  4e-11  5e-10  5e-10  0.9890  5e-02   3  2  2 |  0  0\n",
            "17  +1.248e+00  +1.248e+00  +2e-07  1e-10  4e-11  2e-10  2e-10  0.6448  6e-02   3  3  3 |  0  0\n",
            "18  +1.248e+00  +1.248e+00  +1e-05  7e-11  3e-11  2e-10  2e-08  0.3559  1e+00   3  3  4 |  0  0\n",
            "19  +1.248e+00  +1.248e+00  +9e-06  7e-11  3e-11  9e-10  1e-08  0.5236  8e-02   3  3  3 |  0  0\n",
            "20  +1.248e+00  +1.248e+00  +1e-05  6e-11  3e-11  1e-09  1e-08  0.0223  1e+00   3  3  3 |  0  0\n",
            "21  +1.248e+00  +1.248e+00  +3e-05  8e-11  3e-11  2e-09  4e-08  0.0354  1e+00   3  3  4 |  0  0\n",
            "22  +1.249e+00  +1.249e+00  +3e-05  6e-11  2e-11  2e-08  4e-08  0.9890  5e-01   3  3  4 |  0  0\n",
            "23  +1.249e+00  +1.249e+00  +2e-05  6e-11  2e-11  2e-08  3e-08  0.5523  4e-01   3  3  3 |  0  0\n",
            "24  +1.249e+00  +1.249e+00  +2e-05  6e-11  2e-11  3e-08  3e-08  0.9890  7e-01   3  3  3 |  0  0\n",
            "25  +1.249e+00  +1.249e+00  +2e-05  5e-11  2e-11  2e-08  2e-08  0.5686  6e-01   3  3  3 |  0  0\n",
            "26  +1.249e+00  +1.249e+00  +2e-05  4e-11  2e-11  2e-08  2e-08  0.9890  8e-01   3  3  3 |  0  0\n",
            "27  +1.249e+00  +1.249e+00  +1e-05  3e-11  1e-11  1e-08  1e-08  0.8531  4e-01   3  3  3 |  0  0\n",
            "28  +1.249e+00  +1.249e+00  +4e-06  3e-11  9e-12  5e-09  5e-09  0.9890  4e-01   4  3  3 |  0  0\n",
            "29  +1.249e+00  +1.249e+00  +6e-06  2e-11  6e-12  5e-09  7e-09  0.0566  9e-01   3  3  3 |  0  0\n",
            "30  +1.249e+00  +1.249e+00  +5e-06  2e-11  6e-12  5e-09  7e-09  0.1867  4e-01   4  3  3 |  0  0\n",
            "31  +1.249e+00  +1.249e+00  +2e-06  2e-11  5e-12  3e-09  3e-09  0.8462  3e-01   4  3  3 |  0  0\n",
            "32  +1.249e+00  +1.249e+00  +4e-06  1e-11  4e-12  3e-09  5e-09  0.0496  1e+00   3  3  4 |  0  0\n",
            "33  +1.249e+00  +1.249e+00  +8e-07  9e-12  2e-12  7e-10  1e-09  0.8673  7e-02   3  2  3 |  0  0\n",
            "34  +1.249e+00  +1.249e+00  +7e-07  8e-12  2e-12  6e-10  8e-10  0.2047  3e-02   4  3  3 |  0  0\n",
            "35  +1.249e+00  +1.249e+00  +4e-07  4e-12  7e-13  4e-10  4e-10  0.9890  4e-01   4  3  3 |  0  0\n",
            "36  +1.249e+00  +1.249e+00  +1e-07  3e-12  2e-13  1e-10  2e-10  0.9890  3e-01   3  3  3 |  0  0\n",
            "37  +1.249e+00  +1.249e+00  +2e-08  2e-12  2e-13  1e-11  2e-11  0.9890  7e-02   3  2  2 |  0  0\n",
            "38  +1.249e+00  +1.249e+00  +6e-09  2e-12  2e-13  3e-12  7e-12  0.8323  3e-02   3  2  2 |  0  0\n",
            "\n",
            "OPTIMAL (within feastol=2.4e-12, reltol=4.5e-09, abstol=5.7e-09).\n",
            "Runtime: 0.682152 seconds.\n",
            "\n",
            "True objective value is 6.396478199911826, objective via sketching is 31.64256183485645\n",
            "Distance ||x-x_sk|| is 2.6932827411870095\n"
          ]
        }
      ]
    },
    {
      "cell_type": "markdown",
      "metadata": {
        "id": "PoSGjx9X43py"
      },
      "source": [
        "The results aren't that great still.  My general experience is that sketching doesn't work well in practice for any kind of norm-based problem if the norm is not the Euclidean norm.  Theoretically there can be benefits, but you'd need to have very high-dimensional data to see the benefit."
      ]
    }
  ]
}