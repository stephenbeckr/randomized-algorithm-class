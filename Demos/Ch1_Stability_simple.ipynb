{
  "nbformat": 4,
  "nbformat_minor": 0,
  "metadata": {
    "colab": {
      "name": "Ch1_Stability_simple.ipynb",
      "provenance": [],
      "authorship_tag": "ABX9TyOCB49yK67a7kH3W8e+aomS",
      "include_colab_link": true
    },
    "kernelspec": {
      "name": "python3",
      "display_name": "Python 3"
    }
  },
  "cells": [
    {
      "cell_type": "markdown",
      "metadata": {
        "id": "view-in-github",
        "colab_type": "text"
      },
      "source": [
        "<a href=\"https://colab.research.google.com/github/stephenbeckr/randomized-algorithm-class/blob/master/Demos/Ch1_Stability_simple.ipynb\" target=\"_parent\"><img src=\"https://colab.research.google.com/assets/colab-badge.svg\" alt=\"Open In Colab\"/></a>"
      ]
    },
    {
      "cell_type": "code",
      "metadata": {
        "id": "vv-UqJDn75Hl",
        "colab_type": "code",
        "colab": {
          "base_uri": "https://localhost:8080/",
          "height": 102
        },
        "outputId": "b0fd4685-4859-4b80-ea7f-b4ddd25198ad"
      },
      "source": [
        "import math\n",
        "\n",
        "c = 100\n",
        "f = lambda x : ( x - c )**2\n",
        "g = lambda x : x**2 - 2*x*c + c**2\n",
        "\n",
        "delta = 1e-6\n",
        "#delta = 4\n",
        "trueAnswer = delta**2\n",
        "x = c + delta\n",
        "\n",
        "relError = lambda guess : abs( (guess - trueAnswer)/trueAnswer )\n",
        "correctDigits = lambda guess: -math.log10( relError(guess) + 1e-100 )\n",
        "\n",
        "print(\"The number of correct digits (via algorithm 1) is about %.1f\"% correctDigits( f(x) ) )\n",
        "print(\"The number of correct digits (via algorithm 2) is about %.1f\"% correctDigits( g(x) ) )\n",
        "\n",
        "print(\"  Algorithm 1 gives\\t%.10e \"% f(x) )\n",
        "print(\"  Algorithm 2 gives\\t%.10e \"% g(x) )\n",
        "print(\"  True answer is\\t%.10e \"% trueAnswer )"
      ],
      "execution_count": 34,
      "outputs": [
        {
          "output_type": "stream",
          "text": [
            "The number of correct digits (via algorithm 1) is about 8.3\n",
            "The number of correct digits (via algorithm 2) is about 0.1\n",
            "  Algorithm 1 gives\t9.9999999495e-13 \n",
            "  Algorithm 2 gives\t1.8189894035e-12 \n",
            "  True answer is\t1.0000000000e-12 \n"
          ],
          "name": "stdout"
        }
      ]
    },
    {
      "cell_type": "code",
      "metadata": {
        "id": "6wRiz4Sj_Fyg",
        "colab_type": "code",
        "colab": {}
      },
      "source": [
        ""
      ],
      "execution_count": null,
      "outputs": []
    }
  ]
}