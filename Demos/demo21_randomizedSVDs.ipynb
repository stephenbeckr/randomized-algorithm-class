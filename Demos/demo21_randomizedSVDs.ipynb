{
  "nbformat": 4,
  "nbformat_minor": 0,
  "metadata": {
    "colab": {
      "name": "demo21_randomizedSVDs.ipynb",
      "provenance": [],
      "collapsed_sections": [],
      "authorship_tag": "ABX9TyMA9o1dg0XrwB93XlsFBj12",
      "include_colab_link": true
    },
    "kernelspec": {
      "name": "python3",
      "display_name": "Python 3"
    },
    "language_info": {
      "name": "python"
    }
  },
  "cells": [
    {
      "cell_type": "markdown",
      "metadata": {
        "id": "view-in-github",
        "colab_type": "text"
      },
      "source": [
        "<a href=\"https://colab.research.google.com/github/stephenbeckr/randomized-algorithm-class/blob/master/Demos/demo21_randomizedSVDs.ipynb\" target=\"_parent\"><img src=\"https://colab.research.google.com/assets/colab-badge.svg\" alt=\"Open In Colab\"/></a>"
      ]
    },
    {
      "cell_type": "markdown",
      "metadata": {
        "id": "eILskTtMNIIY"
      },
      "source": [
        "# Randomized SVDs\n",
        "\n",
        "Comparing various randomized SVDs, namely:\n",
        "\n",
        "1. \"randomized Simultaneous Iteration\" aka randomized Subspace Iteration aka randomized Orthogonal Iteration.\n",
        "  - see [Rokhlin, Szlam, Tygert, 2009](https://arxiv.org/abs/0809.2274)\n",
        "  - also in [Halko, Martinsson, Tropp, 2011, SIAM Review](https://epubs.siam.org/doi/10.1137/090771806)\n",
        "2. \"randomized block Krylov iteration\"\n",
        "  - for analysis, see [Musco, Musco, 2015](http://arxiv.org/abs/1504.05477)\n",
        "\n",
        "We don't do very fancy comparisons, just a very quick check. Implementations have not been tested extensively.\n",
        "\n",
        "Code by Stephen Becker, Oct 2021"
      ]
    },
    {
      "cell_type": "code",
      "metadata": {
        "id": "5-2HdXRky5ht"
      },
      "source": [
        "import numpy as np\n",
        "import numpy.linalg\n",
        "import scipy.linalg\n",
        "import scipy.sparse.linalg\n",
        "from numpy.linalg import norm\n",
        "from numpy.random import default_rng\n",
        "rng = default_rng()\n",
        "from matplotlib import pyplot as plt"
      ],
      "execution_count": 46,
      "outputs": []
    },
    {
      "cell_type": "markdown",
      "metadata": {
        "id": "CamcJL8TN5Z8"
      },
      "source": [
        "Define the `bksvd` (randomized block Krylov SVD) and `sisvd` (randomized Subspace Iteration SVD), based on implmentation at [bksvd](https://github.com/cpmusco/bksvd) which is from the Musco and Musco 2015 paper"
      ]
    },
    {
      "cell_type": "code",
      "metadata": {
        "id": "j_8uUiJdzIWd"
      },
      "source": [
        "import numpy as np\n",
        "import numpy.linalg\n",
        "QR = lambda A : np.linalg.qr(A,mode='reduced')[0]\n",
        "\n",
        "def bksvd(A,k,iter=3,bsize=None, rng = np.random.default_rng() ):\n",
        "  \"\"\"\n",
        "  Randomized block Krylov iteration for truncated singular value decomposition\n",
        "  Computes approximate top singular vectors and corresponding values\n",
        "  Described in Musco, Musco, 2015 (http://arxiv.org/abs/1504.05477)\n",
        "  input:\n",
        "    * A : matrix to decompose, size m x n\n",
        "        (either a 2D numpy array or of type scipy.linalg.sparse.LinearOperator)\n",
        "    * k : number of singular vectors to compute, default = 6\n",
        "    * iter : number of iterations, default = 3\n",
        "    * bsize : block size, must be >= k, default = k\n",
        "    * rng : [optional] random number generator from np.random\n",
        "  output:\n",
        "    k singular vector/value pairs. \n",
        "    * U : a matrix whose columns are approximate top left singular vectors for A\n",
        "    * S : a diagonal matrix whose entries are A's approximate top singular values\n",
        "    * Vh : a matrix whose rows are approximate top right singular vectors for A\n",
        "    [Note: Vh is V.T, following np.linalg.svd convention; this is the transpose\n",
        "     of the Matlab svd convention ]\n",
        "\n",
        "    U*S*V' is a near optimal rank-k approximation for A\n",
        "\n",
        "    based on Christopher Musco's Matlab code at\n",
        "    https://github.com/cpmusco/bksvd/blob/master/bksvd.m \n",
        "\n",
        "    TODO: (efficiently) transpose if m << n\n",
        "  \"\"\"\n",
        "  m,n = A.shape\n",
        "  if k > m or k > n:\n",
        "    raise ValueError(\"k must be smaller than m,n\")\n",
        "  iter = int(iter)\n",
        "  if iter < 1:\n",
        "    raise ValueError(\"iter must be 1 or larger\")\n",
        "  if bsize is None:\n",
        "    bsize = k\n",
        "  bsize = int(bsize)\n",
        "  if bsize < k:\n",
        "    raise ValueError(\"bsize must be at least k\")\n",
        "  \n",
        "  Y = np.zeros( (n,bsize*iter) )\n",
        "\n",
        "  Omega   = rng.standard_normal( (n,bsize) )\n",
        "  Omega   = QR(Omega)\n",
        "\n",
        "  for i in range(iter):\n",
        "    Omega = A.T@( A@Omega )\n",
        "    Omega = QR(Omega)\n",
        "    Y[:,i*bsize:(i+1)*bsize] = Omega\n",
        "  \n",
        "  # Now do big QR (*not* attemtping Lanczos trick)\n",
        "  Q   = QR(Y)\n",
        "  T   = A@Q\n",
        "\n",
        "  Ut,st,Vt_h = np.linalg.svd( T, full_matrices=False, compute_uv=True)\n",
        "  s   = st[:k]\n",
        "  U   = Ut[:,:k]\n",
        "  Vh  = Vt_h[:k,:]@Q.T\n",
        "  return U, s, Vh\n",
        "\n",
        "\n",
        "def sisvd(A,k,iter=3,bsize=None, rng = np.random.default_rng() ):\n",
        "  \"\"\"\n",
        "  Simple randomized Simultaneous Iteration for truncated SVD\n",
        "  Computes approximate top singular vectors and corresponding values\n",
        "  Described in Rokhlin, Szlam, Tygert, 2009 (https://arxiv.org/abs/0809.2274)\n",
        "    and nice Matlab code in:\n",
        "    Huamin Li, George C. Linderman, Arthur Szlam, Kelly P. Stanton, Yuval Kluger, \n",
        "    and Mark Tygert. \n",
        "    \"Algorithm 971: An Implementation of a Randomized Algorithm for Principal \n",
        "    Component Analysis\". ACM Trans. Math. Softw. 43, 3, 2017\n",
        "    DOI: https://doi.org/10.1145/3004053\n",
        "\n",
        "\n",
        "  input:\n",
        "    * A : matrix to decompose, size m x n\n",
        "        (either a 2D numpy array or of type scipy.linalg.sparse.LinearOperator)\n",
        "    * k : number of singular vectors to compute, default = 6\n",
        "    * iter : number of iterations, default = 3\n",
        "    * bsize : block size, must be >= k, default = k\n",
        "    * rng : [optional] random number generator from np.random\n",
        "  output:\n",
        "    k singular vector/value pairs. \n",
        "    * U : a matrix whose columns are approximate top left singular vectors for A\n",
        "    * S : a diagonal matrix whose entries are A's approximate top singular values\n",
        "    * Vh : a matrix whose rows are approximate top right singular vectors for A\n",
        "    [Note: Vh is V.T, following np.linalg.svd convention; this is the transpose\n",
        "     of the Matlab svd convention ]\n",
        "\n",
        "    U*S*V' is a near optimal rank-k approximation for A\n",
        "\n",
        "    based on Christopher Musco's Matlab code at\n",
        "    https://github.com/cpmusco/bksvd/blob/master/sisvd.m\n",
        "\n",
        "    TODO: (efficiently) transpose if m << n\n",
        "  \"\"\"\n",
        "  m,n = A.shape\n",
        "  if k > m or k > n:\n",
        "    raise ValueError(\"k must be smaller than m,n\")\n",
        "  iter = int(iter)\n",
        "  if iter < 1:\n",
        "    raise ValueError(\"iter must be 1 or larger\")\n",
        "  if bsize is None:\n",
        "    bsize = k\n",
        "  bsize = int(bsize)\n",
        "  if bsize < k:\n",
        "    raise ValueError(\"bsize must be at least k\")\n",
        "  \n",
        "  Y = np.zeros( (n,bsize*iter) )\n",
        "\n",
        "  Omega   = rng.standard_normal( (n,bsize) )\n",
        "  Omega   = QR(Omega)\n",
        "\n",
        "  for i in range(iter):\n",
        "    Omega = A.T@( A@Omega )\n",
        "    Omega = QR(Omega)\n",
        "  \n",
        "  T   = A@Omega\n",
        "\n",
        "  Ut,st,Vt_h = np.linalg.svd( T, full_matrices=False, compute_uv=True)\n",
        "  s   = st[:k]\n",
        "  U   = Ut[:,:k]\n",
        "  Vh  = Vt_h[:k,:]@Omega.T\n",
        "  return U, s, Vh"
      ],
      "execution_count": 30,
      "outputs": []
    },
    {
      "cell_type": "markdown",
      "metadata": {
        "id": "ABD9RpyYOIWz"
      },
      "source": [
        "### Some test matrices to find SVD of"
      ]
    },
    {
      "cell_type": "code",
      "metadata": {
        "id": "r9rySlU1GlKb"
      },
      "source": [
        "M, N = int(8e3), int(5e3)\n",
        "# M, N = 50, 50  # for error checking\n",
        "\n",
        "A   = rng.standard_normal( (M,N) )@np.diag(np.logspace(0,3,N))@(\n",
        "    rng.standard_normal((N,N) ) + 0.1*np.eye(N) )"
      ],
      "execution_count": 41,
      "outputs": []
    },
    {
      "cell_type": "markdown",
      "metadata": {
        "id": "aXN_Q7KOOK-P"
      },
      "source": [
        "Use a standard dense SVD for accuracy baseline"
      ]
    },
    {
      "cell_type": "code",
      "metadata": {
        "colab": {
          "base_uri": "https://localhost:8080/"
        },
        "id": "kLJXVhv_GxnU",
        "outputId": "8017e67b-aa14-4f1c-cb4b-6a37c5985d60"
      },
      "source": [
        "%time U,s,Vh = np.linalg.svd( A, full_matrices=False)"
      ],
      "execution_count": 42,
      "outputs": [
        {
          "output_type": "stream",
          "name": "stdout",
          "text": [
            "CPU times: user 5min 36s, sys: 9.12 s, total: 5min 45s\n",
            "Wall time: 2min 58s\n"
          ]
        }
      ]
    },
    {
      "cell_type": "markdown",
      "metadata": {
        "id": "CpS4Z-rOOPdO"
      },
      "source": [
        "Compare the 2 randomized methods as well as a standard Lanczos-based iterative method from `scipy`:"
      ]
    },
    {
      "cell_type": "code",
      "metadata": {
        "colab": {
          "base_uri": "https://localhost:8080/"
        },
        "id": "yJehjBUUHE8o",
        "outputId": "5cc6825c-5e0a-4f9a-a4bf-a496ad1693ea"
      },
      "source": [
        "k   = 5\n",
        "q   = 20  # number of subspace/Lanczos iterations\n",
        "\n",
        "print('-- top k sing. values using classical methods --')\n",
        "with np.printoptions(precision=2,suppress=True):\n",
        "  print(s[:k])\n",
        "\n",
        "print(f'\\n-- using randomized block Lanczos --')\n",
        "%time UU,ss,VVh = bksvd(A,k,iter=q)\n",
        "with np.printoptions(precision=2,suppress=True):\n",
        "  print(ss)\n",
        "  print( UU.T@U[:,:k] )\n",
        "  print( VVh@Vh.T[:,:k] )\n",
        "\n",
        "print(f'\\n-- using randomized subspace iteration --')\n",
        "%time UU,ss,VVh = sisvd(A,k,iter=q)\n",
        "with np.printoptions(precision=2,suppress=True):\n",
        "  print(ss)\n",
        "  print( UU.T@U[:,:k] )\n",
        "  print( VVh@Vh.T[:,:k] )\n",
        "\n",
        "print(f'\\n-- using non-randomized non-block Lanczos --')\n",
        "%time UU,ss,VVh = scipy.sparse.linalg.svds(A, k )\n",
        "with np.printoptions(precision=2,suppress=True):\n",
        "  print(ss)\n",
        "  print( UU.T@U[:,:k] )\n",
        "  print( VVh@Vh.T[:,:k] )"
      ],
      "execution_count": 47,
      "outputs": [
        {
          "output_type": "stream",
          "name": "stdout",
          "text": [
            "-- top k sing. values using classical methods --\n",
            "[7521984.64 7465124.83 7438533.37 7365519.38 7332619.27]\n",
            "\n",
            "-- using randomized block Lanczos --\n",
            "CPU times: user 13.7 s, sys: 1.09 s, total: 14.8 s\n",
            "Wall time: 7.68 s\n",
            "[7521984.63 7465124.76 7438532.94 7365324.03 7332578.48]\n",
            "[[ 1.  0. -0. -0.  0.]\n",
            " [ 0. -1.  0. -0.  0.]\n",
            " [ 0.  0.  1. -0. -0.]\n",
            " [-0.  0. -0. -1. -0.]\n",
            " [ 0. -0. -0.  0. -1.]]\n",
            "[[ 1.  0. -0. -0.  0.]\n",
            " [ 0. -1.  0. -0.  0.]\n",
            " [ 0.  0.  1. -0. -0.]\n",
            " [-0.  0. -0. -1. -0.]\n",
            " [ 0. -0. -0.  0. -1.]]\n",
            "\n",
            "-- using randomized subspace iteration --\n",
            "CPU times: user 12.2 s, sys: 969 ms, total: 13.2 s\n",
            "Wall time: 6.73 s\n",
            "[7506730.69 7411573.78 7400905.07 7295638.22 7182102.18]\n",
            "[[-0.96 -0.05  0.17 -0.   -0.06]\n",
            " [ 0.03  0.64  0.6   0.12  0.27]\n",
            " [-0.1   0.54 -0.64  0.05  0.31]\n",
            " [-0.02 -0.01 -0.03 -0.66  0.28]\n",
            " [ 0.07  0.03  0.11  0.15 -0.19]]\n",
            "[[-0.96 -0.06  0.18 -0.   -0.06]\n",
            " [ 0.03  0.64  0.6   0.12  0.27]\n",
            " [-0.1   0.53 -0.64  0.06  0.31]\n",
            " [-0.02 -0.01 -0.03 -0.66  0.28]\n",
            " [ 0.07  0.02  0.11  0.14 -0.18]]\n",
            "\n",
            "-- using non-randomized non-block Lanczos --\n",
            "CPU times: user 19.6 s, sys: 12.4 s, total: 32 s\n",
            "Wall time: 16.5 s\n",
            "[7332619.27 7365519.38 7438533.37 7465124.83 7521984.64]\n",
            "[[ 0. -0. -0. -0. -1.]\n",
            " [-0. -0.  0.  1. -0.]\n",
            " [ 0.  0. -1.  0.  0.]\n",
            " [ 0.  1.  0.  0. -0.]\n",
            " [ 1. -0.  0.  0.  0.]]\n",
            "[[ 0. -0. -0. -0. -1.]\n",
            " [-0. -0.  0.  1. -0.]\n",
            " [ 0.  0. -1.  0.  0.]\n",
            " [ 0.  1.  0.  0. -0.]\n",
            " [ 1. -0.  0.  0.  0.]]\n"
          ]
        }
      ]
    },
    {
      "cell_type": "code",
      "metadata": {
        "id": "zoYazT1BJuiL"
      },
      "source": [
        ""
      ],
      "execution_count": null,
      "outputs": []
    }
  ]
}