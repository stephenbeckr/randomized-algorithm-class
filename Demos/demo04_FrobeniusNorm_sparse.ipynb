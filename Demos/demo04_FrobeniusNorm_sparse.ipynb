{
  "nbformat": 4,
  "nbformat_minor": 0,
  "metadata": {
    "colab": {
      "name": "demo03_FrobeniusNorm.ipynb",
      "provenance": [],
      "authorship_tag": "ABX9TyMq2kbwj5Cs2vzmvyFwLjqE",
      "include_colab_link": true
    },
    "kernelspec": {
      "name": "python3",
      "display_name": "Python 3"
    },
    "language_info": {
      "name": "python"
    }
  },
  "cells": [
    {
      "cell_type": "markdown",
      "metadata": {
        "id": "view-in-github",
        "colab_type": "text"
      },
      "source": [
        "<a href=\"https://colab.research.google.com/github/stephenbeckr/randomized-algorithm-class/blob/master/Demos/demo04_FrobeniusNorm_sparse.ipynb\" target=\"_parent\"><img src=\"https://colab.research.google.com/assets/colab-badge.svg\" alt=\"Open In Colab\"/></a>"
      ]
    },
    {
      "cell_type": "markdown",
      "metadata": {
        "id": "RojslPeDFSWI"
      },
      "source": [
        "# Demo 4: calculating the Frobenius norm, looping over rows vs columns, **sparse** matrices\n",
        "\n",
        "Demonstrates effect of stride length, and row- or column-based storage\n",
        "\n",
        "This is similar to Demo 3, but now with sparse matrices, not dense matrices\n",
        "\n",
        "Stephen Becker, Aug 2021, APPM 5650 Randomized Algorithms, University of Colorado Boulder"
      ]
    },
    {
      "cell_type": "code",
      "metadata": {
        "id": "NfqPCp2PBtKj"
      },
      "source": [
        "import numpy as np\n",
        "import scipy.sparse\n",
        "import scipy.sparse.linalg\n",
        "rng = np.random.default_rng(12345)"
      ],
      "execution_count": 1,
      "outputs": []
    },
    {
      "cell_type": "code",
      "metadata": {
        "id": "y37x6bdACOqq"
      },
      "source": [
        "def FrobeniusNormByRow(A, use_blas = True):\n",
        "  \"\"\" Outer loop over rows (inner loop over columns) \"\"\"\n",
        "  if scipy.sparse.issparse(A) and use_blas:\n",
        "    norm = scipy.sparse.linalg.norm\n",
        "  else:\n",
        "    norm = np.linalg.norm\n",
        "  m,n = A.shape\n",
        "  nrm = 0.\n",
        "  if use_blas:\n",
        "    for row in range(m):\n",
        "      nrm += norm( A[row,:] )**2  # this is Euclidean norm, not Frobenius\n",
        "  elif scipy.sparse.issparse(A):\n",
        "    for row in range(m):\n",
        "      _,_,v = scipy.sparse.find(A[row,:])\n",
        "      for vi in v:\n",
        "        nrm += vi**2\n",
        "  else:\n",
        "    for row in range(m):\n",
        "      for col in range(n):\n",
        "        nrm += A[row,col]**2\n",
        "  return np.sqrt(nrm)\n",
        "\n",
        "def FrobeniusNormByColumn(A, use_blas = True):\n",
        "  \"\"\" Outer loop over columns (inner loop over rows) \"\"\"\n",
        "  if scipy.sparse.issparse(A) and use_blas:\n",
        "    norm = scipy.sparse.linalg.norm\n",
        "  else:\n",
        "    norm = np.linalg.norm\n",
        "  m,n = A.shape\n",
        "  nrm = 0.\n",
        "  if use_blas:\n",
        "    for col in range(n):\n",
        "      nrm += norm( A[:,col] )**2  # this is Euclidean norm, not Frobenius\n",
        "  elif scipy.sparse.issparse(A):\n",
        "    for col in range(n):\n",
        "      _,_,v = scipy.sparse.find(A[:,col])\n",
        "      for vi in v:\n",
        "        nrm += vi**2\n",
        "  else:\n",
        "    for col in range(n):\n",
        "      for row in range(m):\n",
        "        nrm += A[row,col]**2\n",
        "  return np.sqrt(nrm)"
      ],
      "execution_count": null,
      "outputs": []
    },
    {
      "cell_type": "markdown",
      "metadata": {
        "id": "oWBT6c9rEkGd"
      },
      "source": [
        "#### Run some experiments"
      ]
    },
    {
      "cell_type": "code",
      "metadata": {
        "id": "lPX-0wH6CB__"
      },
      "source": [
        "n   = int(1e4)\n",
        "m   = n\n",
        "density   = 0.01\n",
        "\n",
        "A   = scipy.sparse.random( m, n, density, format='csc') # Compressed Sparse Column"
      ],
      "execution_count": null,
      "outputs": []
    },
    {
      "cell_type": "code",
      "metadata": {
        "id": "q-_1Dmi9-PRS",
        "colab": {
          "base_uri": "https://localhost:8080/"
        },
        "outputId": "957cd93b-a58a-48a2-869c-75fac09a4df5"
      },
      "source": [
        "# %time nrm = np.linalg.norm(A) # doesn't work if A is sparse\n",
        "%time nrm = scipy.sparse.linalg.norm(A) # use this instead\n",
        "print(f'The true norm is {nrm:.6e}')"
      ],
      "execution_count": null,
      "outputs": [
        {
          "output_type": "stream",
          "text": [
            "CPU times: user 5.96 ms, sys: 52 µs, total: 6.02 ms\n",
            "Wall time: 6.59 ms\n",
            "The true norm is 5.769165e+02\n"
          ],
          "name": "stdout"
        }
      ]
    },
    {
      "cell_type": "code",
      "metadata": {
        "colab": {
          "base_uri": "https://localhost:8080/"
        },
        "id": "oAfXR-rSClJ8",
        "outputId": "0ce3aea2-feaa-48b0-ebb0-4b2544996e6f"
      },
      "source": [
        "%time nrmRow = FrobeniusNormByRow(A, use_blas = True)\n",
        "print(f'Looping over rows, the discrepancy in the norm is {nrmRow-nrm:.8e}')"
      ],
      "execution_count": null,
      "outputs": [
        {
          "output_type": "stream",
          "text": [
            "CPU times: user 34.8 s, sys: 16.8 ms, total: 34.8 s\n",
            "Wall time: 34.7 s\n",
            "Looping over rows, the discrepancy in the norm is 5.68434189e-13\n"
          ],
          "name": "stdout"
        }
      ]
    },
    {
      "cell_type": "code",
      "metadata": {
        "colab": {
          "base_uri": "https://localhost:8080/"
        },
        "id": "8rzsXn1FCn4L",
        "outputId": "e2833b8d-ab90-4da5-ece7-26e543c88518"
      },
      "source": [
        "%time nrmRow = FrobeniusNormByColumn(A, use_blas = True)\n",
        "print(f'Looping over columns, the discrepancy in the norm is {nrmRow-nrm:.8e}')"
      ],
      "execution_count": null,
      "outputs": [
        {
          "output_type": "stream",
          "text": [
            "CPU times: user 2.99 s, sys: 9.95 ms, total: 3 s\n",
            "Wall time: 3 s\n",
            "Looping over columns, the discrepancy in the norm is -1.13686838e-13\n"
          ],
          "name": "stdout"
        }
      ]
    },
    {
      "cell_type": "markdown",
      "metadata": {
        "id": "aOCZbKZHEVkW"
      },
      "source": [
        "### Repeat the experiment without using BLAS\n",
        "Let's make the matrix smaller so we don't have to wait so long\n",
        "\n",
        "Here there is less difference, because there's already a lot of overhead just due to the `for` loop (since Python isn't compiled)"
      ]
    },
    {
      "cell_type": "code",
      "metadata": {
        "colab": {
          "base_uri": "https://localhost:8080/"
        },
        "id": "vN2AitEPDYaT",
        "outputId": "79ee1f6a-2f41-4887-e868-8e262c34ed85"
      },
      "source": [
        "n   = int(4e3)\n",
        "m   = n\n",
        "density   = 0.02\n",
        "\n",
        "A   = scipy.sparse.random( m, n, density, format='csc') # Compressed Sparse Column\n",
        "\n",
        "# %time nrm = np.linalg.norm(A) # doesn't work if A is sparse\n",
        "%time nrm = scipy.sparse.linalg.norm(A) # use this instead\n",
        "print(f'The true norm is {nrm-n:.6f} + ', n)"
      ],
      "execution_count": null,
      "outputs": [
        {
          "output_type": "stream",
          "text": [
            "CPU times: user 2.58 ms, sys: 24 µs, total: 2.61 ms\n",
            "Wall time: 2.62 ms\n",
            "The true norm is -3673.326477 +  4000\n"
          ],
          "name": "stdout"
        }
      ]
    },
    {
      "cell_type": "code",
      "metadata": {
        "colab": {
          "base_uri": "https://localhost:8080/"
        },
        "id": "-jWTJsKIEwaE",
        "outputId": "cb79cc60-efe1-4632-9376-c1431cb3d843"
      },
      "source": [
        "%time nrmRow = FrobeniusNormByRow(A, use_blas = True)\n",
        "print(f'Looping over rows, the discrepancy in the norm is {nrmRow-nrm:.8e}')\n",
        "\n",
        "%time nrmRow = FrobeniusNormByRow(A, use_blas = False)\n",
        "print(f'Looping over rows (no BLAS), the discrepancy in the norm is {nrmRow-nrm:.8e}')"
      ],
      "execution_count": null,
      "outputs": [
        {
          "output_type": "stream",
          "text": [
            "CPU times: user 5.48 s, sys: 2.17 ms, total: 5.49 s\n",
            "Wall time: 5.48 s\n",
            "Looping over rows, the discrepancy in the norm is 2.27373675e-13\n",
            "CPU times: user 5.43 s, sys: 3.25 ms, total: 5.43 s\n",
            "Wall time: 5.43 s\n",
            "Looping over rows (no BLAS), the discrepancy in the norm is 1.19371180e-12\n"
          ],
          "name": "stdout"
        }
      ]
    },
    {
      "cell_type": "code",
      "metadata": {
        "colab": {
          "base_uri": "https://localhost:8080/"
        },
        "id": "ryB36awVE0N8",
        "outputId": "76e386d3-6e73-409b-d48b-ee6ebfec7a08"
      },
      "source": [
        "%time nrmRow = FrobeniusNormByColumn(A, use_blas = True)\n",
        "print(f'Looping over columns, the discrepancy in the norm is {nrmRow-nrm:.8e}')\n",
        "\n",
        "%time nrmRow = FrobeniusNormByColumn(A, use_blas = False)\n",
        "print(f'Looping over columns (no BLAS), the discrepancy in the norm is {nrmRow-nrm:.8e}')"
      ],
      "execution_count": null,
      "outputs": [
        {
          "output_type": "stream",
          "text": [
            "CPU times: user 1.42 s, sys: 49.9 ms, total: 1.47 s\n",
            "Wall time: 1.4 s\n",
            "Looping over columns, the discrepancy in the norm is 1.70530257e-13\n",
            "CPU times: user 1.31 s, sys: 30.7 ms, total: 1.34 s\n",
            "Wall time: 1.31 s\n",
            "Looping over columns (no BLAS), the discrepancy in the norm is 6.25277607e-13\n"
          ],
          "name": "stdout"
        }
      ]
    },
    {
      "cell_type": "markdown",
      "metadata": {
        "id": "16RVNfVouBUg"
      },
      "source": [
        "## Column vs row access, and tricks\n",
        "\n",
        "First, let's discuss copies:"
      ]
    },
    {
      "cell_type": "code",
      "metadata": {
        "id": "1_qbYnswE4Vu",
        "outputId": "dd959a0a-8aad-4263-dade-d3347f02153b",
        "colab": {
          "base_uri": "https://localhost:8080/"
        }
      },
      "source": [
        "n   = int(1e1)\n",
        "m   = n\n",
        "density   = 0.01\n",
        "\n",
        "A   = scipy.sparse.random( m, n, density, format='csc') # Compressed Sparse Column\n",
        "#print( A.toarray() ) # see it in dense format\n",
        "# B   = A.T\n",
        "B   = A.T.copy()  # this *does* make a copy (btw, np.copy(A.T) doesn't work here)\n",
        "\n",
        "# First lesson: be aware that B = A.T does *not* copy A\n",
        "# so if you change B, then A will change too.\n",
        "\n",
        "I,J,vals = scipy.sparse.find(B)\n",
        "#print( I,J,vals )\n",
        "if len(I) < 1:\n",
        "  raise ValueError('Too sparse!! Try again')\n",
        "elif n <= 1e2:\n",
        "  i,j = I[0], J[0]\n",
        "  print(f'\\n\\nOriginal:')\n",
        "  print( \"Value of A.T(i,j) is\", B[i,j], 'and A(j,i) is', A[j,i] )\n",
        "  B[i,j] = 99\n",
        "  print(f'\\nNow, after update of B:')\n",
        "  print( \"Value of A.T(i,j) is\", B[i,j], 'and A(j,i) is', A[j,i] )"
      ],
      "execution_count": 31,
      "outputs": [
        {
          "output_type": "stream",
          "text": [
            "\n",
            "\n",
            "Original:\n",
            "Value of A.T(i,j) is 0.8236178299837936 and A(j,i) is 0.8236178299837936\n",
            "\n",
            "Now, after update of B:\n",
            "Value of A.T(i,j) is 99.0 and A(j,i) is 0.8236178299837936\n"
          ],
          "name": "stdout"
        }
      ]
    },
    {
      "cell_type": "markdown",
      "metadata": {
        "id": "8yW7Ba9oz8_J"
      },
      "source": [
        "Ok, now look into some row-based operation, such as recording the sparsity of each row.\n",
        "\n",
        "Since we have a `csc` matrix, we'd expect this operation to be quite slow"
      ]
    },
    {
      "cell_type": "code",
      "metadata": {
        "id": "v2ccmm6s06Pp"
      },
      "source": [
        "n   = int(1e4)\n",
        "m   = n\n",
        "density   = 0.01\n",
        "\n",
        "A   = scipy.sparse.random( m, n, density, format='csc') "
      ],
      "execution_count": null,
      "outputs": []
    },
    {
      "cell_type": "code",
      "metadata": {
        "id": "4JVzGagmuPF9",
        "outputId": "87b78031-76a7-4e62-cec1-27aba7b02c37",
        "colab": {
          "base_uri": "https://localhost:8080/"
        }
      },
      "source": [
        "# Let's do something row-based, like find the sparsity of each row\n",
        "rowNNZs = np.zeros(m)\n",
        "%time for row in range(m): _,_,vals = scipy.sparse.find(A[row,:]); rowNNZs[row] = len(vals)"
      ],
      "execution_count": 44,
      "outputs": [
        {
          "output_type": "stream",
          "text": [
            "CPU times: user 38.4 s, sys: 21.9 ms, total: 38.4 s\n",
            "Wall time: 38.3 s\n"
          ],
          "name": "stdout"
        }
      ]
    },
    {
      "cell_type": "markdown",
      "metadata": {
        "id": "rqaruLT60Gt1"
      },
      "source": [
        "For comparison, if we wanted to find the sparsity of each **column**, that'd be faster:"
      ]
    },
    {
      "cell_type": "code",
      "metadata": {
        "id": "t-cx38Hq0Ll1",
        "outputId": "a7a7ffce-0087-486c-c13b-1fda4f9d92ec",
        "colab": {
          "base_uri": "https://localhost:8080/"
        }
      },
      "source": [
        "# Same as above, but for columns\n",
        "colNNZs = np.zeros(n)\n",
        "%time for col in range(m): _,_,vals = scipy.sparse.find(A[:,col]); colNNZs[col] = len(vals)"
      ],
      "execution_count": 45,
      "outputs": [
        {
          "output_type": "stream",
          "text": [
            "CPU times: user 2.55 s, sys: 46.7 ms, total: 2.6 s\n",
            "Wall time: 2.56 s\n"
          ],
          "name": "stdout"
        }
      ]
    },
    {
      "cell_type": "markdown",
      "metadata": {
        "id": "9drNb86M0MuN"
      },
      "source": [
        "So, for the row-based operation, let's do a column-based operation on the transpose of the matrix.  To be fair, we'll include the time it takes to make the transpose.  If we can afford the memory, this can be a very nice trick.  This is especially useful if we can re-use this later (and amortize the cost of the transpose)."
      ]
    },
    {
      "cell_type": "code",
      "metadata": {
        "id": "VKWrVd8xyhZy",
        "outputId": "1c935070-c073-43b4-bcd1-c1ca7eb5d344",
        "colab": {
          "base_uri": "https://localhost:8080/"
        }
      },
      "source": [
        "%%time\n",
        "# Try this column-based on the transpose\n",
        "rowNNZs_ver2 = np.zeros(m)\n",
        "\n",
        "B   = A.T  # we are including the time it takes to do this\n",
        "for row in range(m): \n",
        "  _,_,vals = scipy.sparse.find(B[:,row])\n",
        "  rowNNZs_ver2[row] = len(vals)"
      ],
      "execution_count": 46,
      "outputs": [
        {
          "output_type": "stream",
          "text": [
            "CPU times: user 38.6 s, sys: 31.3 ms, total: 38.6 s\n",
            "Wall time: 38.5 s\n"
          ],
          "name": "stdout"
        }
      ]
    },
    {
      "cell_type": "code",
      "metadata": {
        "id": "UphbRKn7zATh",
        "outputId": "02744878-208b-4d0b-85ac-d9ba2ab5a5be",
        "colab": {
          "base_uri": "https://localhost:8080/"
        }
      },
      "source": [
        "# And check that we got the same answers\n",
        "np.linalg.norm( rowNNZs - rowNNZs_ver2)"
      ],
      "execution_count": 47,
      "outputs": [
        {
          "output_type": "execute_result",
          "data": {
            "text/plain": [
              "0.0"
            ]
          },
          "metadata": {},
          "execution_count": 47
        }
      ]
    },
    {
      "cell_type": "markdown",
      "metadata": {
        "id": "00UU590v1NCQ"
      },
      "source": [
        "So we see that in this example, it was about the same time to make the transpose and access that via columns.  If we can re-use this transpose later on, then we can access its columns in a matter of a few seconds, rather than 30 seconds"
      ]
    }
  ]
}