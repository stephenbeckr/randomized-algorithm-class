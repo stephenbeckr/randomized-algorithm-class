{
  "nbformat": 4,
  "nbformat_minor": 0,
  "metadata": {
    "colab": {
      "name": "demo03_FrobeniusNorm.ipynb",
      "provenance": [],
      "authorship_tag": "ABX9TyOzSgpd8Iayo+aKamKWFg7U",
      "include_colab_link": true
    },
    "kernelspec": {
      "name": "python3",
      "display_name": "Python 3"
    },
    "language_info": {
      "name": "python"
    }
  },
  "cells": [
    {
      "cell_type": "markdown",
      "metadata": {
        "id": "view-in-github",
        "colab_type": "text"
      },
      "source": [
        "<a href=\"https://colab.research.google.com/github/stephenbeckr/randomized-algorithm-class/blob/master/Demos/demo04_FrobeniusNorm_sparse.ipynb\" target=\"_parent\"><img src=\"https://colab.research.google.com/assets/colab-badge.svg\" alt=\"Open In Colab\"/></a>"
      ]
    },
    {
      "cell_type": "markdown",
      "metadata": {
        "id": "RojslPeDFSWI"
      },
      "source": [
        "# Demo 4: calculating the Frobenius norm, looping over rows vs columns, **sparse** matrices\n",
        "\n",
        "Demonstrates effect of stride length, and row- or column-based storage\n",
        "\n",
        "This is similar to Demo 3, but now with sparse matrices, not dense matrices\n",
        "\n",
        "Stephen Becker, Aug 2021, APPM 5650 Randomized Algorithms, University of Colorado Boulder"
      ]
    },
    {
      "cell_type": "code",
      "metadata": {
        "id": "NfqPCp2PBtKj"
      },
      "source": [
        "import numpy as np\n",
        "import scipy.sparse\n",
        "import scipy.sparse.linalg\n",
        "rng = np.random.default_rng(12345)"
      ],
      "execution_count": 6,
      "outputs": []
    },
    {
      "cell_type": "code",
      "metadata": {
        "id": "y37x6bdACOqq"
      },
      "source": [
        "def FrobeniusNormByRow(A, use_blas = True):\n",
        "  \"\"\" Outer loop over rows (inner loop over columns) \"\"\"\n",
        "  if scipy.sparse.issparse(A) and use_blas:\n",
        "    norm = scipy.sparse.linalg.norm\n",
        "  else:\n",
        "    norm = np.linalg.norm\n",
        "  m,n = A.shape\n",
        "  nrm = 0.\n",
        "  if use_blas:\n",
        "    for row in range(m):\n",
        "      nrm += norm( A[row,:] )**2  # this is Euclidean norm, not Frobenius\n",
        "  elif scipy.sparse.issparse(A):\n",
        "    for row in range(m):\n",
        "      _,_,v = scipy.sparse.find(A[row,:])\n",
        "      for vi in v:\n",
        "        nrm += vi**2\n",
        "  else:\n",
        "    for row in range(m):\n",
        "      for col in range(n):\n",
        "        nrm += A[row,col]**2\n",
        "  return np.sqrt(nrm)\n",
        "\n",
        "def FrobeniusNormByColumn(A, use_blas = True):\n",
        "  \"\"\" Outer loop over columns (inner loop over rows) \"\"\"\n",
        "  if scipy.sparse.issparse(A) and use_blas:\n",
        "    norm = scipy.sparse.linalg.norm\n",
        "  else:\n",
        "    norm = np.linalg.norm\n",
        "  m,n = A.shape\n",
        "  nrm = 0.\n",
        "  if use_blas:\n",
        "    for col in range(n):\n",
        "      nrm += norm( A[:,col] )**2  # this is Euclidean norm, not Frobenius\n",
        "  elif scipy.sparse.issparse(A):\n",
        "    for col in range(n):\n",
        "      _,_,v = scipy.sparse.find(A[:,col])\n",
        "      for vi in v:\n",
        "        nrm += vi**2\n",
        "  else:\n",
        "    for col in range(n):\n",
        "      for row in range(m):\n",
        "        nrm += A[row,col]**2\n",
        "  return np.sqrt(nrm)"
      ],
      "execution_count": 34,
      "outputs": []
    },
    {
      "cell_type": "markdown",
      "metadata": {
        "id": "oWBT6c9rEkGd"
      },
      "source": [
        "#### Run some experiments"
      ]
    },
    {
      "cell_type": "code",
      "metadata": {
        "id": "lPX-0wH6CB__"
      },
      "source": [
        "n   = int(1e4)\n",
        "m   = n\n",
        "density   = 0.01\n",
        "\n",
        "A   = scipy.sparse.random( m, n, density, format='csc') # Compressed Sparse Column"
      ],
      "execution_count": 4,
      "outputs": []
    },
    {
      "cell_type": "code",
      "metadata": {
        "id": "q-_1Dmi9-PRS",
        "outputId": "957cd93b-a58a-48a2-869c-75fac09a4df5",
        "colab": {
          "base_uri": "https://localhost:8080/"
        }
      },
      "source": [
        "# %time nrm = np.linalg.norm(A) # doesn't work if A is sparse\n",
        "%time nrm = scipy.sparse.linalg.norm(A) # use this instead\n",
        "print(f'The true norm is {nrm:.6e}')"
      ],
      "execution_count": 15,
      "outputs": [
        {
          "output_type": "stream",
          "text": [
            "CPU times: user 5.96 ms, sys: 52 µs, total: 6.02 ms\n",
            "Wall time: 6.59 ms\n",
            "The true norm is 5.769165e+02\n"
          ],
          "name": "stdout"
        }
      ]
    },
    {
      "cell_type": "code",
      "metadata": {
        "colab": {
          "base_uri": "https://localhost:8080/"
        },
        "id": "oAfXR-rSClJ8",
        "outputId": "0ce3aea2-feaa-48b0-ebb0-4b2544996e6f"
      },
      "source": [
        "%time nrmRow = FrobeniusNormByRow(A, use_blas = True)\n",
        "print(f'Looping over rows, the discrepancy in the norm is {nrmRow-nrm:.8e}')"
      ],
      "execution_count": 24,
      "outputs": [
        {
          "output_type": "stream",
          "text": [
            "CPU times: user 34.8 s, sys: 16.8 ms, total: 34.8 s\n",
            "Wall time: 34.7 s\n",
            "Looping over rows, the discrepancy in the norm is 5.68434189e-13\n"
          ],
          "name": "stdout"
        }
      ]
    },
    {
      "cell_type": "code",
      "metadata": {
        "colab": {
          "base_uri": "https://localhost:8080/"
        },
        "id": "8rzsXn1FCn4L",
        "outputId": "e2833b8d-ab90-4da5-ece7-26e543c88518"
      },
      "source": [
        "%time nrmRow = FrobeniusNormByColumn(A, use_blas = True)\n",
        "print(f'Looping over columns, the discrepancy in the norm is {nrmRow-nrm:.8e}')"
      ],
      "execution_count": 29,
      "outputs": [
        {
          "output_type": "stream",
          "text": [
            "CPU times: user 2.99 s, sys: 9.95 ms, total: 3 s\n",
            "Wall time: 3 s\n",
            "Looping over columns, the discrepancy in the norm is -1.13686838e-13\n"
          ],
          "name": "stdout"
        }
      ]
    },
    {
      "cell_type": "markdown",
      "metadata": {
        "id": "aOCZbKZHEVkW"
      },
      "source": [
        "### Repeat the experiment without using BLAS\n",
        "Let's make the matrix smaller so we don't have to wait so long\n",
        "\n",
        "Here there is less difference, because there's already a lot of overhead just due to the `for` loop (since Python isn't compiled)"
      ]
    },
    {
      "cell_type": "code",
      "metadata": {
        "colab": {
          "base_uri": "https://localhost:8080/"
        },
        "id": "vN2AitEPDYaT",
        "outputId": "79ee1f6a-2f41-4887-e868-8e262c34ed85"
      },
      "source": [
        "n   = int(4e3)\n",
        "m   = n\n",
        "density   = 0.02\n",
        "\n",
        "A   = scipy.sparse.random( m, n, density, format='csc') # Compressed Sparse Column\n",
        "\n",
        "# %time nrm = np.linalg.norm(A) # doesn't work if A is sparse\n",
        "%time nrm = scipy.sparse.linalg.norm(A) # use this instead\n",
        "print(f'The true norm is {nrm-n:.6f} + ', n)"
      ],
      "execution_count": 40,
      "outputs": [
        {
          "output_type": "stream",
          "text": [
            "CPU times: user 2.58 ms, sys: 24 µs, total: 2.61 ms\n",
            "Wall time: 2.62 ms\n",
            "The true norm is -3673.326477 +  4000\n"
          ],
          "name": "stdout"
        }
      ]
    },
    {
      "cell_type": "code",
      "metadata": {
        "colab": {
          "base_uri": "https://localhost:8080/"
        },
        "id": "-jWTJsKIEwaE",
        "outputId": "cb79cc60-efe1-4632-9376-c1431cb3d843"
      },
      "source": [
        "%time nrmRow = FrobeniusNormByRow(A, use_blas = True)\n",
        "print(f'Looping over rows, the discrepancy in the norm is {nrmRow-nrm:.8e}')\n",
        "\n",
        "%time nrmRow = FrobeniusNormByRow(A, use_blas = False)\n",
        "print(f'Looping over rows (no BLAS), the discrepancy in the norm is {nrmRow-nrm:.8e}')"
      ],
      "execution_count": 41,
      "outputs": [
        {
          "output_type": "stream",
          "text": [
            "CPU times: user 5.48 s, sys: 2.17 ms, total: 5.49 s\n",
            "Wall time: 5.48 s\n",
            "Looping over rows, the discrepancy in the norm is 2.27373675e-13\n",
            "CPU times: user 5.43 s, sys: 3.25 ms, total: 5.43 s\n",
            "Wall time: 5.43 s\n",
            "Looping over rows (no BLAS), the discrepancy in the norm is 1.19371180e-12\n"
          ],
          "name": "stdout"
        }
      ]
    },
    {
      "cell_type": "code",
      "metadata": {
        "colab": {
          "base_uri": "https://localhost:8080/"
        },
        "id": "ryB36awVE0N8",
        "outputId": "76e386d3-6e73-409b-d48b-ee6ebfec7a08"
      },
      "source": [
        "%time nrmRow = FrobeniusNormByColumn(A, use_blas = True)\n",
        "print(f'Looping over columns, the discrepancy in the norm is {nrmRow-nrm:.8e}')\n",
        "\n",
        "%time nrmRow = FrobeniusNormByColumn(A, use_blas = False)\n",
        "print(f'Looping over columns (no BLAS), the discrepancy in the norm is {nrmRow-nrm:.8e}')"
      ],
      "execution_count": 42,
      "outputs": [
        {
          "output_type": "stream",
          "text": [
            "CPU times: user 1.42 s, sys: 49.9 ms, total: 1.47 s\n",
            "Wall time: 1.4 s\n",
            "Looping over columns, the discrepancy in the norm is 1.70530257e-13\n",
            "CPU times: user 1.31 s, sys: 30.7 ms, total: 1.34 s\n",
            "Wall time: 1.31 s\n",
            "Looping over columns (no BLAS), the discrepancy in the norm is 6.25277607e-13\n"
          ],
          "name": "stdout"
        }
      ]
    },
    {
      "cell_type": "code",
      "metadata": {
        "id": "1_qbYnswE4Vu"
      },
      "source": [
        ""
      ],
      "execution_count": null,
      "outputs": []
    }
  ]
}